{
  "nbformat": 4,
  "nbformat_minor": 0,
  "metadata": {
    "colab": {
      "name": "LinkAnalysis.ipynb",
      "provenance": [],
      "collapsed_sections": []
    },
    "kernelspec": {
      "name": "python3",
      "display_name": "Python 3"
    },
    "language_info": {
      "name": "python"
    }
  },
  "cells": [
    {
      "cell_type": "markdown",
      "metadata": {
        "id": "-b6MbXnIiuh7"
      },
      "source": [
        "I had to install networkx 2.5 because the version 2.6 (released in july and adopted by Colab in mid-August) changes the implementation of harmonic centrality modifying the score of the nodes that I had already computed."
      ]
    },
    {
      "cell_type": "code",
      "metadata": {
        "colab": {
          "base_uri": "https://localhost:8080/"
        },
        "id": "qJnwkO4QgQG0",
        "outputId": "10aef12e-c933-4955-87b9-be41a32448af"
      },
      "source": [
        "!pip install networkx==2.5"
      ],
      "execution_count": 1,
      "outputs": [
        {
          "output_type": "stream",
          "text": [
            "Collecting networkx==2.5\n",
            "  Downloading networkx-2.5-py3-none-any.whl (1.6 MB)\n",
            "\u001b[?25l\r\u001b[K     |▏                               | 10 kB 27.3 MB/s eta 0:00:01\r\u001b[K     |▍                               | 20 kB 30.6 MB/s eta 0:00:01\r\u001b[K     |▋                               | 30 kB 31.1 MB/s eta 0:00:01\r\u001b[K     |▉                               | 40 kB 33.5 MB/s eta 0:00:01\r\u001b[K     |█                               | 51 kB 35.5 MB/s eta 0:00:01\r\u001b[K     |█▏                              | 61 kB 38.8 MB/s eta 0:00:01\r\u001b[K     |█▍                              | 71 kB 35.0 MB/s eta 0:00:01\r\u001b[K     |█▋                              | 81 kB 36.9 MB/s eta 0:00:01\r\u001b[K     |█▉                              | 92 kB 32.9 MB/s eta 0:00:01\r\u001b[K     |██                              | 102 kB 32.5 MB/s eta 0:00:01\r\u001b[K     |██▎                             | 112 kB 32.5 MB/s eta 0:00:01\r\u001b[K     |██▍                             | 122 kB 32.5 MB/s eta 0:00:01\r\u001b[K     |██▋                             | 133 kB 32.5 MB/s eta 0:00:01\r\u001b[K     |██▉                             | 143 kB 32.5 MB/s eta 0:00:01\r\u001b[K     |███                             | 153 kB 32.5 MB/s eta 0:00:01\r\u001b[K     |███▎                            | 163 kB 32.5 MB/s eta 0:00:01\r\u001b[K     |███▌                            | 174 kB 32.5 MB/s eta 0:00:01\r\u001b[K     |███▋                            | 184 kB 32.5 MB/s eta 0:00:01\r\u001b[K     |███▉                            | 194 kB 32.5 MB/s eta 0:00:01\r\u001b[K     |████                            | 204 kB 32.5 MB/s eta 0:00:01\r\u001b[K     |████▎                           | 215 kB 32.5 MB/s eta 0:00:01\r\u001b[K     |████▌                           | 225 kB 32.5 MB/s eta 0:00:01\r\u001b[K     |████▋                           | 235 kB 32.5 MB/s eta 0:00:01\r\u001b[K     |████▉                           | 245 kB 32.5 MB/s eta 0:00:01\r\u001b[K     |█████                           | 256 kB 32.5 MB/s eta 0:00:01\r\u001b[K     |█████▎                          | 266 kB 32.5 MB/s eta 0:00:01\r\u001b[K     |█████▌                          | 276 kB 32.5 MB/s eta 0:00:01\r\u001b[K     |█████▊                          | 286 kB 32.5 MB/s eta 0:00:01\r\u001b[K     |█████▉                          | 296 kB 32.5 MB/s eta 0:00:01\r\u001b[K     |██████                          | 307 kB 32.5 MB/s eta 0:00:01\r\u001b[K     |██████▎                         | 317 kB 32.5 MB/s eta 0:00:01\r\u001b[K     |██████▌                         | 327 kB 32.5 MB/s eta 0:00:01\r\u001b[K     |██████▊                         | 337 kB 32.5 MB/s eta 0:00:01\r\u001b[K     |███████                         | 348 kB 32.5 MB/s eta 0:00:01\r\u001b[K     |███████                         | 358 kB 32.5 MB/s eta 0:00:01\r\u001b[K     |███████▎                        | 368 kB 32.5 MB/s eta 0:00:01\r\u001b[K     |███████▌                        | 378 kB 32.5 MB/s eta 0:00:01\r\u001b[K     |███████▊                        | 389 kB 32.5 MB/s eta 0:00:01\r\u001b[K     |████████                        | 399 kB 32.5 MB/s eta 0:00:01\r\u001b[K     |████████▏                       | 409 kB 32.5 MB/s eta 0:00:01\r\u001b[K     |████████▎                       | 419 kB 32.5 MB/s eta 0:00:01\r\u001b[K     |████████▌                       | 430 kB 32.5 MB/s eta 0:00:01\r\u001b[K     |████████▊                       | 440 kB 32.5 MB/s eta 0:00:01\r\u001b[K     |█████████                       | 450 kB 32.5 MB/s eta 0:00:01\r\u001b[K     |█████████▏                      | 460 kB 32.5 MB/s eta 0:00:01\r\u001b[K     |█████████▎                      | 471 kB 32.5 MB/s eta 0:00:01\r\u001b[K     |█████████▌                      | 481 kB 32.5 MB/s eta 0:00:01\r\u001b[K     |█████████▊                      | 491 kB 32.5 MB/s eta 0:00:01\r\u001b[K     |██████████                      | 501 kB 32.5 MB/s eta 0:00:01\r\u001b[K     |██████████▏                     | 512 kB 32.5 MB/s eta 0:00:01\r\u001b[K     |██████████▍                     | 522 kB 32.5 MB/s eta 0:00:01\r\u001b[K     |██████████▌                     | 532 kB 32.5 MB/s eta 0:00:01\r\u001b[K     |██████████▊                     | 542 kB 32.5 MB/s eta 0:00:01\r\u001b[K     |███████████                     | 552 kB 32.5 MB/s eta 0:00:01\r\u001b[K     |███████████▏                    | 563 kB 32.5 MB/s eta 0:00:01\r\u001b[K     |███████████▍                    | 573 kB 32.5 MB/s eta 0:00:01\r\u001b[K     |███████████▋                    | 583 kB 32.5 MB/s eta 0:00:01\r\u001b[K     |███████████▊                    | 593 kB 32.5 MB/s eta 0:00:01\r\u001b[K     |████████████                    | 604 kB 32.5 MB/s eta 0:00:01\r\u001b[K     |████████████▏                   | 614 kB 32.5 MB/s eta 0:00:01\r\u001b[K     |████████████▍                   | 624 kB 32.5 MB/s eta 0:00:01\r\u001b[K     |████████████▋                   | 634 kB 32.5 MB/s eta 0:00:01\r\u001b[K     |████████████▉                   | 645 kB 32.5 MB/s eta 0:00:01\r\u001b[K     |█████████████                   | 655 kB 32.5 MB/s eta 0:00:01\r\u001b[K     |█████████████▏                  | 665 kB 32.5 MB/s eta 0:00:01\r\u001b[K     |█████████████▍                  | 675 kB 32.5 MB/s eta 0:00:01\r\u001b[K     |█████████████▋                  | 686 kB 32.5 MB/s eta 0:00:01\r\u001b[K     |█████████████▉                  | 696 kB 32.5 MB/s eta 0:00:01\r\u001b[K     |██████████████                  | 706 kB 32.5 MB/s eta 0:00:01\r\u001b[K     |██████████████▏                 | 716 kB 32.5 MB/s eta 0:00:01\r\u001b[K     |██████████████▍                 | 727 kB 32.5 MB/s eta 0:00:01\r\u001b[K     |██████████████▋                 | 737 kB 32.5 MB/s eta 0:00:01\r\u001b[K     |██████████████▉                 | 747 kB 32.5 MB/s eta 0:00:01\r\u001b[K     |███████████████                 | 757 kB 32.5 MB/s eta 0:00:01\r\u001b[K     |███████████████▏                | 768 kB 32.5 MB/s eta 0:00:01\r\u001b[K     |███████████████▍                | 778 kB 32.5 MB/s eta 0:00:01\r\u001b[K     |███████████████▋                | 788 kB 32.5 MB/s eta 0:00:01\r\u001b[K     |███████████████▉                | 798 kB 32.5 MB/s eta 0:00:01\r\u001b[K     |████████████████                | 808 kB 32.5 MB/s eta 0:00:01\r\u001b[K     |████████████████▎               | 819 kB 32.5 MB/s eta 0:00:01\r\u001b[K     |████████████████▍               | 829 kB 32.5 MB/s eta 0:00:01\r\u001b[K     |████████████████▋               | 839 kB 32.5 MB/s eta 0:00:01\r\u001b[K     |████████████████▉               | 849 kB 32.5 MB/s eta 0:00:01\r\u001b[K     |█████████████████               | 860 kB 32.5 MB/s eta 0:00:01\r\u001b[K     |█████████████████▎              | 870 kB 32.5 MB/s eta 0:00:01\r\u001b[K     |█████████████████▌              | 880 kB 32.5 MB/s eta 0:00:01\r\u001b[K     |█████████████████▋              | 890 kB 32.5 MB/s eta 0:00:01\r\u001b[K     |█████████████████▉              | 901 kB 32.5 MB/s eta 0:00:01\r\u001b[K     |██████████████████              | 911 kB 32.5 MB/s eta 0:00:01\r\u001b[K     |██████████████████▎             | 921 kB 32.5 MB/s eta 0:00:01\r\u001b[K     |██████████████████▌             | 931 kB 32.5 MB/s eta 0:00:01\r\u001b[K     |██████████████████▋             | 942 kB 32.5 MB/s eta 0:00:01\r\u001b[K     |██████████████████▉             | 952 kB 32.5 MB/s eta 0:00:01\r\u001b[K     |███████████████████             | 962 kB 32.5 MB/s eta 0:00:01\r\u001b[K     |███████████████████▎            | 972 kB 32.5 MB/s eta 0:00:01\r\u001b[K     |███████████████████▌            | 983 kB 32.5 MB/s eta 0:00:01\r\u001b[K     |███████████████████▊            | 993 kB 32.5 MB/s eta 0:00:01\r\u001b[K     |███████████████████▉            | 1.0 MB 32.5 MB/s eta 0:00:01\r\u001b[K     |████████████████████            | 1.0 MB 32.5 MB/s eta 0:00:01\r\u001b[K     |████████████████████▎           | 1.0 MB 32.5 MB/s eta 0:00:01\r\u001b[K     |████████████████████▌           | 1.0 MB 32.5 MB/s eta 0:00:01\r\u001b[K     |████████████████████▊           | 1.0 MB 32.5 MB/s eta 0:00:01\r\u001b[K     |█████████████████████           | 1.1 MB 32.5 MB/s eta 0:00:01\r\u001b[K     |█████████████████████           | 1.1 MB 32.5 MB/s eta 0:00:01\r\u001b[K     |█████████████████████▎          | 1.1 MB 32.5 MB/s eta 0:00:01\r\u001b[K     |█████████████████████▌          | 1.1 MB 32.5 MB/s eta 0:00:01\r\u001b[K     |█████████████████████▊          | 1.1 MB 32.5 MB/s eta 0:00:01\r\u001b[K     |██████████████████████          | 1.1 MB 32.5 MB/s eta 0:00:01\r\u001b[K     |██████████████████████          | 1.1 MB 32.5 MB/s eta 0:00:01\r\u001b[K     |██████████████████████▎         | 1.1 MB 32.5 MB/s eta 0:00:01\r\u001b[K     |██████████████████████▌         | 1.1 MB 32.5 MB/s eta 0:00:01\r\u001b[K     |██████████████████████▊         | 1.1 MB 32.5 MB/s eta 0:00:01\r\u001b[K     |███████████████████████         | 1.2 MB 32.5 MB/s eta 0:00:01\r\u001b[K     |███████████████████████▏        | 1.2 MB 32.5 MB/s eta 0:00:01\r\u001b[K     |███████████████████████▎        | 1.2 MB 32.5 MB/s eta 0:00:01\r\u001b[K     |███████████████████████▌        | 1.2 MB 32.5 MB/s eta 0:00:01\r\u001b[K     |███████████████████████▊        | 1.2 MB 32.5 MB/s eta 0:00:01\r\u001b[K     |████████████████████████        | 1.2 MB 32.5 MB/s eta 0:00:01\r\u001b[K     |████████████████████████▏       | 1.2 MB 32.5 MB/s eta 0:00:01\r\u001b[K     |████████████████████████▍       | 1.2 MB 32.5 MB/s eta 0:00:01\r\u001b[K     |████████████████████████▌       | 1.2 MB 32.5 MB/s eta 0:00:01\r\u001b[K     |████████████████████████▊       | 1.2 MB 32.5 MB/s eta 0:00:01\r\u001b[K     |█████████████████████████       | 1.3 MB 32.5 MB/s eta 0:00:01\r\u001b[K     |█████████████████████████▏      | 1.3 MB 32.5 MB/s eta 0:00:01\r\u001b[K     |█████████████████████████▍      | 1.3 MB 32.5 MB/s eta 0:00:01\r\u001b[K     |█████████████████████████▋      | 1.3 MB 32.5 MB/s eta 0:00:01\r\u001b[K     |█████████████████████████▊      | 1.3 MB 32.5 MB/s eta 0:00:01\r\u001b[K     |██████████████████████████      | 1.3 MB 32.5 MB/s eta 0:00:01\r\u001b[K     |██████████████████████████▏     | 1.3 MB 32.5 MB/s eta 0:00:01\r\u001b[K     |██████████████████████████▍     | 1.3 MB 32.5 MB/s eta 0:00:01\r\u001b[K     |██████████████████████████▋     | 1.3 MB 32.5 MB/s eta 0:00:01\r\u001b[K     |██████████████████████████▊     | 1.4 MB 32.5 MB/s eta 0:00:01\r\u001b[K     |███████████████████████████     | 1.4 MB 32.5 MB/s eta 0:00:01\r\u001b[K     |███████████████████████████▏    | 1.4 MB 32.5 MB/s eta 0:00:01\r\u001b[K     |███████████████████████████▍    | 1.4 MB 32.5 MB/s eta 0:00:01\r\u001b[K     |███████████████████████████▋    | 1.4 MB 32.5 MB/s eta 0:00:01\r\u001b[K     |███████████████████████████▉    | 1.4 MB 32.5 MB/s eta 0:00:01\r\u001b[K     |████████████████████████████    | 1.4 MB 32.5 MB/s eta 0:00:01\r\u001b[K     |████████████████████████████▏   | 1.4 MB 32.5 MB/s eta 0:00:01\r\u001b[K     |████████████████████████████▍   | 1.4 MB 32.5 MB/s eta 0:00:01\r\u001b[K     |████████████████████████████▋   | 1.4 MB 32.5 MB/s eta 0:00:01\r\u001b[K     |████████████████████████████▉   | 1.5 MB 32.5 MB/s eta 0:00:01\r\u001b[K     |█████████████████████████████   | 1.5 MB 32.5 MB/s eta 0:00:01\r\u001b[K     |█████████████████████████████▏  | 1.5 MB 32.5 MB/s eta 0:00:01\r\u001b[K     |█████████████████████████████▍  | 1.5 MB 32.5 MB/s eta 0:00:01\r\u001b[K     |█████████████████████████████▋  | 1.5 MB 32.5 MB/s eta 0:00:01\r\u001b[K     |█████████████████████████████▉  | 1.5 MB 32.5 MB/s eta 0:00:01\r\u001b[K     |██████████████████████████████  | 1.5 MB 32.5 MB/s eta 0:00:01\r\u001b[K     |██████████████████████████████▎ | 1.5 MB 32.5 MB/s eta 0:00:01\r\u001b[K     |██████████████████████████████▍ | 1.5 MB 32.5 MB/s eta 0:00:01\r\u001b[K     |██████████████████████████████▋ | 1.5 MB 32.5 MB/s eta 0:00:01\r\u001b[K     |██████████████████████████████▉ | 1.6 MB 32.5 MB/s eta 0:00:01\r\u001b[K     |███████████████████████████████ | 1.6 MB 32.5 MB/s eta 0:00:01\r\u001b[K     |███████████████████████████████▎| 1.6 MB 32.5 MB/s eta 0:00:01\r\u001b[K     |███████████████████████████████▍| 1.6 MB 32.5 MB/s eta 0:00:01\r\u001b[K     |███████████████████████████████▋| 1.6 MB 32.5 MB/s eta 0:00:01\r\u001b[K     |███████████████████████████████▉| 1.6 MB 32.5 MB/s eta 0:00:01\r\u001b[K     |████████████████████████████████| 1.6 MB 32.5 MB/s \n",
            "\u001b[?25hRequirement already satisfied: decorator>=4.3.0 in /usr/local/lib/python3.7/dist-packages (from networkx==2.5) (4.4.2)\n",
            "Installing collected packages: networkx\n",
            "  Attempting uninstall: networkx\n",
            "    Found existing installation: networkx 2.6.2\n",
            "    Uninstalling networkx-2.6.2:\n",
            "      Successfully uninstalled networkx-2.6.2\n",
            "\u001b[31mERROR: pip's dependency resolver does not currently take into account all the packages that are installed. This behaviour is the source of the following dependency conflicts.\n",
            "albumentations 0.1.12 requires imgaug<0.2.7,>=0.2.5, but you have imgaug 0.2.9 which is incompatible.\u001b[0m\n",
            "Successfully installed networkx-2.5\n"
          ],
          "name": "stdout"
        }
      ]
    },
    {
      "cell_type": "code",
      "metadata": {
        "id": "-Db2bGH4Qk6N",
        "colab": {
          "base_uri": "https://localhost:8080/"
        },
        "outputId": "ecd342bb-c4da-4242-f9cd-83ca502ab976"
      },
      "source": [
        "import gc\n",
        "import numpy as np\n",
        "import matplotlib.pyplot as plt\n",
        "from statsmodels.distributions.empirical_distribution import ECDF\n",
        "import scipy\n",
        "import json\n",
        "import networkx as nx\n",
        "import pandas as pd\n",
        "import seaborn as sns"
      ],
      "execution_count": 2,
      "outputs": [
        {
          "output_type": "stream",
          "text": [
            "/usr/local/lib/python3.7/dist-packages/statsmodels/tools/_testing.py:19: FutureWarning: pandas.util.testing is deprecated. Use the functions in the public API at pandas.testing instead.\n",
            "  import pandas.util.testing as tm\n"
          ],
          "name": "stderr"
        }
      ]
    },
    {
      "cell_type": "markdown",
      "metadata": {
        "id": "hiss8bP5OXKm"
      },
      "source": [
        "# Dataset"
      ]
    },
    {
      "cell_type": "code",
      "metadata": {
        "colab": {
          "resources": {
            "http://localhost:8080/nbextensions/google.colab/files.js": {
              "data": "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",
              "ok": true,
              "headers": [
                [
                  "content-type",
                  "application/javascript"
                ]
              ],
              "status": 200,
              "status_text": "OK"
            }
          },
          "base_uri": "https://localhost:8080/",
          "height": 239
        },
        "id": "uqpHiXpWNOr-",
        "outputId": "99934283-a2b1-4813-8859-1495a15018a0"
      },
      "source": [
        "from google.colab import files\n",
        "\n",
        "print(\"Upload kaggle.json with your API token\")\n",
        "files.upload()"
      ],
      "execution_count": 3,
      "outputs": [
        {
          "output_type": "stream",
          "text": [
            "Upload kaggle.json with your API token\n"
          ],
          "name": "stdout"
        },
        {
          "output_type": "display_data",
          "data": {
            "text/html": [
              "\n",
              "     <input type=\"file\" id=\"files-84065f06-8ee6-4ad5-95df-49e3753ddd90\" name=\"files[]\" multiple disabled\n",
              "        style=\"border:none\" />\n",
              "     <output id=\"result-84065f06-8ee6-4ad5-95df-49e3753ddd90\">\n",
              "      Upload widget is only available when the cell has been executed in the\n",
              "      current browser session. Please rerun this cell to enable.\n",
              "      </output>\n",
              "      <script src=\"/nbextensions/google.colab/files.js\"></script> "
            ],
            "text/plain": [
              "<IPython.core.display.HTML object>"
            ]
          },
          "metadata": {}
        },
        {
          "output_type": "stream",
          "text": [
            "Saving times.json to times.json\n",
            "Saving kaggle.json to kaggle.json\n",
            "Saving convergence.json to convergence.json\n"
          ],
          "name": "stdout"
        },
        {
          "output_type": "execute_result",
          "data": {
            "text/plain": [
              "{'convergence.json': b'{\\n    \"l1\": [\\n        \"0.4746593383558707\",\\n        \"0.10264378\",\\n        \"0.035515964\",\\n        \"0.018177165\",\\n        \"0.010628957\",\\n        \"0.006990499\",\\n        \"0.00480077\",\\n        \"0.0034190346\",\\n        \"0.0024943077\",\\n        \"0.0018554581\",\\n        \"0.0014021326\",\\n        \"0.0010729703\",\\n        \"0.00082997896\",\\n        \"0.0006476147\",\\n        \"0.00050911424\",\\n        \"0.00040285013\",\\n        \"0.00032064493\",\\n        \"0.00025648135\",\\n        \"0.00020617725\",\\n        \"0.00016641445\",\\n        \"0.00013490954\",\\n        \"0.00010967099\",\\n        \"8.944838e-05\",\\n        \"7.327111e-05\",\\n        \"6.0226317e-05\",\\n        \"4.9523445e-05\",\\n        \"4.085709e-05\",\\n        \"3.3760152e-05\",\\n        \"2.7929818e-05\",\\n        \"2.3264525e-05\",\\n        \"1.9177678e-05\",\\n        \"1.5976304e-05\",\\n        \"1.3219121e-05\",\\n        \"1.098606e-05\",\\n        \"9.141711e-06\",\\n        \"7.761614e-06\",\\n        \"6.3217058e-06\",\\n        \"5.27412e-06\",\\n        \"4.4007097e-06\",\\n        \"3.7807588e-06\",\\n        \"3.0543868e-06\",\\n        \"2.5521545e-06\",\\n        \"2.2447798e-06\",\\n        \"1.7744202e-06\",\\n        \"1.479074e-06\",\\n        \"1.2437838e-06\",\\n        \"1.0394872e-06\",\\n        \"8.652635e-07\",\\n        \"7.310566e-07\",\\n        \"6.11391e-07\",\\n        \"5.7196814e-07\",\\n        \"4.8246346e-07\",\\n        \"3.5221456e-07\",\\n        \"2.9388235e-07\",\\n        \"3.0643403e-07\",\\n        \"2.1656527e-07\",\\n        \"2.1795384e-07\",\\n        \"1.8386987e-07\",\\n        \"1.302731e-07\",\\n        \"1.0961941e-07\",\\n        \"9.358965e-08\",\\n        \"6.852568e-08\",\\n        \"1.2458344e-07\",\\n        \"1.3195421e-07\",\\n        \"4.3385057e-08\",\\n        \"3.311945e-08\",\\n        \"2.6671046e-08\",\\n        \"2.1596492e-08\",\\n        \"1.765062e-08\",\\n        \"1.1104467e-07\",\\n        \"3.8865437e-08\",\\n        \"2.9877697e-08\",\\n        \"1.4534606e-08\",\\n        \"1.127745e-08\",\\n        \"9.18277e-09\",\\n        \"7.542525e-09\",\\n        \"6.21597e-09\",\\n        \"5.2375526e-09\",\\n        \"4.265104e-09\",\\n        \"3.509399e-09\",\\n        \"2.8826719e-09\",\\n        \"2.3895268e-09\",\\n        \"1.9723814e-09\",\\n        \"1.632344e-09\",\\n        \"1.3730528e-09\",\\n        \"1.1584689e-09\",\\n        \"9.393375e-10\",\\n        \"7.89214e-10\",\\n        \"6.5728045e-10\",\\n        \"5.4782845e-10\",\\n        \"4.694698e-10\",\\n        \"3.9966608e-10\",\\n        \"3.4401637e-10\",\\n        \"3.0627234e-10\",\\n        \"2.8092018e-10\",\\n        \"2.3450752e-10\",\\n        \"2.1560709e-10\",\\n        \"2.0062885e-10\",\\n        \"1.8965807e-10\",\\n        \"1.8647484e-10\"\\n    ],\\n    \"l2\": [\\n        \"1.588042263999604e-06\",\\n        \"8.010207e-08\",\\n        \"1.0369645e-08\",\\n        \"2.7182783e-09\",\\n        \"1.0013611e-09\",\\n        \"4.594074e-10\",\\n        \"2.2509893e-10\",\\n        \"1.2089615e-10\",\\n        \"6.737775e-11\",\\n        \"3.952723e-11\",\\n        \"2.3839786e-11\",\\n        \"1.4845767e-11\",\\n        \"9.432387e-12\",\\n        \"6.121452e-12\",\\n        \"4.0282317e-12\",\\n        \"2.6887015e-12\",\\n        \"1.8121158e-12\",\\n        \"1.2332721e-12\",\\n        \"8.450112e-13\",\\n        \"5.830717e-13\",\\n        \"4.0392613e-13\",\\n        \"2.8129693e-13\",\\n        \"1.9673976e-13\",\\n        \"1.3781824e-13\",\\n        \"9.68371e-14\",\\n        \"6.830738e-14\",\\n        \"4.8204743e-14\",\\n        \"3.40924e-14\",\\n        \"2.4179496e-14\",\\n        \"1.7110365e-14\",\\n        \"1.2174674e-14\",\\n        \"8.641645e-15\",\\n        \"6.1527825e-15\",\\n        \"4.3869234e-15\",\\n        \"3.1238808e-15\",\\n        \"2.219919e-15\",\\n        \"1.5943367e-15\",\\n        \"1.1383939e-15\",\\n        \"8.117948e-16\",\\n        \"5.779065e-16\",\\n        \"4.1626868e-16\",\\n        \"2.9725152e-16\",\\n        \"2.1135077e-16\",\\n        \"1.5300741e-16\",\\n        \"1.0968929e-16\",\\n        \"7.822691e-17\",\\n        \"5.6060545e-17\",\\n        \"4.0440863e-17\",\\n        \"2.8831556e-17\",\\n        \"2.0660396e-17\",\\n        \"1.4711725e-17\",\\n        \"1.0547481e-17\",\\n        \"7.6517234e-18\",\\n        \"5.5043472e-18\",\\n        \"3.9088296e-18\",\\n        \"2.8467034e-18\",\\n        \"2.0208608e-18\",\\n        \"1.4546526e-18\",\\n        \"1.0796598e-18\",\\n        \"7.820138e-19\",\\n        \"5.6436553e-19\",\\n        \"4.0639626e-19\",\\n        \"3.0157423e-19\",\\n        \"2.7555718e-19\",\\n        \"1.5976213e-19\",\\n        \"1.1318159e-19\",\\n        \"8.225675e-20\",\\n        \"5.946917e-20\",\\n        \"4.3424882e-20\",\\n        \"6.7438846e-20\",\\n        \"2.871426e-20\",\\n        \"2.2547664e-20\",\\n        \"1.612772e-20\",\\n        \"1.21041904e-20\",\\n        \"9.370638e-21\",\\n        \"7.168681e-21\",\\n        \"5.5280715e-21\",\\n        \"4.472123e-21\",\\n        \"3.2786216e-21\",\\n        \"2.6720196e-21\",\\n        \"2.0700041e-21\",\\n        \"1.6385414e-21\",\\n        \"1.3066457e-21\",\\n        \"1.0212312e-21\",\\n        \"8.097743e-22\",\\n        \"6.7156564e-22\",\\n        \"4.8891706e-22\",\\n        \"4.0542674e-22\",\\n        \"3.4183723e-22\",\\n        \"2.535365e-22\",\\n        \"2.4427677e-22\",\\n        \"1.8117033e-22\",\\n        \"1.5037885e-22\",\\n        \"1.4906538e-22\",\\n        \"1.2802559e-22\",\\n        \"8.857537e-23\",\\n        \"9.3594194e-23\",\\n        \"7.491397e-23\",\\n        \"7.01803e-23\",\\n        \"7.3505176e-23\"\\n    ],\\n    \"max\": [\\n        \"0.00013523701684723505\",\\n        \"5.9184495e-05\",\\n        \"9.785883e-06\",\\n        \"5.1627285e-06\",\\n        \"1.6392878e-06\",\\n        \"1.1162524e-06\",\\n        \"5.752918e-07\",\\n        \"4.7362937e-07\",\\n        \"3.9009683e-07\",\\n        \"3.315822e-07\",\\n        \"2.818449e-07\",\\n        \"2.3956818e-07\",\\n        \"2.0363245e-07\",\\n        \"1.7308707e-07\",\\n        \"1.4712464e-07\",\\n        \"1.2505575e-07\",\\n        \"1.0629719e-07\",\\n        \"9.035284e-08\",\\n        \"7.679955e-08\",\\n        \"6.527921e-08\",\\n        \"5.5487135e-08\",\\n        \"4.716503e-08\",\\n        \"4.009098e-08\",\\n        \"3.407672e-08\",\\n        \"2.8964223e-08\",\\n        \"2.4619567e-08\",\\n        \"2.0927246e-08\",\\n        \"1.7788352e-08\",\\n        \"1.5120577e-08\",\\n        \"1.2852297e-08\",\\n        \"1.0924168e-08\",\\n        \"9.285486e-09\",\\n        \"7.892368e-09\",\\n        \"6.708433e-09\",\\n        \"5.7023044e-09\",\\n        \"4.847834e-09\",\\n        \"4.1204657e-09\",\\n        \"3.501782e-09\",\\n        \"2.9767762e-09\",\\n        \"2.5311238e-09\",\\n        \"2.1511823e-09\",\\n        \"1.8283117e-09\",\\n        \"1.553417e-09\",\\n        \"1.3205863e-09\",\\n        \"1.1229986e-09\",\\n        \"9.540599e-10\",\\n        \"8.110419e-10\",\\n        \"6.891696e-10\",\\n        \"5.8594196e-10\",\\n        \"4.9794835e-10\",\\n        \"4.2291504e-10\",\\n        \"3.5970515e-10\",\\n        \"3.0559022e-10\",\\n        \"2.5966074e-10\",\\n        \"2.2055247e-10\",\\n        \"1.8758328e-10\",\\n        \"1.5938895e-10\",\\n        \"1.3574208e-10\",\\n        \"1.1550583e-10\",\\n        \"9.7998054e-11\",\\n        \"8.344614e-11\",\\n        \"7.071321e-11\",\\n        \"6.002665e-11\",\\n        \"5.0931703e-11\",\\n        \"4.3655746e-11\",\\n        \"3.706191e-11\",\\n        \"3.160494e-11\",\\n        \"2.6830094e-11\",\\n        \"2.2737368e-11\",\\n        \"1.9554136e-11\",\\n        \"1.6598278e-11\",\\n        \"1.4097168e-11\",\\n        \"1.2050805e-11\",\\n        \"1.0231815e-11\",\\n        \"8.6402e-12\",\\n        \"7.275958e-12\",\\n        \"7.275958e-12\",\\n        \"5.2295945e-12\",\\n        \"4.5474735e-12\",\\n        \"3.8653525e-12\",\\n        \"3.637979e-12\",\\n        \"3.637979e-12\",\\n        \"3.637979e-12\",\\n        \"3.637979e-12\",\\n        \"3.637979e-12\",\\n        \"3.637979e-12\",\\n        \"3.637979e-12\",\\n        \"3.637979e-12\",\\n        \"3.637979e-12\",\\n        \"1.8189894e-12\",\\n        \"3.637979e-12\",\\n        \"1.8189894e-12\",\\n        \"1.8189894e-12\",\\n        \"3.637979e-12\",\\n        \"1.8189894e-12\",\\n        \"1.8189894e-12\",\\n        \"3.637979e-12\",\\n        \"9.094947e-13\",\\n        \"9.094947e-13\",\\n        \"1.8189894e-12\"\\n    ]\\n}',\n",
              " 'kaggle.json': b'{\"username\":\"manueldileo\",\"key\":\"164c7a0657f604bc197d669fdb5f13df\"}',\n",
              " 'times.json': b'{\\n    \"numNodes\": [\\n        [\\n            1000,\\n            0.20541071891784668,\\n            0.10773253440856934\\n        ],\\n        [\\n            10000,\\n            2.508645534515381,\\n            1.1235151290893555\\n        ],\\n        [\\n            50000,\\n            13.911954641342163,\\n            6.07216477394104\\n        ],\\n        [\\n            100000,\\n            30.244014024734497,\\n            8.320116758346558\\n        ],\\n        [\\n            200000,\\n            66.73592686653137,\\n            16.86872172355652\\n        ],\\n        [\\n            350000,\\n            119.96994757652283,\\n            30.383138418197632\\n        ],\\n        [\\n            500000,\\n            181.94602370262146,\\n            43.39508366584778\\n        ]\\n    ],\\n    \"density\": [\\n        [\\n            0.000001,\\n            2.3291192054748535,\\n            0.5763416290283203\\n        ],\\n        [\\n            0.00001,\\n            4.8678460121154785,\\n            1.8581187725067139\\n        ],\\n        [\\n            0.0001,\\n            19.09010934829712,\\n            5.389857530593872\\n        ],\\n        [\\n            0.00025,\\n            41.74203705787659,\\n            11.84176516532898\\n        ],\\n        [\\n            0.0005,\\n            72.50368523597717,\\n            6.757109642028809\\n        ],\\n        [\\n            0.00075,\\n            104.51529240608215,\\n            9.214609861373901\\n        ],\\n        [\\n            0.001,\\n            153.01664876937866,\\n            13.572726488113403\\n        ]\\n    ]\\n}\\n'}"
            ]
          },
          "metadata": {},
          "execution_count": 3
        }
      ]
    },
    {
      "cell_type": "code",
      "metadata": {
        "id": "w31l_ngBNZek",
        "colab": {
          "base_uri": "https://localhost:8080/"
        },
        "outputId": "5e81970c-6d99-44f6-f55d-93ba0b313d7b"
      },
      "source": [
        "! mkdir ~/.kaggle \n",
        "! cp kaggle.json ~/.kaggle/\n",
        "! chmod 600 ~/.kaggle/kaggle.json\n",
        "! kaggle datasets download ashirwadsangwan/imdb-dataset"
      ],
      "execution_count": 4,
      "outputs": [
        {
          "output_type": "stream",
          "text": [
            "Downloading imdb-dataset.zip to /content\n",
            " 99% 1.43G/1.44G [00:10<00:00, 152MB/s]\n",
            "100% 1.44G/1.44G [00:10<00:00, 145MB/s]\n"
          ],
          "name": "stdout"
        }
      ]
    },
    {
      "cell_type": "code",
      "metadata": {
        "id": "KxQvrWTyNrus"
      },
      "source": [
        "import zipfile\n",
        "\n",
        "path = 'imdb-dataset.zip'\n",
        "zip_file = zipfile.ZipFile(path)\n",
        "zip_list = zip_file.namelist()\n",
        "\n",
        "for f in zip_list:\n",
        "    zip_file.extract(f)\n",
        "\n",
        "zip_file.close()"
      ],
      "execution_count": 5,
      "outputs": []
    },
    {
      "cell_type": "code",
      "metadata": {
        "id": "lKTHIRooO-0a",
        "colab": {
          "base_uri": "https://localhost:8080/"
        },
        "outputId": "43961427-f495-4402-ced8-e56abc607aeb"
      },
      "source": [
        "import os\n",
        "all_files = os.listdir()\n",
        "print([csv_file for csv_file in all_files if '.tsv' == csv_file[-4:]])"
      ],
      "execution_count": 6,
      "outputs": [
        {
          "output_type": "stream",
          "text": [
            "['title.basics.tsv', 'title.akas.tsv', 'name.basics.tsv', 'title.ratings.tsv', 'title.principals.tsv']\n"
          ],
          "name": "stdout"
        }
      ]
    },
    {
      "cell_type": "markdown",
      "metadata": {
        "id": "DSI4VZRyLchg"
      },
      "source": [
        "# Preprocessing"
      ]
    },
    {
      "cell_type": "code",
      "metadata": {
        "id": "dHc9Sp6FHEWs"
      },
      "source": [
        "import csv"
      ],
      "execution_count": 7,
      "outputs": []
    },
    {
      "cell_type": "code",
      "metadata": {
        "id": "qPtGkWeEPuDQ"
      },
      "source": [
        "#Obtain only movie works\n",
        "movies = set()\n",
        "with open(\"./title.basics.tsv/title.basics.tsv\") as tsv_file:\n",
        "  tsv = csv.reader(tsv_file,delimiter = \"\\t\")\n",
        "  header = next(tsv)\n",
        "  end = False\n",
        "  while not end:\n",
        "    try:\n",
        "      row = next(tsv)\n",
        "    except StopIteration:\n",
        "      end = True\n",
        "    else:\n",
        "      #['tconst', 'titleType', 'primaryTitle', 'originalTitle', 'isAdult', 'startYear', 'endYear', 'runtimeMinutes', 'genres']\n",
        "      if row[1] == 'movie':\n",
        "        movies.add(row[0])\n",
        "  del tsv\n",
        "  gc.collect()\n",
        "  tsv_file.close()"
      ],
      "execution_count": 8,
      "outputs": []
    },
    {
      "cell_type": "code",
      "metadata": {
        "id": "wH5KOBi9bnWx"
      },
      "source": [
        "#save movie ids\n",
        "with open('movies.txt','w') as f:\n",
        "  for movie in movies:\n",
        "    f.write(f\"{movie}\\n\")\n",
        "  f.close()"
      ],
      "execution_count": 9,
      "outputs": []
    },
    {
      "cell_type": "code",
      "metadata": {
        "id": "POtLLQC1l2QS"
      },
      "source": [
        "#Keep only actor and actress rows, saving their gender. \n",
        "#Associate to each actor an integer id which will represent the node in the graph\n",
        "#Store for each movie the actorId of the actors who starred in the film\n",
        "moviedict = {}\n",
        "actordict = {}\n",
        "genderdict = {}\n",
        "actorId = 0\n",
        "\n",
        "with open(\"./title.principals.tsv/title.principals.tsv\") as tsv_file:\n",
        "  tsv = csv.reader(tsv_file, delimiter=\"\\t\")\n",
        "  header = next(tsv)\n",
        "  end = False\n",
        "  while not end:\n",
        "    try:\n",
        "      row = next(tsv)\n",
        "    except StopIteration:\n",
        "      end = True\n",
        "    else:\n",
        "      #['tconst', 'ordering', 'nconst', 'category', 'job', 'characters']\n",
        "      if row[0] in movies and (row[3] == 'actor' or row[3] == 'actress'):\n",
        "        if row[0] not in moviedict:\n",
        "          moviedict[row[0]] = set()\n",
        "        if row[2] not in actordict:\n",
        "          actordict[row[2]] = actorId\n",
        "          genderdict[actorId] = 1 if row[3]=='actress' else 0\n",
        "          actorId += 1 \n",
        "        moviedict[row[0]].add(actordict[row[2]])\n",
        "  del tsv\n",
        "  gc.collect()\n",
        "  tsv_file.close()"
      ],
      "execution_count": 10,
      "outputs": []
    },
    {
      "cell_type": "code",
      "metadata": {
        "id": "1L9RkW1IHyqX"
      },
      "source": [
        "#Save integer actorId, IMDB actorId relation\n",
        "with open('id-actor.json', 'w') as fp:\n",
        "    iddict = dict((v,k) for k,v in actordict.items())\n",
        "    json.dump(iddict, fp, indent = 1)\n",
        "    fp.close()"
      ],
      "execution_count": 11,
      "outputs": []
    },
    {
      "cell_type": "code",
      "metadata": {
        "id": "zI_9xg6OcNe8"
      },
      "source": [
        "#Save actor-gender relation\n",
        "with open('actor-gender.json','w') as fp:\n",
        "  json.dump(genderdict, fp, indent = 1)\n",
        "  fp.close()"
      ],
      "execution_count": 12,
      "outputs": []
    },
    {
      "cell_type": "code",
      "metadata": {
        "id": "PabriJFTqVfV"
      },
      "source": [
        "class ActorGraph():\n",
        "  \"\"\"\n",
        "  A class used to represent the IMDB ActorGraph in a which a node is an actor and an edge will link two nodes if the corresponding actors played at least once in the same movie.\n",
        "\n",
        "  Attributes\n",
        "  ----------\n",
        "  order : int\n",
        "      number of nodes of the graph\n",
        "  in_links : Dict[int,list[int]]\n",
        "      dictionary in which for each node i is stored the nodes j such that (j,i) is an edge of the graph\n",
        "  out_links : Dict[int,list[int]]\n",
        "      dictionary in which for each node i is stored the nodes j such that (i,j) is an edge of the graph\n",
        "  out_degree : Dict[int,int]\n",
        "      dictionary in which for each node i is stored the out_degree of i (in this case the number of out_links)\n",
        "  dangling: Dict[int,bool]\n",
        "    dictionary in which are store the dangling nodes (nodes that have no out_links). Note that the values are just default labels.\n",
        "  genderAttribute: Dict[int,bool]\n",
        "    dictionary in which for each node i is store the gender of i. In particular, genderAttribute[i] is equal to 1 if the node is female, 0 otherwise.\n",
        "\n",
        "  Methods\n",
        "  -------\n",
        "  getsize()\n",
        "    Returns the size (number of links) in the graph\n",
        "  in_degree()\n",
        "    Returns a dict in which for each node i is stored the indegree of i. Note that indegree is equal to outdegree because this graph is a directed graph obtained from an undirected one.\n",
        "  getorder()\n",
        "    Returns the order (number of nodes) in the graph\n",
        "  getNumDangling()\n",
        "    Returns the number of dangling nodes\n",
        "  nodes()\n",
        "    Returns the set of nodes of the graph\n",
        "  density()\n",
        "    Returns the density of the graph (#links / #all_possible_links)\n",
        "  giant_component_size()\n",
        "    Returns the size of the largest connected component of the graph\n",
        "  getGenderTeleportingSet()\n",
        "    Returns the vector of gender values\n",
        "  to_networkx_graph()\n",
        "    Returns the equivalent networkx Graph of this\n",
        "  \"\"\"\n",
        "\n",
        "  def __init__(self):\n",
        "    self.order = 0\n",
        "    self.in_links = {}\n",
        "    self.out_links = {}\n",
        "    self.out_degree = {}\n",
        "    self.dangling = {}\n",
        "    self.genderAttribute = {}\n",
        "\n",
        "  def getsize(self):\n",
        "    return sum(self.out_degree.values())\n",
        "\n",
        "  def in_degree(self):\n",
        "    return self.out_degree\n",
        "\n",
        "  def getorder(self):\n",
        "    return self.order\n",
        "\n",
        "  def getNumDangling(self):\n",
        "    return len(self.dangling)\n",
        "\n",
        "  def nodes(self):\n",
        "    return set(list(self.in_links.keys()) + list(self.dangling.keys()))\n",
        "\n",
        "  def density(self):\n",
        "    return self.getsize() / (self.order*(self.order - 1))\n",
        "  \n",
        "  def giant_component_size(self):\n",
        "    return self.getorder() - self.getNumDangling()\n",
        "\n",
        "  def getGenderTeleportingSet(self):\n",
        "    return list(self.genderAttribute.values())\n",
        "\n",
        "  def to_networkx_graph(self):\n",
        "    graph = nx.Graph()\n",
        "    for node in self.dangling:\n",
        "      graph.add_node(node)\n",
        "    for x,nodes in self.in_links.items():\n",
        "      for y in nodes:\n",
        "        graph.add_edge(y,x)\n",
        "    return graph\n",
        "\n",
        "  def __str__(self):\n",
        "    return f\"Order: {self.getorder()}, Size : {self.getsize()}, Density: {self.density()}\"\n",
        "\n",
        "  def __eq__(self,other):\n",
        "    if isinstance(other,ActorGraph):\n",
        "      if self.order != other.order: \n",
        "        #print('order')\n",
        "        return False\n",
        "      if self.getsize() != other.getsize():\n",
        "        #print('size')\n",
        "        return False\n",
        "      if self.out_degree != other.out_degree: \n",
        "        #print('outdeg')\n",
        "        return False\n",
        "      if set(self.dangling) != set(other.dangling): \n",
        "        #print('dangling')\n",
        "        return False\n",
        "      cp_this_inlinks = self.in_links\n",
        "      cp_other_inlinks = other.in_links\n",
        "      cp_this_inlinks = dict([(k,set(v)) for k,v in cp_this_inlinks.items()])\n",
        "      cp_other_inlinks = dict([(k,set(v)) for k,v in cp_other_inlinks.items()])\n",
        "      return cp_this_inlinks == cp_other_inlinks\n",
        "    return False"
      ],
      "execution_count": 13,
      "outputs": []
    },
    {
      "cell_type": "code",
      "metadata": {
        "id": "8Miot10G2NLR"
      },
      "source": [
        "from typing import List, Set, Dict, Tuple, Optional"
      ],
      "execution_count": 14,
      "outputs": []
    },
    {
      "cell_type": "code",
      "metadata": {
        "id": "GPtZ9c__0EHM"
      },
      "source": [
        "import itertools\n",
        "\n",
        "def getActorGraphFromIMDB(moviedict: Dict[str,set],genderdict:Dict[str,bool]) -> ActorGraph:\n",
        "    \"\"\"Build an ActorGraph from movie-actors and actor-gender relations\n",
        "\n",
        "    Parameters\n",
        "    ----------\n",
        "    moviedict : Dict[str,set]\n",
        "        Dictionary in which for each movie is stored actors who starred into it\n",
        "    genderdict : Dict[str,bool]\n",
        "        Dictionary in which for each actor is stored its gender\n",
        "\n",
        "    Returns\n",
        "    -------\n",
        "    graph: ActorGraph\n",
        "        Graph in a which a node is an actor and an edge will link two nodes if the corresponding actors played at least once in the same movie\n",
        "    \"\"\"\n",
        "\n",
        "    graph = ActorGraph()\n",
        "    for _,actors in moviedict.items():\n",
        "\n",
        "      if len(actors) == 1:\n",
        "        node = actors.pop()\n",
        "        if node not in graph.in_links:\n",
        "          graph.order += 1\n",
        "          graph.in_links[node] = []\n",
        "          graph.out_links[node] = []\n",
        "          graph.out_degree[node] = 0\n",
        "          graph.dangling[node] = True\n",
        "          graph.genderAttribute[node] = genderdict[node]\n",
        "\n",
        "      else:\n",
        "        for (a,b) in itertools.combinations(actors,2): \n",
        "          #with itertools.combinations I have no self-loops by construction\n",
        "          if a not in graph.in_links:\n",
        "            graph.order += 1\n",
        "            graph.in_links[a] = []\n",
        "            graph.out_links[a] = []\n",
        "            graph.out_degree[a] = 0\n",
        "            graph.genderAttribute[a] = genderdict[a]\n",
        "\n",
        "          if b not in graph.in_links:\n",
        "            graph.order += 1\n",
        "            graph.in_links[b] = []\n",
        "            graph.out_links[b] = []\n",
        "            graph.out_degree[b] = 0\n",
        "            graph.genderAttribute[b] = genderdict[b]\n",
        "\n",
        "          if b not in graph.in_links[a]:\n",
        "            graph.in_links[a].append(b)\n",
        "            graph.out_links[a].append(b)\n",
        "            graph.dangling.pop(a,False)\n",
        "            graph.out_degree[a] += 1\n",
        "\n",
        "          if a not in graph.in_links[b]:\n",
        "            graph.in_links[b].append(a)\n",
        "            graph.out_links[b].append(a)\n",
        "            graph.dangling.pop(b,False)\n",
        "            graph.out_degree[b] += 1\n",
        "\n",
        "    return graph"
      ],
      "execution_count": 15,
      "outputs": []
    },
    {
      "cell_type": "code",
      "metadata": {
        "id": "duDm2EgnKlIa"
      },
      "source": [
        "g = getActorGraphFromIMDB(moviedict,genderdict)"
      ],
      "execution_count": 16,
      "outputs": []
    },
    {
      "cell_type": "code",
      "metadata": {
        "id": "GP8LD1IkNHEc",
        "colab": {
          "base_uri": "https://localhost:8080/"
        },
        "outputId": "ea10ac45-0f1a-46a4-e1fb-50e660869afb"
      },
      "source": [
        "print(g)"
      ],
      "execution_count": 17,
      "outputs": [
        {
          "output_type": "stream",
          "text": [
            "Order: 582655, Size : 5775408, Density: 1.701219923195799e-05\n"
          ],
          "name": "stdout"
        }
      ]
    },
    {
      "cell_type": "code",
      "metadata": {
        "id": "V2zwHOMwceRE"
      },
      "source": [
        "def export_graph(graph:ActorGraph,filename: str ='actorgraph.json'):\n",
        "  \"\"\"Export ActorGraph in a json file\"\"\"\n",
        "  with open(filename,'w') as fp:\n",
        "    json.dump(json.dumps(graph.__dict__),fp, indent=2)"
      ],
      "execution_count": 18,
      "outputs": []
    },
    {
      "cell_type": "code",
      "metadata": {
        "id": "9YoHDsgZdihz"
      },
      "source": [
        "export_graph(g)"
      ],
      "execution_count": 19,
      "outputs": []
    },
    {
      "cell_type": "markdown",
      "metadata": {
        "id": "EgP8i49QozP5"
      },
      "source": [
        "Top 10 actor & actress of all time by [IMBD](https://www.imdb.com/list/ls053085147/)"
      ]
    },
    {
      "cell_type": "code",
      "metadata": {
        "id": "z-RLsW7hnqAB"
      },
      "source": [
        "top10actorIMBD =\\\n",
        "  [\n",
        "   \"Katharine Hepburn\",\n",
        "   \"Jack Nicholson\",\n",
        "   \"Laurence Olivier\",\n",
        "   \"Meryl Streep\",\n",
        "   \"Humphrey Bogart\",\n",
        "   \"Audrey Hepburn\",\n",
        "   \"Robert De Niro\",\n",
        "   \"Bette Davis\",\n",
        "   \"Cary Grant\",\n",
        "   \"Marlon Brando\"\n",
        "  ]"
      ],
      "execution_count": 20,
      "outputs": []
    },
    {
      "cell_type": "code",
      "metadata": {
        "id": "SWVjSmCzpiDM",
        "colab": {
          "base_uri": "https://localhost:8080/"
        },
        "outputId": "a70d7870-7283-4573-c98f-7445381e00c8"
      },
      "source": [
        "#Associate each top actor with its IMDB id\n",
        "with open('./name.basics.tsv/name.basics.tsv') as tsv_file:\n",
        "  tsv = csv.reader(tsv_file, delimiter=\"\\t\")\n",
        "  header = next(tsv)\n",
        "  end = False\n",
        "  top10id = {}\n",
        "  while not end and len(top10id.keys())<10:\n",
        "    try:\n",
        "      row = next(tsv)\n",
        "    except StopIteration:\n",
        "      end = True\n",
        "    else:\n",
        "      #['nconst','primaryName','birthYear','deathYear','primaryProfession','knownForTitles']\n",
        "      if row[1] in top10actorIMBD:\n",
        "        print(row)\n",
        "        top10id[row[1]] = row[0]\n",
        "  del tsv\n",
        "  gc.collect()\n",
        "  tsv_file.close()"
      ],
      "execution_count": 21,
      "outputs": [
        {
          "output_type": "stream",
          "text": [
            "['nm0000007', 'Humphrey Bogart', '1899', '1957', 'actor,soundtrack,producer', 'tt0043265,tt0033870,tt0034583,tt0037382']\n",
            "['nm0000008', 'Marlon Brando', '1924', '2004', 'actor,soundtrack,director', 'tt0070849,tt0078788,tt0044081,tt0068646']\n",
            "['nm0000012', 'Bette Davis', '1908', '1989', 'actress,soundtrack,make_up_department', 'tt0031210,tt0042192,tt0056687,tt0035140']\n",
            "['nm0000026', 'Cary Grant', '1904', '1986', 'actor,soundtrack,producer', 'tt0048728,tt0053125,tt0032599,tt0056923']\n",
            "['nm0000030', 'Audrey Hepburn', '1929', '1993', 'actress,soundtrack', 'tt0046250,tt0054698,tt0058385,tt0056923']\n",
            "['nm0000031', 'Katharine Hepburn', '1907', '2003', 'actress,soundtrack,writer', 'tt0063227,tt0082846,tt0032904,tt0043265']\n",
            "['nm0000059', 'Laurence Olivier', '1907', '1989', 'actor,producer,director', 'tt0069281,tt0040416,tt0032976,tt0054331']\n",
            "['nm0000134', 'Robert De Niro', '1943', '\\\\N', 'actor,producer,soundtrack', 'tt0081398,tt0101540,tt0070379,tt0075314']\n",
            "['nm0000197', 'Jack Nicholson', '1937', '\\\\N', 'actor,soundtrack,producer', 'tt0119822,tt0073486,tt0071315,tt0407887']\n",
            "['nm0000658', 'Meryl Streep', '1949', '\\\\N', 'actress,soundtrack,producer', 'tt0089755,tt0458352,tt0918927,tt1322269']\n"
          ],
          "name": "stdout"
        }
      ]
    },
    {
      "cell_type": "code",
      "metadata": {
        "id": "PxUB-CpTq9_i"
      },
      "source": [
        "#Store for each top actor nodeId-name relation\n",
        "for k,v in top10id.items():\n",
        "  top10id[k] = actordict[v]\n",
        "top10id = dict((v,k) for k,v in top10id.items())"
      ],
      "execution_count": 22,
      "outputs": []
    },
    {
      "cell_type": "code",
      "metadata": {
        "id": "jfACujI4sLor"
      },
      "source": [
        "with open('best10actors.json','w') as fp:\n",
        "  json.dump(top10id, fp, indent = 1)"
      ],
      "execution_count": 23,
      "outputs": []
    },
    {
      "cell_type": "code",
      "metadata": {
        "collapsed": true,
        "id": "HJa-2EFPNZNG",
        "colab": {
          "base_uri": "https://localhost:8080/"
        },
        "outputId": "a983743f-b8ac-45b1-f0d3-2fd2a7e54858"
      },
      "source": [
        "del movies\n",
        "del moviedict\n",
        "del actordict\n",
        "del genderdict\n",
        "del iddict\n",
        "gc.collect()"
      ],
      "execution_count": 24,
      "outputs": [
        {
          "output_type": "execute_result",
          "data": {
            "text/plain": [
              "183"
            ]
          },
          "metadata": {},
          "execution_count": 24
        }
      ]
    },
    {
      "cell_type": "code",
      "metadata": {
        "id": "ogp6w-vqd_lv"
      },
      "source": [
        "!rm -r *.tsv.gz\n",
        "!rm imdb-dataset.zip"
      ],
      "execution_count": 25,
      "outputs": []
    },
    {
      "cell_type": "markdown",
      "metadata": {
        "id": "rbpmDAbfvRHW"
      },
      "source": [
        "# Ranking nodes"
      ]
    },
    {
      "cell_type": "markdown",
      "metadata": {
        "id": "kWCCsXlPTWyt"
      },
      "source": [
        "### Toy Examples"
      ]
    },
    {
      "cell_type": "code",
      "metadata": {
        "id": "OnrWXvXNX2jx"
      },
      "source": [
        "def fromNetworkxGraph(graph: nx.Graph) -> ActorGraph:\n",
        "  \"\"\"Build an ActorGraph from a networkx Graph\n",
        "\n",
        "  Parameters\n",
        "  ----------\n",
        "  graph : nx.Graph\n",
        "    Networkx undirected simple Graph\n",
        "\n",
        "  Returns\n",
        "  -------\n",
        "  graph: ActorGraph\n",
        "    Graph in a which a node is an actor and an edge will link two nodes if the corresponding actors played at least once in the same movie\n",
        "  \"\"\"\n",
        "  mygraph = ActorGraph()\n",
        "\n",
        "  for node in graph.nodes():\n",
        "    mygraph.order += 1\n",
        "    mygraph.in_links[node] = []\n",
        "    mygraph.out_links[node] = []\n",
        "    mygraph.out_degree[node] = 0\n",
        "    mygraph.dangling[node] = True\n",
        "\n",
        "  for a,b in graph.edges():\n",
        "\n",
        "    if b not in mygraph.in_links[a]:\n",
        "      mygraph.in_links[a].append(b)\n",
        "      mygraph.out_links[a].append(b)\n",
        "      mygraph.dangling.pop(a,False)\n",
        "      mygraph.out_degree[a] += 1\n",
        "\n",
        "    if a not in mygraph.in_links[b]:\n",
        "      mygraph.in_links[b].append(a)\n",
        "      mygraph.out_links[b].append(a)\n",
        "      mygraph.dangling.pop(b,False)\n",
        "      mygraph.out_degree[b] += 1\n",
        "\n",
        "  return mygraph"
      ],
      "execution_count": 26,
      "outputs": []
    },
    {
      "cell_type": "code",
      "metadata": {
        "colab": {
          "base_uri": "https://localhost:8080/"
        },
        "id": "OnnQtOf26lsM",
        "outputId": "f85da21f-121a-40fd-d5e7-32cd7ec68d96"
      },
      "source": [
        "g == fromNetworkxGraph(g.to_networkx_graph())"
      ],
      "execution_count": 27,
      "outputs": [
        {
          "output_type": "execute_result",
          "data": {
            "text/plain": [
              "True"
            ]
          },
          "metadata": {},
          "execution_count": 27
        }
      ]
    },
    {
      "cell_type": "code",
      "metadata": {
        "colab": {
          "base_uri": "https://localhost:8080/",
          "height": 319
        },
        "id": "cffQz_67Sc7u",
        "outputId": "145effce-ed42-4ca5-98d2-f8bb3291cf27"
      },
      "source": [
        "graph1 = nx.Graph()\n",
        "graph1.add_edges_from([(0,1),(1,2),(2,3)])\n",
        "nx.draw(graph1,with_labels=True,node_color='orange')"
      ],
      "execution_count": 28,
      "outputs": [
        {
          "output_type": "display_data",
          "data": {
            "image/png": "[encoded data removed]",
            "text/plain": [
              "<Figure size 432x288 with 1 Axes>"
            ]
          },
          "metadata": {}
        }
      ]
    },
    {
      "cell_type": "code",
      "metadata": {
        "id": "wczfjh2hTbM-"
      },
      "source": [
        "graph1 = fromNetworkxGraph(graph1)"
      ],
      "execution_count": 29,
      "outputs": []
    },
    {
      "cell_type": "code",
      "metadata": {
        "colab": {
          "base_uri": "https://localhost:8080/",
          "height": 319
        },
        "id": "90-I0UFVV2JD",
        "outputId": "04cdfe27-5cce-4ee0-b229-adbdbbaabfcb"
      },
      "source": [
        "graph2 = nx.Graph()\n",
        "graph2.add_edges_from([(0,1),(1,2),(2,3),(3,0)])\n",
        "nx.draw(graph2,with_labels=True,node_color='orange')"
      ],
      "execution_count": 30,
      "outputs": [
        {
          "output_type": "display_data",
          "data": {
            "image/png": "[encoded data removed]",
            "text/plain": [
              "<Figure size 432x288 with 1 Axes>"
            ]
          },
          "metadata": {}
        }
      ]
    },
    {
      "cell_type": "code",
      "metadata": {
        "id": "i8C3Z1VtXHPS"
      },
      "source": [
        "graph2 = fromNetworkxGraph(graph2)"
      ],
      "execution_count": 31,
      "outputs": []
    },
    {
      "cell_type": "code",
      "metadata": {
        "colab": {
          "base_uri": "https://localhost:8080/",
          "height": 319
        },
        "id": "ZopI69_JVy2W",
        "outputId": "ba60e71b-ac15-4f3d-9e07-6a64c9fa0fbf"
      },
      "source": [
        "graph3 = nx.Graph()\n",
        "graph3.add_edges_from([(0,1),(0,2),(0,3),(0,4)])\n",
        "nx.draw(graph3, with_labels=True, node_color = 'orange')"
      ],
      "execution_count": 32,
      "outputs": [
        {
          "output_type": "display_data",
          "data": {
            "image/png": "[encoded data removed]",
            "text/plain": [
              "<Figure size 432x288 with 1 Axes>"
            ]
          },
          "metadata": {}
        }
      ]
    },
    {
      "cell_type": "code",
      "metadata": {
        "id": "ASe4TFhCXpf9"
      },
      "source": [
        "graph3 = fromNetworkxGraph(graph3)"
      ],
      "execution_count": 33,
      "outputs": []
    },
    {
      "cell_type": "code",
      "metadata": {
        "colab": {
          "base_uri": "https://localhost:8080/",
          "height": 319
        },
        "id": "Z0MWNCQeYQi_",
        "outputId": "0f1441e6-1abb-4998-9709-33adb1a8db49"
      },
      "source": [
        "graph4 = nx.Graph()\n",
        "graph4.add_edges_from([(0,1),(0,2),(0,3),(1,3),(2,4),(2,3)])\n",
        "nx.draw(graph4, with_labels=True, node_color = 'orange')"
      ],
      "execution_count": 34,
      "outputs": [
        {
          "output_type": "display_data",
          "data": {
            "image/png": "[encoded data removed]",
            "text/plain": [
              "<Figure size 432x288 with 1 Axes>"
            ]
          },
          "metadata": {}
        }
      ]
    },
    {
      "cell_type": "code",
      "metadata": {
        "id": "VHrqFEBG8Mfl"
      },
      "source": [
        "graph4 = fromNetworkxGraph(graph4)"
      ],
      "execution_count": 35,
      "outputs": []
    },
    {
      "cell_type": "markdown",
      "metadata": {
        "id": "tUHClaQnvczm"
      },
      "source": [
        "## Degree"
      ]
    },
    {
      "cell_type": "markdown",
      "metadata": {
        "id": "f6pOI4VB20RM"
      },
      "source": [
        "Note that in this case the indegree is equal to outdegree as the directed graph is obtained from an original undirected graph"
      ]
    },
    {
      "cell_type": "code",
      "metadata": {
        "id": "_irF-pgb2k45"
      },
      "source": [
        "degrank = g.in_degree()"
      ],
      "execution_count": 36,
      "outputs": []
    },
    {
      "cell_type": "markdown",
      "metadata": {
        "id": "4avFBUHp8wWy"
      },
      "source": [
        "### Toy Example"
      ]
    },
    {
      "cell_type": "code",
      "metadata": {
        "colab": {
          "base_uri": "https://localhost:8080/",
          "height": 336
        },
        "id": "_dTjdy2y8yqJ",
        "outputId": "65414752-a60d-4ff0-c81f-8056902b59ef"
      },
      "source": [
        "nx.draw(graph1.to_networkx_graph(),with_labels=True, node_color = 'orange')\n",
        "graph1.in_degree()"
      ],
      "execution_count": 37,
      "outputs": [
        {
          "output_type": "execute_result",
          "data": {
            "text/plain": [
              "{0: 1, 1: 2, 2: 2, 3: 1}"
            ]
          },
          "metadata": {},
          "execution_count": 37
        },
        {
          "output_type": "display_data",
          "data": {
            "image/png": "[encoded data removed]",
            "text/plain": [
              "<Figure size 432x288 with 1 Axes>"
            ]
          },
          "metadata": {}
        }
      ]
    },
    {
      "cell_type": "code",
      "metadata": {
        "colab": {
          "base_uri": "https://localhost:8080/",
          "height": 336
        },
        "id": "T8rUVkwi9JTx",
        "outputId": "2c665817-f43c-4d30-f93a-7e5d4685c4bb"
      },
      "source": [
        "nx.draw(graph2.to_networkx_graph(),with_labels=True, node_color = 'orange')\n",
        "graph2.in_degree()"
      ],
      "execution_count": 38,
      "outputs": [
        {
          "output_type": "execute_result",
          "data": {
            "text/plain": [
              "{0: 2, 1: 2, 2: 2, 3: 2}"
            ]
          },
          "metadata": {},
          "execution_count": 38
        },
        {
          "output_type": "display_data",
          "data": {
            "image/png": "[encoded data removed]",
            "text/plain": [
              "<Figure size 432x288 with 1 Axes>"
            ]
          },
          "metadata": {}
        }
      ]
    },
    {
      "cell_type": "code",
      "metadata": {
        "colab": {
          "base_uri": "https://localhost:8080/",
          "height": 336
        },
        "id": "ofml23tI9NRU",
        "outputId": "edd3cc4b-09cb-4e0f-ef07-46f36e995b4a"
      },
      "source": [
        "nx.draw(graph3.to_networkx_graph(),with_labels=True, node_color = 'orange')\n",
        "graph3.in_degree()"
      ],
      "execution_count": 39,
      "outputs": [
        {
          "output_type": "execute_result",
          "data": {
            "text/plain": [
              "{0: 4, 1: 1, 2: 1, 3: 1, 4: 1}"
            ]
          },
          "metadata": {},
          "execution_count": 39
        },
        {
          "output_type": "display_data",
          "data": {
            "image/png": "[encoded data removed]",
            "text/plain": [
              "<Figure size 432x288 with 1 Axes>"
            ]
          },
          "metadata": {}
        }
      ]
    },
    {
      "cell_type": "markdown",
      "metadata": {
        "id": "Wp839E957SPg"
      },
      "source": [
        "### Degree distribution"
      ]
    },
    {
      "cell_type": "code",
      "metadata": {
        "id": "8rLYgeWr7Y6l"
      },
      "source": [
        "degree = list(degrank.values())"
      ],
      "execution_count": 40,
      "outputs": []
    },
    {
      "cell_type": "code",
      "metadata": {
        "id": "7sGzTQQ07Utj",
        "colab": {
          "base_uri": "https://localhost:8080/"
        },
        "outputId": "64a63b7e-77d1-4a61-c45d-0f8eba155d8d"
      },
      "source": [
        "print('DEGREE')\n",
        "print('Mean degree: {}'.format(np.mean(degree)))\n",
        "print('Standard deviation: {}'.format(np.std(degree)))\n",
        "print('Median: {}'.format(np.median(degree)))\n",
        "print('Min: {}'.format(np.min(degree)))\n",
        "print('Max: {}'.format(np.max(degree)))"
      ],
      "execution_count": 41,
      "outputs": [
        {
          "output_type": "stream",
          "text": [
            "DEGREE\n",
            "Mean degree: 9.912225931297252\n",
            "Standard deviation: 21.180225766657404\n",
            "Median: 5.0\n",
            "Min: 0\n",
            "Max: 865\n"
          ],
          "name": "stdout"
        }
      ]
    },
    {
      "cell_type": "code",
      "metadata": {
        "id": "6vgi_-x17mZ8"
      },
      "source": [
        "#Build the equivalent Erdos-Renyi random graph of our istance of ActorGraph\n",
        "random_graph = nx.fast_gnp_random_graph(g.getorder(),g.density())"
      ],
      "execution_count": 42,
      "outputs": []
    },
    {
      "cell_type": "code",
      "metadata": {
        "id": "jr-8MmKM8gxp",
        "colab": {
          "base_uri": "https://localhost:8080/",
          "height": 347
        },
        "outputId": "80076bac-1d18-4fd8-9f2c-9f113d536534"
      },
      "source": [
        "#Plot the Empirical Complementary Cumulative Distribution Function of \n",
        "#the degree distribution of our ActorGraph and the equivalent random network on log-log scale\n",
        "random_degree = list(dict(random_graph.degree()).values())\n",
        "cdf = ECDF(degree)\n",
        "x = np.unique(degree)\n",
        "y = cdf(x)\n",
        "\n",
        "cdf_random = ECDF(random_degree)\n",
        "x_random = np.unique(random_degree)\n",
        "y_random = cdf_random(x_random)\n",
        "\n",
        "fig_cdf = plt.figure(figsize=(9,5))\n",
        "axes = fig_cdf.gca()\n",
        "axes.set_xscale('log')\n",
        "axes.set_yscale('log')\n",
        "axes.loglog(x,1-y,marker='o',ms=8, linestyle='--',label='Actor-Network')\n",
        "axes.loglog(x_random,1-y_random,marker='+',ms=10, linestyle='--',label='Random-Network')\n",
        "axes.set_xlabel('Degree',size=20)\n",
        "axes.set_ylabel('ECCDF', size = 20)\n",
        "axes.legend()\n",
        "plt.savefig('degree-distribution.pdf')\n",
        "plt.show()"
      ],
      "execution_count": 43,
      "outputs": [
        {
          "output_type": "display_data",
          "data": {
            "image/png": "[encoded data removed]",
            "text/plain": [
              "<Figure size 648x360 with 1 Axes>"
            ]
          },
          "metadata": {
            "needs_background": "light"
          }
        }
      ]
    },
    {
      "cell_type": "code",
      "metadata": {
        "id": "f9R1oFHU_BjR",
        "colab": {
          "base_uri": "https://localhost:8080/"
        },
        "outputId": "188fd44d-3267-4296-9968-05a9a84361dc"
      },
      "source": [
        "del random_degree\n",
        "del degree\n",
        "del random_graph\n",
        "del cdf\n",
        "del x\n",
        "del y\n",
        "del cdf_random\n",
        "del x_random\n",
        "del y_random\n",
        "del fig_cdf\n",
        "del axes\n",
        "gc.collect()"
      ],
      "execution_count": 44,
      "outputs": [
        {
          "output_type": "execute_result",
          "data": {
            "text/plain": [
              "19610"
            ]
          },
          "metadata": {},
          "execution_count": 44
        }
      ]
    },
    {
      "cell_type": "markdown",
      "metadata": {
        "id": "Ayf4YafdvpFM"
      },
      "source": [
        "## PageRank"
      ]
    },
    {
      "cell_type": "code",
      "metadata": {
        "id": "dJyqbmQQNuuj"
      },
      "source": [
        "def pagerank(\\\n",
        "             graph,beta=0.85,epsilon=0.000001,\\\n",
        "             max_iter=100,\\\n",
        "             convergence_measure = lambda x,y: np.sum(np.abs(x-y))\\\n",
        "             ):\n",
        "  \"\"\"Returns the PageRank of the nodes in the graph.\n",
        "\n",
        "  PageRank computes a ranking of the nodes in the graph G based on the structure of the incoming links. It was originally designed as an algorithm to rank web pages.\n",
        "\n",
        "  Parameters\n",
        "  ----------\n",
        "  graph : ActorGraph\n",
        "    Graph in a which a node is an actor and an edge will link two nodes if the corresponding actors played at least once in the same movie\n",
        "  beta: int, optional\n",
        "    Dumping factor for PageRank\n",
        "  epsilon: float, optional\n",
        "    Error tolerance used to check convergence in power method solver.\n",
        "  max_iter: int, optional\n",
        "    Maximum number of iterations in power method eigenvalue solver.\n",
        "  convergence_measure: Callable[[np.array,np.array],float]\n",
        "    Measure used to check convergence in power method solver.\n",
        "\n",
        "  Returns\n",
        "  -------\n",
        "  Dict[int,float]\n",
        "    Dictionary of nodes with PageRank as value.\n",
        "  \"\"\"\n",
        "\n",
        "  def single_step(graph,n,v,p,beta=0.85):\n",
        "    dangling_contribution = beta * sum([p[i] for i in graph.dangling]) / n\n",
        "    for i in range(n):\n",
        "      v[i] = (beta*sum([(p[j]/graph.out_degree[j])\\\n",
        "                       for j in graph.in_links[i]]))\\\n",
        "                       + dangling_contribution \\\n",
        "                       + ((1-beta) * (1/n))\n",
        "    return v/np.sum(v)\n",
        "\n",
        "  n = graph.getorder()\n",
        "  v = np.zeros(n,dtype=np.float32)\n",
        "  p = np.ones(n,dtype=np.float32)/n\n",
        "  iter = 1\n",
        "  convergence_rate = 1\n",
        "\n",
        "  while convergence_rate >= epsilon and iter < max_iter:\n",
        "    pfirst = single_step(graph,n,v,p,beta)\n",
        "    convergence_rate = convergence_measure(p,pfirst)\n",
        "    p = pfirst\n",
        "    iter += 1\n",
        "\n",
        "  return dict((k,v) for k,v in enumerate(p))"
      ],
      "execution_count": 45,
      "outputs": []
    },
    {
      "cell_type": "markdown",
      "metadata": {
        "id": "S0GXHqx89owi"
      },
      "source": [
        "### Toy Example"
      ]
    },
    {
      "cell_type": "code",
      "metadata": {
        "colab": {
          "base_uri": "https://localhost:8080/",
          "height": 336
        },
        "id": "QsA5T3n59Z5U",
        "outputId": "97175260-2ab9-4ac3-ab55-361ac4a62c8a"
      },
      "source": [
        "nx.draw(graph1.to_networkx_graph(),with_labels=True, node_color = 'orange')\n",
        "pagerank(graph1)"
      ],
      "execution_count": 46,
      "outputs": [
        {
          "output_type": "execute_result",
          "data": {
            "text/plain": [
              "{0: 0.17543857, 1: 0.32456145, 2: 0.32456145, 3: 0.17543857}"
            ]
          },
          "metadata": {},
          "execution_count": 46
        },
        {
          "output_type": "display_data",
          "data": {
            "image/png": "[encoded data removed]",
            "text/plain": [
              "<Figure size 432x288 with 1 Axes>"
            ]
          },
          "metadata": {}
        }
      ]
    },
    {
      "cell_type": "code",
      "metadata": {
        "colab": {
          "base_uri": "https://localhost:8080/",
          "height": 336
        },
        "id": "siicgiVb9iy8",
        "outputId": "9a77041b-001e-4cef-dc73-bcbcaa04ebf9"
      },
      "source": [
        "nx.draw(graph2.to_networkx_graph(),with_labels=True, node_color = 'orange')\n",
        "pagerank(graph2)"
      ],
      "execution_count": 47,
      "outputs": [
        {
          "output_type": "execute_result",
          "data": {
            "text/plain": [
              "{0: 0.25, 1: 0.25, 2: 0.25, 3: 0.25}"
            ]
          },
          "metadata": {},
          "execution_count": 47
        },
        {
          "output_type": "display_data",
          "data": {
            "image/png": "[encoded data removed]",
            "text/plain": [
              "<Figure size 432x288 with 1 Axes>"
            ]
          },
          "metadata": {}
        }
      ]
    },
    {
      "cell_type": "code",
      "metadata": {
        "colab": {
          "base_uri": "https://localhost:8080/",
          "height": 336
        },
        "id": "U1nX__yd9185",
        "outputId": "52adcc68-88e4-471f-e7a1-cde7e726da12"
      },
      "source": [
        "nx.draw(graph3.to_networkx_graph(),with_labels=True, node_color = 'orange')\n",
        "pagerank(graph3)"
      ],
      "execution_count": 48,
      "outputs": [
        {
          "output_type": "execute_result",
          "data": {
            "text/plain": [
              "{0: 0.47567585, 1: 0.13108103, 2: 0.13108103, 3: 0.13108103, 4: 0.13108103}"
            ]
          },
          "metadata": {},
          "execution_count": 48
        },
        {
          "output_type": "display_data",
          "data": {
            "image/png": "[encoded data removed]",
            "text/plain": [
              "<Figure size 432x288 with 1 Axes>"
            ]
          },
          "metadata": {}
        }
      ]
    },
    {
      "cell_type": "markdown",
      "metadata": {
        "id": "sHrfkK1FJzsf"
      },
      "source": [
        "### Empirical performance evaluation\n"
      ]
    },
    {
      "cell_type": "code",
      "metadata": {
        "id": "3P-5_fNeQdqw",
        "colab": {
          "base_uri": "https://localhost:8080/"
        },
        "outputId": "7e41eed1-4892-4971-a955-a38bc18cafff"
      },
      "source": [
        "gc.collect()"
      ],
      "execution_count": 49,
      "outputs": [
        {
          "output_type": "execute_result",
          "data": {
            "text/plain": [
              "7037"
            ]
          },
          "metadata": {},
          "execution_count": 49
        }
      ]
    },
    {
      "cell_type": "code",
      "metadata": {
        "colab": {
          "base_uri": "https://localhost:8080/"
        },
        "id": "Tq0jxOlaH_-N",
        "outputId": "030698e6-c8bb-46f9-8934-32fce7b03775"
      },
      "source": [
        "from time import time\n",
        "\n",
        "type(time())"
      ],
      "execution_count": 50,
      "outputs": [
        {
          "output_type": "execute_result",
          "data": {
            "text/plain": [
              "float"
            ]
          },
          "metadata": {},
          "execution_count": 50
        }
      ]
    },
    {
      "cell_type": "code",
      "metadata": {
        "id": "aDTfje81JwwW",
        "colab": {
          "base_uri": "https://localhost:8080/",
          "height": 123
        },
        "outputId": "2fbbd97b-f225-4241-db73-589a763c28cd"
      },
      "source": [
        "#Measure the performance (time in seconds) of my PageRank algorithm and Networkx PageRank\n",
        "#For different Barabasi-Albert graph of different order (from 1000 up to 500_000 nodes)\n",
        "#For different Erdos-Renyi random graph of different density(from 1e-06 up to 1e-03)\n",
        "#Save the performance measures in a Dict[str,List(float)] in which keys are the label for the experiments\n",
        "#Values are the performance measures\n",
        "#Save performance records in txt files during the execution\n",
        "from time import time\n",
        "\n",
        "times = {\n",
        "    'numNodes': [],\n",
        "    'density' : [],\n",
        "}\n",
        "\n",
        "N = 100_000\n",
        "K = 9\n",
        "EPSILON = 0.1\n",
        "\n",
        "# (Number of Nodes, Density)\n",
        "dataset = [\n",
        "           (1000, 0.000001),\n",
        "           (10_000, 0.00001),\n",
        "           (50_000, 0.0001),\n",
        "           (100_000, 0.00025),\n",
        "           (200_000, 0.0005),\n",
        "           (350_000, 0.00075),\n",
        "           (500_000, 0.001)\n",
        "]\n",
        "\n",
        "for n,p in dataset:\n",
        "\n",
        "  print(f\"n {n} start\")\n",
        "\n",
        "  scalefree_random_net = nx.barabasi_albert_graph(n,K)\n",
        "  tollerance = EPSILON / n #See the nx pagerank implementation to understand this operation\n",
        "  t0 = time()\n",
        "  pr = nx.pagerank(scalefree_random_net,alpha = 0.85, max_iter = 100, tol = tollerance)\n",
        "  t1 = time()\n",
        "\n",
        "  del pr\n",
        "  gc.collect()\n",
        "\n",
        "  nxtime = t1-t0\n",
        "  scalefree_my_random = fromNetworkxGraph(scalefree_random_net)\n",
        "\n",
        "  del scalefree_random_net\n",
        "  gc.collect()\n",
        "\n",
        "  t0 = time()\n",
        "  pr = pagerank(scalefree_my_random,beta=0.85, max_iter = 100, epsilon = EPSILON)\n",
        "  t1 = time()\n",
        "\n",
        "  del pr\n",
        "  gc.collect()\n",
        "\n",
        "  mytime = t1-t0\n",
        "\n",
        "  del scalefree_my_random\n",
        "  gc.collect()\n",
        "\n",
        "  print(f\"{n}: nx: {nxtime}, mypr: {mytime}\")\n",
        "  times['numNodes'].append((n,nxtime,mytime))\n",
        "  with open('ntimes.txt','a') as f:\n",
        "    f.write(f\"{n},{nxtime},{mytime}\\n\")\n",
        "  print(f\"{n} end\\n\")\n",
        "\n",
        "  print(f\"p {p} start\")\n",
        "\n",
        "  randomgraph = nx.fast_gnp_random_graph(N,p)\n",
        "  tollerance = EPSILON / N #See the nx pagerank implementation to understand this operation\n",
        "  t0 = time()\n",
        "  pr = nx.pagerank(randomgraph,tol = tollerance)\n",
        "  t1 = time()\n",
        "  \n",
        "  del pr\n",
        "  gc.collect()\n",
        "\n",
        "  nxtime = t1-t0\n",
        "  myrandomgraph = fromNetworkxGraph(randomgraph)\n",
        "\n",
        "  del randomgraph\n",
        "  gc.collect()\n",
        "\n",
        "  t0 = time()\n",
        "  pr = pagerank(myrandomgraph,epsilon = EPSILON)\n",
        "  t1 = time()\n",
        "\n",
        "  del pr\n",
        "  gc.collect()\n",
        "\n",
        "  mytime = t1-t0\n",
        "\n",
        "  del myrandomgraph\n",
        "  gc.collect()\n",
        "\n",
        "  print(f\"p: nx: {nxtime}, mypr: {mytime}\")\n",
        "  times['density'].append((p,nxtime,mytime))  \n",
        "  with open('ptimes.txt','a') as f:\n",
        "    f.write(f\"{p},{nxtime},{mytime}\\n\")\n",
        "  print(f\"{p} end\\n\")"
      ],
      "execution_count": 51,
      "outputs": [
        {
          "output_type": "execute_result",
          "data": {
            "application/vnd.google.colaboratory.intrinsic+json": {
              "type": "string"
            },
            "text/plain": [
              "'\\n#Measure the performance (time in seconds) of my PageRank algorithm and Networkx PageRank\\n#For different Barabasi-Albert graph of different order (from 1000 up to 500_000 nodes)\\n#For different Erdos-Renyi random graph of different density(from 1e-06 up to 1e-03)\\n#Save the performance measures in a Dict[str,List(float)] in which keys are the label for the experiments\\n#Values are the performance measures\\n#Save performance records in txt files during the execution\\nfrom time import time\\n\\ntimes = {\\n    \\'numNodes\\': [],\\n    \\'density\\' : [],\\n}\\n\\nN = 100_000\\nK = 9\\nEPSILON = 0.1\\n\\n# (Number of Nodes, Density)\\ndataset = [\\n           (1000, 0.000001),\\n           (10_000, 0.00001),\\n           (50_000, 0.0001),\\n           (100_000, 0.00025),\\n           (200_000, 0.0005),\\n           (350_000, 0.00075),\\n           (500_000, 0.001)\\n]\\n\\nfor n,p in dataset:\\n\\n  print(f\"n {n} start\")\\n\\n  scalefree_random_net = nx.barabasi_albert_graph(n,K)\\n  tollerance = EPSILON / n #See the nx pagerank implementation to understand this operation\\n  t0 = time()\\n  pr = nx.pagerank(scalefree_random_net,alpha = 0.85, max_iter = 100, tol = tollerance)\\n  t1 = time()\\n\\n  del pr\\n  gc.collect()\\n\\n  nxtime = t1-t0\\n  scalefree_my_random = fromNetworkxGraph(scalefree_random_net)\\n\\n  del scalefree_random_net\\n  gc.collect()\\n\\n  t0 = time()\\n  pr = pagerank(scalefree_my_random,beta=0.85, max_iter = 100, epsilon = EPSILON)\\n  t1 = time()\\n\\n  del pr\\n  gc.collect()\\n\\n  mytime = t1-t0\\n\\n  del scalefree_my_random\\n  gc.collect()\\n\\n  print(f\"{n}: nx: {nxtime}, mypr: {mytime}\")\\n  times[\\'numNodes\\'].append((n,nxtime,mytime))\\n  with open(\\'ntimes.txt\\',\\'a\\') as f:\\n    f.write(f\"{n},{nxtime},{mytime}\\n\")\\n  print(f\"{n} end\\n\")\\n\\n  print(f\"p {p} start\")\\n\\n  randomgraph = nx.fast_gnp_random_graph(N,p)\\n  tollerance = EPSILON / N #See the nx pagerank implementation to understand this operation\\n  t0 = time()\\n  pr = nx.pagerank(randomgraph,tol = tollerance)\\n  t1 = time()\\n  \\n  del pr\\n  gc.collect()\\n\\n  nxtime = t1-t0\\n  myrandomgraph = fromNetworkxGraph(randomgraph)\\n\\n  del randomgraph\\n  gc.collect()\\n\\n  t0 = time()\\n  pr = pagerank(myrandomgraph,epsilon = EPSILON)\\n  t1 = time()\\n\\n  del pr\\n  gc.collect()\\n\\n  mytime = t1-t0\\n\\n  del myrandomgraph\\n  gc.collect()\\n\\n  print(f\"p: nx: {nxtime}, mypr: {mytime}\")\\n  times[\\'density\\'].append((p,nxtime,mytime))  \\n  with open(\\'ptimes.txt\\',\\'a\\') as f:\\n    f.write(f\"{p},{nxtime},{mytime}\\n\")\\n  print(f\"{p} end\\n\")\\n'"
            ]
          },
          "metadata": {},
          "execution_count": 51
        }
      ]
    },
    {
      "cell_type": "code",
      "metadata": {
        "id": "-5kC7QhtiMpQ",
        "colab": {
          "base_uri": "https://localhost:8080/",
          "height": 35
        },
        "outputId": "4871d5ab-9c6e-4747-9f1b-763cb0598c73"
      },
      "source": [
        "with open('times.json','w') as f:\n",
        "  json.dump(times, f, indent = 4)"
      ],
      "execution_count": 52,
      "outputs": [
        {
          "output_type": "execute_result",
          "data": {
            "application/vnd.google.colaboratory.intrinsic+json": {
              "type": "string"
            },
            "text/plain": [
              "\"\\nwith open('times.json','w') as f:\\n  json.dump(times, f, indent = 4)\\n\""
            ]
          },
          "metadata": {},
          "execution_count": 52
        }
      ]
    },
    {
      "cell_type": "code",
      "metadata": {
        "id": "kATBkhSBrHNn"
      },
      "source": [
        "\"\"\"\n",
        "with open('times.json','r') as f:\n",
        "  times = json.load(f)\n",
        "\"\"\""
      ],
      "execution_count": 53,
      "outputs": []
    },
    {
      "cell_type": "code",
      "metadata": {
        "id": "xLoNPxRCZmvg",
        "colab": {
          "base_uri": "https://localhost:8080/",
          "height": 442
        },
        "outputId": "c9974b2b-80c3-400c-8776-fb308c3ce9c9"
      },
      "source": [
        "#Plot execution time of my pagerank and nx pagerank in function of number of nodes in the graph\n",
        "xnodes = np.array([row[0] for row in times['numNodes']])\n",
        "ypr = np.array([row[1] for row in times['numNodes']]) \n",
        "ymy = np.array([row[2] for row in times['numNodes']]) \n",
        "\n",
        "plt.figure(figsize=(7,7))\n",
        "plt.plot(xnodes, ypr, color='blue', label='nx.pagerank')\n",
        "plt.plot(xnodes, ymy, color='orange', label='my_pagerank')\n",
        "plt.grid(axis='x', color='0.95')\n",
        "plt.legend(title='Algorithm:')\n",
        "plt.xlabel('Number of Nodes')\n",
        "plt.ylabel('Execution Time(sec)')\n",
        "plt.savefig('time_for_nodes.pdf')\n",
        "plt.show()"
      ],
      "execution_count": 54,
      "outputs": [
        {
          "output_type": "display_data",
          "data": {
            "image/png": "[encoded data removed]",
            "text/plain": [
              "<Figure size 504x504 with 1 Axes>"
            ]
          },
          "metadata": {
            "needs_background": "light"
          }
        }
      ]
    },
    {
      "cell_type": "code",
      "metadata": {
        "id": "7TZwtlxreJ-0",
        "colab": {
          "base_uri": "https://localhost:8080/",
          "height": 445
        },
        "outputId": "737e9ee0-201f-4dfa-cf62-708f7206c254"
      },
      "source": [
        "#Plot execution time of my pagerank and nx pagerank in function of density of the graph\n",
        "xdensity = np.array([row[0] for row in times['density']])\n",
        "ypr = np.array([row[1] for row in times['density']]) \n",
        "ymy = np.array([row[2] for row in times['density']]) \n",
        "\n",
        "plt.figure(figsize=(7,7))\n",
        "plt.plot(xdensity, ypr, color='blue', label='nx.pagerank')\n",
        "plt.plot(xdensity, ymy, color='orange', label='my_pagerank')\n",
        "plt.grid(axis='x', color='0.95')\n",
        "plt.legend(title='Algorithm:')\n",
        "plt.xlabel('Density')\n",
        "plt.ylabel('Execution Time(sec)')\n",
        "plt.savefig('time_for_density.pdf')\n",
        "plt.show()"
      ],
      "execution_count": 55,
      "outputs": [
        {
          "output_type": "display_data",
          "data": {
            "image/png": "[encoded data removed]",
            "text/plain": [
              "<Figure size 504x504 with 1 Axes>"
            ]
          },
          "metadata": {
            "needs_background": "light"
          }
        }
      ]
    },
    {
      "cell_type": "markdown",
      "metadata": {
        "id": "jAEIY2-k4sy7"
      },
      "source": [
        "### Convergence experiments"
      ]
    },
    {
      "cell_type": "code",
      "metadata": {
        "id": "XreQN93d4hS0"
      },
      "source": [
        "def test_pagerank(\\\n",
        "             graph,beta=0.85,epsilon=None,\\\n",
        "             max_iter=100,\\\n",
        "             convergence_measure = lambda x,y: np.sum(np.abs(x-y))\\\n",
        "             ):\n",
        "  \"\"\"Method used to test convergence of power iteration method for PageRank.\n",
        "  Returns the pagerank of the nodes, the number of iterations performed, a list of convergence rates.\n",
        "\n",
        "  Parameters\n",
        "  ----------\n",
        "  graph : ActorGraph\n",
        "    Graph in a which a node is an actor and an edge will link two nodes if the corresponding actors played at least once in the same movie\n",
        "  beta: int, optional\n",
        "    Dumping factor for PageRank\n",
        "  epsilon: float, optional\n",
        "    Error tolerance used to check convergence in power method solver. \n",
        "    If epsilon is None the method continue until max_iter.\n",
        "  max_iter: int, optional\n",
        "    Maximum number of iterations in power method eigenvalue solver.\n",
        "  convergence_measure: Callable[[np.array,np.array],float]\n",
        "    Measure used to check convergence in power method solver.\n",
        "\n",
        "  Returns\n",
        "  -------\n",
        "  Tuple[np.array,int,List[float]]\n",
        "   Pagerank of the nodes, the number of iterations performed, list of convergence rates.\n",
        "  \"\"\"\n",
        "  def single_step(graph,n,v,p,beta=0.85):\n",
        "    dangling_contribution = beta * sum([p[i] for i in graph.dangling]) / n\n",
        "    for i in range(n):\n",
        "      v[i] = (beta*sum([(p[j]/graph.out_degree[j])\\\n",
        "                       for j in graph.in_links[i]]))\\\n",
        "                       + dangling_contribution \\\n",
        "                       + ((1-beta) * (1/n))\n",
        "    return v/np.sum(v)\n",
        "\n",
        "  n = graph.getorder()\n",
        "  v = np.zeros(n,dtype=np.float32)\n",
        "  p = np.ones(n,dtype=np.float32)/n\n",
        "  iter = 1\n",
        "  convergence_rate = 1\n",
        "  \n",
        "  convrates = []\n",
        "\n",
        "  while iter <= max_iter:\n",
        "    pfirst = single_step(graph,n,v,p,beta)\n",
        "    convergence_rate = convergence_measure(p,pfirst)\n",
        "    p = pfirst\n",
        "    iter += 1\n",
        "\n",
        "    convrates.append(convergence_rate)\n",
        "    if epsilon is not None and convergence_rate <= epsilon: break\n",
        "\n",
        "  return p, (iter-1), convrates"
      ],
      "execution_count": 56,
      "outputs": []
    },
    {
      "cell_type": "code",
      "metadata": {
        "id": "jdMzRSpe9GD0"
      },
      "source": [
        "l1 = lambda x,y: np.sum(np.abs(x-y))\n",
        "_,_,convrates = test_pagerank(g)"
      ],
      "execution_count": 57,
      "outputs": []
    },
    {
      "cell_type": "code",
      "metadata": {
        "id": "JHRqCHk4UY4K"
      },
      "source": [
        "l2 = lambda x,y : np.sum(np.power((x-y),2))\n",
        "_,_,convl2 = test_pagerank(g,convergence_measure = l2)"
      ],
      "execution_count": 58,
      "outputs": []
    },
    {
      "cell_type": "code",
      "metadata": {
        "id": "w-xdKmKRZaO5"
      },
      "source": [
        "magnitudemax = lambda x,y: max(np.abs(x-y))\n",
        "_,_,convmax = test_pagerank(g,convergence_measure = magnitudemax)"
      ],
      "execution_count": 59,
      "outputs": []
    },
    {
      "cell_type": "code",
      "metadata": {
        "id": "1REb73IS-88D",
        "colab": {
          "base_uri": "https://localhost:8080/",
          "height": 35
        },
        "outputId": "68e97cc0-4ef4-4f22-e591-bcaf3acfbb4e"
      },
      "source": [
        "x = np.array(range(1,101,1))\n",
        "\n",
        "yl1 = np.array(convrates)\n",
        "yl2 = np.array(convl2)\n",
        "ymax = np.array(convmax)"
      ],
      "execution_count": 60,
      "outputs": [
        {
          "output_type": "execute_result",
          "data": {
            "application/vnd.google.colaboratory.intrinsic+json": {
              "type": "string"
            },
            "text/plain": [
              "'\\nx = np.array(range(1,101,1))\\n\\nyl1 = np.array(convrates)\\nyl2 = np.array(convl2)\\nymax = np.array(convmax)\\n'"
            ]
          },
          "metadata": {},
          "execution_count": 60
        }
      ]
    },
    {
      "cell_type": "code",
      "metadata": {
        "id": "sKzQThUJjnxI",
        "colab": {
          "base_uri": "https://localhost:8080/",
          "height": 35
        },
        "outputId": "c2a49bf2-4a8e-4b02-da74-f4f87d206569"
      },
      "source": [
        "convs = {\n",
        "    'l1': list(map(lambda x: str(x),convrates)),\n",
        "    'l2': list(map(lambda x: str(x),convl2)),\n",
        "    'max': list(map(lambda x: str(x),convmax))\n",
        "}"
      ],
      "execution_count": 61,
      "outputs": [
        {
          "output_type": "execute_result",
          "data": {
            "application/vnd.google.colaboratory.intrinsic+json": {
              "type": "string"
            },
            "text/plain": [
              "\"\\nconvs = {\\n    'l1': list(map(lambda x: str(x),convrates)),\\n    'l2': list(map(lambda x: str(x),convl2)),\\n    'max': list(map(lambda x: str(x),convmax))\\n}\\n\""
            ]
          },
          "metadata": {},
          "execution_count": 61
        }
      ]
    },
    {
      "cell_type": "code",
      "metadata": {
        "id": "NrgChZITky0S",
        "colab": {
          "base_uri": "https://localhost:8080/",
          "height": 35
        },
        "outputId": "4654a337-09af-4ec7-bfc9-db55e1527be7"
      },
      "source": [
        "with open('convergence.json','w') as f:\n",
        "  json.dump(convs,f,indent=4)"
      ],
      "execution_count": 62,
      "outputs": [
        {
          "output_type": "execute_result",
          "data": {
            "application/vnd.google.colaboratory.intrinsic+json": {
              "type": "string"
            },
            "text/plain": [
              "\"\\nwith open('convergence.json','w') as f:\\n  json.dump(convs,f,indent=4)\\n\""
            ]
          },
          "metadata": {},
          "execution_count": 62
        }
      ]
    },
    {
      "cell_type": "code",
      "metadata": {
        "id": "iePlVo2yu7TY"
      },
      "source": [
        "\"\"\"\n",
        "with open('convergence.json','r') as f:\n",
        "  convs = json.load(f)\n",
        "  convs = dict([(k,list(map(lambda x: np.float32(x),v))) for k,v in convs.items()])\n",
        "  x = range(1,101,1)\n",
        "  yl1 = np.array(convs['l1'])\n",
        "  yl2 = np.array(convs['l2'])\n",
        "  ymax = np.array(convs['max'])\n",
        "\"\"\""
      ],
      "execution_count": 63,
      "outputs": []
    },
    {
      "cell_type": "code",
      "metadata": {
        "id": "34sHvfOyUXaa",
        "colab": {
          "base_uri": "https://localhost:8080/",
          "height": 442
        },
        "outputId": "eacd351f-5b36-4ff3-e86c-7b3bfe053a7f"
      },
      "source": [
        "#Plot the convergence_rate for different measures (l1-norm,l2-norm,max-abs-diff) in function of iterations for the ActorGraph\n",
        "plt.figure(figsize=(10,7))\n",
        "plt.plot(x, yl1, color='orange',label = 'l1-norm')\n",
        "plt.plot(x, yl2, color='blue',label = 'l2-norm')\n",
        "plt.plot(x, ymax, color = 'purple', label = 'max-abs-diff')\n",
        "plt.grid(axis='x', color='0.95')\n",
        "plt.legend(title='Measure:')\n",
        "plt.yscale('log')\n",
        "plt.xlabel('Iterations')\n",
        "plt.ylabel('Convergence Rate')\n",
        "plt.savefig('convergence_per_iteration.pdf')\n",
        "plt.show()"
      ],
      "execution_count": 64,
      "outputs": [
        {
          "output_type": "display_data",
          "data": {
            "image/png": "[encoded data removed]",
            "text/plain": [
              "<Figure size 720x504 with 1 Axes>"
            ]
          },
          "metadata": {
            "needs_background": "light"
          }
        }
      ]
    },
    {
      "cell_type": "code",
      "metadata": {
        "colab": {
          "base_uri": "https://localhost:8080/",
          "height": 442
        },
        "id": "StM_Dp1hAK2p",
        "outputId": "7a753096-be4f-458c-fab2-99157cc921af"
      },
      "source": [
        "#Plot the convergence_rate for different measures (l1-norm,l2-norm,max-abs-diff) in function of iterations for a toy graph\n",
        "plt.figure(figsize=(10,7))\n",
        "x = np.arange(1,101,1)\n",
        "\n",
        "for c,n,m in zip(['orange','blue','purple'],['l1-norm','l2-norm','max-abs-diff'],[l1,l2,magnitudemax]):\n",
        "  _,_,rates = test_pagerank(graph4,convergence_measure = m)\n",
        "  y = np.array(rates)\n",
        "  plt.plot(x, y, color=c,label = n)\n",
        "\n",
        "plt.grid(axis='x', color='0.95')\n",
        "plt.legend(title='Measure:')\n",
        "plt.yscale('log')\n",
        "plt.xlabel('Iterations')\n",
        "plt.ylabel('Convergence Rate')\n",
        "plt.savefig('toy_convergence_per_iteration.pdf')\n",
        "plt.show()"
      ],
      "execution_count": 65,
      "outputs": [
        {
          "output_type": "display_data",
          "data": {
            "image/png": "[encoded data removed]",
            "text/plain": [
              "<Figure size 720x504 with 1 Axes>"
            ]
          },
          "metadata": {
            "needs_background": "light"
          }
        }
      ]
    },
    {
      "cell_type": "markdown",
      "metadata": {
        "id": "rAC46RLxvtH2"
      },
      "source": [
        "### Topic Sensitive PageRank"
      ]
    },
    {
      "cell_type": "code",
      "metadata": {
        "id": "YRHd09hqU2kb"
      },
      "source": [
        "def tsrank(\\\n",
        "           graph,beta=0.85,\\\n",
        "           topic = None,\\\n",
        "           epsilon=0.000001,\\\n",
        "           max_iter=100,\\\n",
        "           convergence_measure = lambda x,y: np.sum(np.abs(x-y))\\\n",
        "           ):\n",
        "  \"\"\"Returns the Topic-Sensitive PageRank of the nodes in the graph.\n",
        "\n",
        "  Parameters\n",
        "  ----------\n",
        "  graph : ActorGraph\n",
        "    Graph in a which a node is an actor and an edge will link two nodes if the corresponding actors played at least once in the same movie.\n",
        "  beta: int, optional\n",
        "    Dumping factor for PageRank.\n",
        "  topic : List[bool]\n",
        "    List in which for each node there is 1 if the node is on topic and 0 otherwise.\n",
        "  epsilon: float, optional\n",
        "    Error tolerance used to check convergence in power method solver.\n",
        "  max_iter: int, optional\n",
        "    Maximum number of iterations in power method eigenvalue solver.\n",
        "  convergence_measure: Callable[[np.array,np.array],float]\n",
        "    Measure used to check convergence in power method solver.\n",
        "\n",
        "  Returns\n",
        "  -------\n",
        "  Dict[int,float]\n",
        "    Dictionary of nodes with Topic-Sensitive PageRank as value.\n",
        "  \"\"\"\n",
        "  def single_step(graph,n,v,p,topic, ontopic, beta=0.85):\n",
        "    dangling_contribution = beta * sum([p[i] for i in graph.dangling]) / n\n",
        "    for i in range(n):\n",
        "      v[i] = (beta*sum([(p[j]/graph.out_degree[j])\\\n",
        "                       for j in graph.in_links[i]]))\\\n",
        "                       +  dangling_contribution\\\n",
        "                       + ((1-beta) * topic[i] * (1/ontopic))\n",
        "    return v/np.sum(v)\n",
        "\n",
        "  n = graph.getorder()\n",
        "  v = np.zeros(n,dtype=np.float32)\n",
        "  p = np.ones(n,dtype=np.float32)/n\n",
        "  iter = 1\n",
        "  convergence_rate = 1\n",
        "\n",
        "  if topic is None:\n",
        "    topic = np.ones(n,dtype=np.float32)\n",
        "  \n",
        "  ontopic = sum(topic)\n",
        "\n",
        "  while convergence_rate > epsilon and iter < max_iter:\n",
        "    pfirst = single_step(graph,n,v,p,topic,ontopic,beta)\n",
        "    convergence_rate = convergence_measure(p,pfirst)\n",
        "    p = pfirst\n",
        "    iter += 1\n",
        "\n",
        "  return dict((k,v) for k,v in enumerate(p))"
      ],
      "execution_count": 66,
      "outputs": []
    },
    {
      "cell_type": "code",
      "metadata": {
        "id": "0lqyyjhjal8c",
        "colab": {
          "base_uri": "https://localhost:8080/"
        },
        "outputId": "ac86410b-7f56-4211-e241-9db7c6084ac9"
      },
      "source": [
        "%time genderrank = tsrank(g, epsilon = 0.000001 * g.getorder(), topic=list(g.genderAttribute.values()))"
      ],
      "execution_count": 67,
      "outputs": [
        {
          "output_type": "stream",
          "text": [
            "CPU times: user 6.95 s, sys: 10.8 ms, total: 6.96 s\n",
            "Wall time: 6.99 s\n"
          ],
          "name": "stdout"
        }
      ]
    },
    {
      "cell_type": "code",
      "metadata": {
        "id": "y5V-BTyi5rU7",
        "colab": {
          "base_uri": "https://localhost:8080/"
        },
        "outputId": "9a160d7f-92e6-4119-8716-1f803af0b20a"
      },
      "source": [
        "sum(genderrank.values())"
      ],
      "execution_count": 68,
      "outputs": [
        {
          "output_type": "execute_result",
          "data": {
            "text/plain": [
              "1.0000000848726707"
            ]
          },
          "metadata": {},
          "execution_count": 68
        }
      ]
    },
    {
      "cell_type": "markdown",
      "metadata": {
        "id": "Px-GxQIe2J1t"
      },
      "source": [
        "## HITS"
      ]
    },
    {
      "cell_type": "code",
      "metadata": {
        "id": "taSSOZ6HbBvy"
      },
      "source": [
        "def hits(graph,iterations=100):\n",
        "\n",
        "  \"\"\"Returns hub and authority values for each node in the graph.\n",
        "\n",
        "  Parameters\n",
        "  -----------\n",
        "  graph: ActorGraph\n",
        "    Graph in a which a node is an actor and an edge will link two nodes if the corresponding actors played at least once in the same movie.\n",
        "  iterations: int, optional\n",
        "    Number of iterations for authority and hub values update.\n",
        "    \n",
        "  Returns\n",
        "  -----------\n",
        "  hub,auth : Tuple[Dict[int,float],Dict[int,float]]\n",
        "    Tuple of dicts in which are stored for each node the corresponding hub and authority value\n",
        "  \"\"\"\n",
        "\n",
        "  auth = dict([(k,1) for k in graph.nodes()])\n",
        "  hub = dict([(k,1) for k in graph.nodes()])\n",
        "\n",
        "  for _ in range(iterations):\n",
        "\n",
        "    #auth update\n",
        "    for i in auth:\n",
        "      auth[i] = sum([hub[j] for j in graph.in_links[i]])\n",
        "\n",
        "    #hub update\n",
        "    for i in hub:\n",
        "      hub[i] = sum([auth[j] for j in graph.out_links[i]])\n",
        "\n",
        "    #normalization\n",
        "    authfactor = sum(auth.values()) \n",
        "    hubfactor = sum(hub.values())\n",
        "    auth = {k: (v/authfactor) for k,v in auth.items()}\n",
        "    hub = {k: (v/hubfactor) for k,v in hub.items()}\n",
        "\n",
        "  return hub, auth"
      ],
      "execution_count": 69,
      "outputs": []
    },
    {
      "cell_type": "markdown",
      "metadata": {
        "id": "YASmuRm6-D1Z"
      },
      "source": [
        "### Toy Example"
      ]
    },
    {
      "cell_type": "code",
      "metadata": {
        "id": "Ofkae4QF-PB5"
      },
      "source": [
        "def print_hub_auth(hubauth):\n",
        "  \"Utility to print hub and auth dict in a more understandable way\"\n",
        "  hub,auth = hubauth\n",
        "  print(f\"Hub: {hub}\\nAuth: {auth}\")"
      ],
      "execution_count": 70,
      "outputs": []
    },
    {
      "cell_type": "code",
      "metadata": {
        "colab": {
          "base_uri": "https://localhost:8080/",
          "height": 354
        },
        "id": "ENc5Sof0-FTC",
        "outputId": "0fdc6e76-ec8f-4468-d2f1-880bc5b6fab3"
      },
      "source": [
        "nx.draw(graph1.to_networkx_graph(),with_labels=True, node_color = 'orange')\n",
        "print_hub_auth(hits(graph1))"
      ],
      "execution_count": 71,
      "outputs": [
        {
          "output_type": "stream",
          "text": [
            "Hub: {0: 0.19098300562505258, 1: 0.30901699437494745, 2: 0.30901699437494745, 3: 0.19098300562505258}\n",
            "Auth: {0: 0.19098300562505258, 1: 0.3090169943749474, 2: 0.3090169943749474, 3: 0.19098300562505258}\n"
          ],
          "name": "stdout"
        },
        {
          "output_type": "display_data",
          "data": {
            "image/png": "[encoded data removed]",
            "text/plain": [
              "<Figure size 432x288 with 1 Axes>"
            ]
          },
          "metadata": {}
        }
      ]
    },
    {
      "cell_type": "code",
      "metadata": {
        "colab": {
          "base_uri": "https://localhost:8080/",
          "height": 354
        },
        "id": "TdV9o8Qw_DyY",
        "outputId": "8acbf87e-773f-4b5e-ead4-6ae2ee55c06a"
      },
      "source": [
        "nx.draw(graph2.to_networkx_graph(),with_labels=True, node_color = 'orange')\n",
        "print_hub_auth(hits(graph2))"
      ],
      "execution_count": 72,
      "outputs": [
        {
          "output_type": "stream",
          "text": [
            "Hub: {0: 0.25, 1: 0.25, 2: 0.25, 3: 0.25}\n",
            "Auth: {0: 0.25, 1: 0.25, 2: 0.25, 3: 0.25}\n"
          ],
          "name": "stdout"
        },
        {
          "output_type": "display_data",
          "data": {
            "image/png": "[encoded data removed]",
            "text/plain": [
              "<Figure size 432x288 with 1 Axes>"
            ]
          },
          "metadata": {}
        }
      ]
    },
    {
      "cell_type": "code",
      "metadata": {
        "colab": {
          "base_uri": "https://localhost:8080/",
          "height": 354
        },
        "id": "uThgPlrR_HbG",
        "outputId": "3a73c11f-2125-4013-c145-b560a2124fd4"
      },
      "source": [
        "nx.draw(graph3.to_networkx_graph(),with_labels=True, node_color = 'orange')\n",
        "print_hub_auth(hits(graph3))"
      ],
      "execution_count": 73,
      "outputs": [
        {
          "output_type": "stream",
          "text": [
            "Hub: {0: 0.2, 1: 0.2, 2: 0.2, 3: 0.2, 4: 0.2}\n",
            "Auth: {0: 0.5000000000000001, 1: 0.12500000000000003, 2: 0.12500000000000003, 3: 0.12500000000000003, 4: 0.12500000000000003}\n"
          ],
          "name": "stdout"
        },
        {
          "output_type": "display_data",
          "data": {
            "image/png": "[encoded data removed]",
            "text/plain": [
              "<Figure size 432x288 with 1 Axes>"
            ]
          },
          "metadata": {}
        }
      ]
    },
    {
      "cell_type": "markdown",
      "metadata": {
        "id": "t1VMekDZ2OLH"
      },
      "source": [
        "# Ranks comparison"
      ]
    },
    {
      "cell_type": "markdown",
      "metadata": {
        "id": "X8SmPsCE-bRP"
      },
      "source": [
        "## Top10 of each rank"
      ]
    },
    {
      "cell_type": "code",
      "metadata": {
        "id": "fKdBbmtW6ReC"
      },
      "source": [
        "degrank = g.in_degree()"
      ],
      "execution_count": 74,
      "outputs": []
    },
    {
      "cell_type": "code",
      "metadata": {
        "id": "OTM-T2Fb6VeB",
        "colab": {
          "base_uri": "https://localhost:8080/"
        },
        "outputId": "4cac80af-a861-4434-9664-6f4de777f3fa"
      },
      "source": [
        "top10degrank = sorted(degrank.items(), key=lambda x: x[1],reverse=True)[:10]\n",
        "top10degrank"
      ],
      "execution_count": 75,
      "outputs": [
        {
          "output_type": "execute_result",
          "data": {
            "text/plain": [
              "[(128033, 865),\n",
              " (58225, 801),\n",
              " (44022, 764),\n",
              " (55814, 732),\n",
              " (39605, 714),\n",
              " (63926, 677),\n",
              " (53066, 643),\n",
              " (62749, 639),\n",
              " (65739, 618),\n",
              " (40369, 591)]"
            ]
          },
          "metadata": {},
          "execution_count": 75
        }
      ]
    },
    {
      "cell_type": "code",
      "metadata": {
        "id": "7rGIx2Hj32KQ"
      },
      "source": [
        "prank = pagerank(g)"
      ],
      "execution_count": 76,
      "outputs": []
    },
    {
      "cell_type": "code",
      "metadata": {
        "id": "c-SDcnLE4ugZ",
        "colab": {
          "base_uri": "https://localhost:8080/",
          "height": 35
        },
        "outputId": "ddbfca40-e8bf-4df3-8d2a-ee33819284c8"
      },
      "source": [
        "with open('pagerank.json','w') as f:\n",
        "  toSave = dict([(k,str(v)) for k,v in prank.items()])\n",
        "  json.dump(toSave,f,indent=4)"
      ],
      "execution_count": 77,
      "outputs": [
        {
          "output_type": "execute_result",
          "data": {
            "application/vnd.google.colaboratory.intrinsic+json": {
              "type": "string"
            },
            "text/plain": [
              "\"\\nwith open('pagerank.json','w') as f:\\n  toSave = dict([(k,str(v)) for k,v in prank.items()])\\n  json.dump(toSave,f,indent=4)\\n\""
            ]
          },
          "metadata": {},
          "execution_count": 77
        }
      ]
    },
    {
      "cell_type": "code",
      "metadata": {
        "id": "glLjcNveQddM"
      },
      "source": [
        "\"\"\"\n",
        "with open('pagerank.json','r') as f:\n",
        "  fromDump = json.load(f)\n",
        "  prank = dict([(k,np.float32(v)) for k,v in fromDump.items()])\n",
        "\"\"\""
      ],
      "execution_count": 78,
      "outputs": []
    },
    {
      "cell_type": "code",
      "metadata": {
        "id": "8XgjsZb85Lrd",
        "colab": {
          "base_uri": "https://localhost:8080/"
        },
        "outputId": "c1f70d71-9933-4119-8868-31d9e38469ec"
      },
      "source": [
        "top10prank = sorted(prank.items(), key=lambda x: x[1],reverse=True)[:10]\n",
        "top10prank"
      ],
      "execution_count": 79,
      "outputs": [
        {
          "output_type": "execute_result",
          "data": {
            "text/plain": [
              "[('55814', 0.00011188644),\n",
              " ('128033', 8.1640865e-05),\n",
              " ('39605', 7.1438546e-05),\n",
              " ('58225', 6.927196e-05),\n",
              " ('73431', 5.9934355e-05),\n",
              " ('74407', 5.8757323e-05),\n",
              " ('77974', 5.8360736e-05),\n",
              " ('240271', 5.8137513e-05),\n",
              " ('67625', 5.6825273e-05),\n",
              " ('91103', 5.4326276e-05)]"
            ]
          },
          "metadata": {},
          "execution_count": 79
        }
      ]
    },
    {
      "cell_type": "code",
      "metadata": {
        "id": "rkIXxocF6Fds"
      },
      "source": [
        "genderrank = tsrank(g,topic=list(g.genderAttribute.values()))"
      ],
      "execution_count": 80,
      "outputs": []
    },
    {
      "cell_type": "code",
      "metadata": {
        "id": "-sNQ9zjE6fJX",
        "colab": {
          "base_uri": "https://localhost:8080/",
          "height": 35
        },
        "outputId": "f37b2685-f27d-4564-c09b-fb2cd8387a21"
      },
      "source": [
        "with open('topic-sensitive-rank.json','w') as f:\n",
        "  toSave = dict([(k,str(v)) for k,v in genderrank.items()])\n",
        "  json.dump(toSave,f,indent=4)"
      ],
      "execution_count": 81,
      "outputs": [
        {
          "output_type": "execute_result",
          "data": {
            "application/vnd.google.colaboratory.intrinsic+json": {
              "type": "string"
            },
            "text/plain": [
              "\"\\nwith open('topic-sensitive-rank.json','w') as f:\\n  toSave = dict([(k,str(v)) for k,v in genderrank.items()])\\n  json.dump(toSave,f,indent=4)\\n\""
            ]
          },
          "metadata": {},
          "execution_count": 81
        }
      ]
    },
    {
      "cell_type": "code",
      "metadata": {
        "id": "LpPSJoV7PpGz"
      },
      "source": [
        "\"\"\"\n",
        "with open('topic-sensitive-rank.json','r') as f:\n",
        "  fromDump = json.load(f)\n",
        "  genderrank = dict([(k,np.float32(v)) for k,v in fromDump.items()])\n",
        "\"\"\""
      ],
      "execution_count": 82,
      "outputs": []
    },
    {
      "cell_type": "code",
      "metadata": {
        "id": "lKLn7jcx6n9y",
        "colab": {
          "base_uri": "https://localhost:8080/"
        },
        "outputId": "00672612-d42c-45fe-f2b1-ddfc714bf9db"
      },
      "source": [
        "top10genderrank = sorted(genderrank.items(), key=lambda x: x[1],reverse=True)[:10]\n",
        "top10genderrank"
      ],
      "execution_count": 83,
      "outputs": [
        {
          "output_type": "execute_result",
          "data": {
            "text/plain": [
              "[('55814', 0.00012122903),\n",
              " ('39605', 0.00011293084),\n",
              " ('58225', 9.56341e-05),\n",
              " ('240271', 9.4752286e-05),\n",
              " ('128033', 7.787699e-05),\n",
              " ('151542', 6.853794e-05),\n",
              " ('65087', 6.853214e-05),\n",
              " ('65739', 6.818579e-05),\n",
              " ('49539', 6.6550114e-05),\n",
              " ('56700', 6.584853e-05)]"
            ]
          },
          "metadata": {},
          "execution_count": 83
        }
      ]
    },
    {
      "cell_type": "code",
      "metadata": {
        "id": "nZ8VQAY76yEJ"
      },
      "source": [
        "hubrank, authrank = hits(g,iterations=60)"
      ],
      "execution_count": 84,
      "outputs": []
    },
    {
      "cell_type": "code",
      "metadata": {
        "id": "oMiOFET0GBh4",
        "colab": {
          "base_uri": "https://localhost:8080/",
          "height": 53
        },
        "outputId": "a3ec1aec-222c-4134-dab1-8cd79d827baf"
      },
      "source": [
        "with open('auth-rank.json','w') as f:\n",
        "  toSave = dict([(k,str(v)) for k,v in authrank.items()])\n",
        "  json.dump(toSave,f,indent=4)\n",
        "  f.close()\n",
        "\n",
        "with open('hub-rank.json','w') as f1:\n",
        "  toSave1 = dict([(k,str(v)) for k,v in hubrank.items()])\n",
        "  json.dump(toSave1,f1,indent=4)"
      ],
      "execution_count": 85,
      "outputs": [
        {
          "output_type": "execute_result",
          "data": {
            "application/vnd.google.colaboratory.intrinsic+json": {
              "type": "string"
            },
            "text/plain": [
              "\"\\nwith open('auth-rank.json','w') as f:\\n  toSave = dict([(k,str(v)) for k,v in authrank.items()])\\n  json.dump(toSave,f,indent=4)\\n  f.close()\\n\\nwith open('hub-rank.json','w') as f1:\\n  toSave1 = dict([(k,str(v)) for k,v in hubrank.items()])\\n  json.dump(toSave1,f1,indent=4)\\n\""
            ]
          },
          "metadata": {},
          "execution_count": 85
        }
      ]
    },
    {
      "cell_type": "code",
      "metadata": {
        "id": "8BL3Jjd0Hi0W"
      },
      "source": [
        "\"\"\"\n",
        "with open('auth-rank.json','r') as f:\n",
        "  fromDump = json.load(f)\n",
        "  authrank = dict([(k,np.float32(v)) for k,v in fromDump.items()])\n",
        "  f.close()\n",
        "\n",
        "with open('hub-rank.json','r') as f1:\n",
        "  fromDump1 = json.load(f1)\n",
        "  hubrank = dict([(k,np.float32(v)) for k,v in fromDump1.items()])\n",
        "\"\"\""
      ],
      "execution_count": 86,
      "outputs": []
    },
    {
      "cell_type": "code",
      "metadata": {
        "id": "3CMrk1JW66b1",
        "colab": {
          "base_uri": "https://localhost:8080/"
        },
        "outputId": "3afb8ca6-8b10-4be9-f37c-36645a433362"
      },
      "source": [
        "top10hubrank = sorted(hubrank.items(), key=lambda x: x[1],reverse=True)[:10]\n",
        "top10authrank = sorted(authrank.items(), key=lambda x: x[1],reverse=True)[:10]\n",
        "top10authrank"
      ],
      "execution_count": 87,
      "outputs": [
        {
          "output_type": "execute_result",
          "data": {
            "text/plain": [
              "[('40369', 0.002510891),\n",
              " ('29406', 0.002379203),\n",
              " ('18370', 0.002339439),\n",
              " ('28925', 0.002301597),\n",
              " ('26928', 0.0022637667),\n",
              " ('36296', 0.0022128674),\n",
              " ('29278', 0.002211824),\n",
              " ('22466', 0.0021162122),\n",
              " ('35689', 0.0020780796),\n",
              " ('24566', 0.0020737688)]"
            ]
          },
          "metadata": {},
          "execution_count": 87
        }
      ]
    },
    {
      "cell_type": "code",
      "metadata": {
        "id": "aMrhSdEP7O1v"
      },
      "source": [
        "nxg = g.to_networkx_graph()"
      ],
      "execution_count": 88,
      "outputs": []
    },
    {
      "cell_type": "code",
      "metadata": {
        "id": "Xrh9hOKvT0_Z",
        "colab": {
          "base_uri": "https://localhost:8080/"
        },
        "outputId": "38530694-891d-41e7-91a9-92601db0e6c1"
      },
      "source": [
        "top10hrank = [(k,v) for k,v in nx.harmonic_centrality(nxg,nbunch=top10id.keys()).items()]\n",
        "top10hrank"
      ],
      "execution_count": 89,
      "outputs": [
        {
          "output_type": "execute_result",
          "data": {
            "text/plain": [
              "[(14709, 101559.97298517855),\n",
              " (26636, 107205.3959787793),\n",
              " (14740, 103095.9291151237),\n",
              " (15819, 100351.34953640647),\n",
              " (27235, 103289.42753058544),\n",
              " (15810, 103148.44960852368),\n",
              " (15014, 106052.94185235315),\n",
              " (41673, 110977.15045206077),\n",
              " (32047, 108142.15788351704),\n",
              " (57485, 106345.61152710133)]"
            ]
          },
          "metadata": {},
          "execution_count": 89
        }
      ]
    },
    {
      "cell_type": "code",
      "metadata": {
        "id": "CkCcW7-rHU2c"
      },
      "source": [
        "def who_are(nodes):\n",
        "  \"\"\"Returns (name,rankvalue) pairs for the actors in nodes sorted by rankvalue in descending order.\n",
        "\n",
        "  Parameters\n",
        "  -----------\n",
        "  nodes: List[Tuple[int,float]]\n",
        "    list of (nodeid,rankValue) pairs.\n",
        "  \n",
        "  Returns\n",
        "  ----------\n",
        "  List[Tuple[str,\"int or float\"]]\n",
        "    (name,rankvalue) pairs for the actors in nodes sorted by rankvalue in descending order\n",
        "  \"\"\"\n",
        "  with open('id-actor.json','r') as f:\n",
        "    actordict = json.load(f)\n",
        "    actors = dict([(actordict[str(k)],v) for k,v in nodes])\n",
        "    del actordict\n",
        "    gc.collect()\n",
        "    f.close()\n",
        "  with open('name.basics.tsv/name.basics.tsv','r') as tsv_file:\n",
        "    tsv = csv.reader(tsv_file,delimiter=\"\\t\")\n",
        "    header = next(tsv)\n",
        "    end = False\n",
        "    names = []\n",
        "    N = len(nodes)\n",
        "    while not end and len(names)<N:\n",
        "      try:\n",
        "        row = next(tsv)\n",
        "      except StopIteration:\n",
        "        end = True\n",
        "      else:\n",
        "        #['nconst','primaryName','birthYear','deathYear','primaryProfession','knownForTitles']\n",
        "        if row[0] in actors:\n",
        "          names.append((row[1],actors[row[0]]))\n",
        "    del tsv\n",
        "    gc.collect()\n",
        "    tsv_file.close()\n",
        "  return sorted(names,key=lambda x: x[1],reverse=True)"
      ],
      "execution_count": 90,
      "outputs": []
    },
    {
      "cell_type": "code",
      "metadata": {
        "id": "IwNAO1BtLqpS"
      },
      "source": [
        "names_degrank = who_are(top10degrank)"
      ],
      "execution_count": 91,
      "outputs": []
    },
    {
      "cell_type": "code",
      "metadata": {
        "id": "bQcdQozvP2E1"
      },
      "source": [
        "names_prank = who_are(top10prank)"
      ],
      "execution_count": 92,
      "outputs": []
    },
    {
      "cell_type": "code",
      "metadata": {
        "id": "_yVktk_5d4O0"
      },
      "source": [
        "names_tsrank = who_are(top10genderrank)"
      ],
      "execution_count": 93,
      "outputs": []
    },
    {
      "cell_type": "code",
      "metadata": {
        "id": "boyh7hLGFM3r"
      },
      "source": [
        "names_hubrank = who_are(top10hubrank)"
      ],
      "execution_count": 94,
      "outputs": []
    },
    {
      "cell_type": "code",
      "metadata": {
        "id": "4qTwz47VFPBr"
      },
      "source": [
        "names_authrank = who_are(top10authrank)"
      ],
      "execution_count": 95,
      "outputs": []
    },
    {
      "cell_type": "code",
      "metadata": {
        "id": "tOxT6ME00wjo"
      },
      "source": [
        "def getOnlyNames(rank):\n",
        "  \"\"\"Returns names of the actors in rank\"\"\"\n",
        "  return [name for name,value in rank]"
      ],
      "execution_count": 96,
      "outputs": []
    },
    {
      "cell_type": "markdown",
      "metadata": {
        "id": "JVdy4uqvBCzd"
      },
      "source": [
        "### Rank Table"
      ]
    },
    {
      "cell_type": "code",
      "metadata": {
        "id": "WKkTePiA1Ibc"
      },
      "source": [
        "ranks = pd.DataFrame()\n",
        "ranks['In-Degree'] = getOnlyNames(names_degrank)\n",
        "ranks['PageRank'] = getOnlyNames(names_prank)\n",
        "ranks['Ts-PageRank'] = getOnlyNames(names_tsrank)\n",
        "ranks['HITS-Hub'] = getOnlyNames(names_hubrank)\n",
        "ranks['HITS-Auth'] = getOnlyNames(names_authrank)\n",
        "ranks.index += 1"
      ],
      "execution_count": 97,
      "outputs": []
    },
    {
      "cell_type": "code",
      "metadata": {
        "colab": {
          "base_uri": "https://localhost:8080/",
          "height": 363
        },
        "id": "9nVyL_3y7Zmy",
        "outputId": "0fb1f7f9-42b6-44a5-839d-b5e88685e4d0"
      },
      "source": [
        "ranks"
      ],
      "execution_count": 98,
      "outputs": [
        {
          "output_type": "execute_result",
          "data": {
            "text/html": [
              "<div>\n",
              "<style scoped>\n",
              "    .dataframe tbody tr th:only-of-type {\n",
              "        vertical-align: middle;\n",
              "    }\n",
              "\n",
              "    .dataframe tbody tr th {\n",
              "        vertical-align: top;\n",
              "    }\n",
              "\n",
              "    .dataframe thead th {\n",
              "        text-align: right;\n",
              "    }\n",
              "</style>\n",
              "<table border=\"1\" class=\"dataframe\">\n",
              "  <thead>\n",
              "    <tr style=\"text-align: right;\">\n",
              "      <th></th>\n",
              "      <th>In-Degree</th>\n",
              "      <th>PageRank</th>\n",
              "      <th>Ts-PageRank</th>\n",
              "      <th>HITS-Hub</th>\n",
              "      <th>HITS-Auth</th>\n",
              "    </tr>\n",
              "  </thead>\n",
              "  <tbody>\n",
              "    <tr>\n",
              "      <th>1</th>\n",
              "      <td>Brahmanandam</td>\n",
              "      <td>Eric Roberts</td>\n",
              "      <td>Eric Roberts</td>\n",
              "      <td>Aruna Irani</td>\n",
              "      <td>Aruna Irani</td>\n",
              "    </tr>\n",
              "    <tr>\n",
              "      <th>2</th>\n",
              "      <td>Ron Jeremy</td>\n",
              "      <td>Brahmanandam</td>\n",
              "      <td>Masayoshi Nogami</td>\n",
              "      <td>Helen</td>\n",
              "      <td>Helen</td>\n",
              "    </tr>\n",
              "    <tr>\n",
              "      <th>3</th>\n",
              "      <td>Eddie Garcia</td>\n",
              "      <td>Masayoshi Nogami</td>\n",
              "      <td>Ron Jeremy</td>\n",
              "      <td>Ashok Kumar</td>\n",
              "      <td>Ashok Kumar</td>\n",
              "    </tr>\n",
              "    <tr>\n",
              "      <th>4</th>\n",
              "      <td>Eric Roberts</td>\n",
              "      <td>Ron Jeremy</td>\n",
              "      <td>Seiji Nakamitsu</td>\n",
              "      <td>Master Bhagwan</td>\n",
              "      <td>Master Bhagwan</td>\n",
              "    </tr>\n",
              "    <tr>\n",
              "      <th>5</th>\n",
              "      <td>Masayoshi Nogami</td>\n",
              "      <td>Joe Estevez</td>\n",
              "      <td>Brahmanandam</td>\n",
              "      <td>Pran</td>\n",
              "      <td>Pran</td>\n",
              "    </tr>\n",
              "    <tr>\n",
              "      <th>6</th>\n",
              "      <td>Paquito Diaz</td>\n",
              "      <td>Michael Madsen</td>\n",
              "      <td>Kôji Makimura</td>\n",
              "      <td>Dharmendra</td>\n",
              "      <td>Dharmendra</td>\n",
              "    </tr>\n",
              "    <tr>\n",
              "      <th>7</th>\n",
              "      <td>Mithun Chakraborty</td>\n",
              "      <td>Tom Sizemore</td>\n",
              "      <td>Yutaka Ikejima</td>\n",
              "      <td>Jagdeep</td>\n",
              "      <td>Jagdeep</td>\n",
              "    </tr>\n",
              "    <tr>\n",
              "      <th>8</th>\n",
              "      <td>Shakti Kapoor</td>\n",
              "      <td>Seiji Nakamitsu</td>\n",
              "      <td>Tom Byron</td>\n",
              "      <td>Jeevan</td>\n",
              "      <td>Jeevan</td>\n",
              "    </tr>\n",
              "    <tr>\n",
              "      <th>9</th>\n",
              "      <td>Tom Byron</td>\n",
              "      <td>Tony Devon</td>\n",
              "      <td>Jamie Gillis</td>\n",
              "      <td>Mohan Choti</td>\n",
              "      <td>Mohan Choti</td>\n",
              "    </tr>\n",
              "    <tr>\n",
              "      <th>10</th>\n",
              "      <td>Aruna Irani</td>\n",
              "      <td>Danny Trejo</td>\n",
              "      <td>Jean-Pierre Armand</td>\n",
              "      <td>Madan Puri</td>\n",
              "      <td>Madan Puri</td>\n",
              "    </tr>\n",
              "  </tbody>\n",
              "</table>\n",
              "</div>"
            ],
            "text/plain": [
              "             In-Degree          PageRank  ...        HITS-Hub       HITS-Auth\n",
              "1         Brahmanandam      Eric Roberts  ...     Aruna Irani     Aruna Irani\n",
              "2           Ron Jeremy      Brahmanandam  ...           Helen           Helen\n",
              "3         Eddie Garcia  Masayoshi Nogami  ...     Ashok Kumar     Ashok Kumar\n",
              "4         Eric Roberts        Ron Jeremy  ...  Master Bhagwan  Master Bhagwan\n",
              "5     Masayoshi Nogami       Joe Estevez  ...            Pran            Pran\n",
              "6         Paquito Diaz    Michael Madsen  ...      Dharmendra      Dharmendra\n",
              "7   Mithun Chakraborty      Tom Sizemore  ...         Jagdeep         Jagdeep\n",
              "8        Shakti Kapoor   Seiji Nakamitsu  ...          Jeevan          Jeevan\n",
              "9            Tom Byron        Tony Devon  ...     Mohan Choti     Mohan Choti\n",
              "10         Aruna Irani       Danny Trejo  ...      Madan Puri      Madan Puri\n",
              "\n",
              "[10 rows x 5 columns]"
            ]
          },
          "metadata": {},
          "execution_count": 98
        }
      ]
    },
    {
      "cell_type": "markdown",
      "metadata": {
        "id": "CzNYqfxk-hz8"
      },
      "source": [
        "## Top10 of all time similarity"
      ]
    },
    {
      "cell_type": "markdown",
      "metadata": {
        "id": "lqhamuf5_NqL"
      },
      "source": [
        "### Preliminaries"
      ]
    },
    {
      "cell_type": "code",
      "metadata": {
        "id": "fPo-O6O965id"
      },
      "source": [
        "def retrieveRankBestActors(rank,top10):\n",
        "  \"\"\"Returns the rank of the best actor and actresses of all time by IMDB according to the rank parameter.\n",
        "\n",
        "  Parameters\n",
        "  -----------\n",
        "  rank: Dict[\"int or str\",float]\n",
        "    Dictiornary in which for each nodeid is stored a rank value according to same strategy(PageRank,HITS,...)\n",
        "  top10: Dict[int,str]\n",
        "    Dictionary in which are stored (nodeid,actorName) relations for the best actors and actresses of all time by IMDB\n",
        "\n",
        "  Returns\n",
        "  -----------\n",
        "  List[Tuple[str,\"int or float\"]]\n",
        "    List of (actorName,rankValue) pairs sorted by rankValue in descending order.\n",
        "  \"\"\"\n",
        "  rank = dict([(int(k),v) for k,v in rank.items()])\n",
        "  rankBest = []\n",
        "  for actor,value in rank.items():\n",
        "    if actor in top10:\n",
        "      rankBest.append((top10[actor],value))\n",
        "    if rankBest == len(top10): break\n",
        "  return sorted(rankBest,key=lambda x: x[1],reverse=True)"
      ],
      "execution_count": 99,
      "outputs": []
    },
    {
      "cell_type": "code",
      "metadata": {
        "id": "oCKs3fxzUBM6",
        "colab": {
          "base_uri": "https://localhost:8080/"
        },
        "outputId": "ece682f2-d371-40fb-b0fb-65d1f9a91385"
      },
      "source": [
        "top10actorIMBD"
      ],
      "execution_count": 100,
      "outputs": [
        {
          "output_type": "execute_result",
          "data": {
            "text/plain": [
              "['Katharine Hepburn',\n",
              " 'Jack Nicholson',\n",
              " 'Laurence Olivier',\n",
              " 'Meryl Streep',\n",
              " 'Humphrey Bogart',\n",
              " 'Audrey Hepburn',\n",
              " 'Robert De Niro',\n",
              " 'Bette Davis',\n",
              " 'Cary Grant',\n",
              " 'Marlon Brando']"
            ]
          },
          "metadata": {},
          "execution_count": 100
        }
      ]
    },
    {
      "cell_type": "code",
      "metadata": {
        "id": "TKkx3N56GTDU",
        "colab": {
          "base_uri": "https://localhost:8080/"
        },
        "outputId": "f7e9684e-b720-4968-d754-bc0a5b86aa03"
      },
      "source": [
        "top_with_deg = retrieveRankBestActors(degrank,top10id)\n",
        "top_with_deg"
      ],
      "execution_count": 101,
      "outputs": [
        {
          "output_type": "execute_result",
          "data": {
            "text/plain": [
              "[('Robert De Niro', 224),\n",
              " ('Bette Davis', 199),\n",
              " ('Cary Grant', 171),\n",
              " ('Humphrey Bogart', 166),\n",
              " ('Meryl Streep', 144),\n",
              " ('Jack Nicholson', 137),\n",
              " ('Laurence Olivier', 131),\n",
              " ('Katharine Hepburn', 111),\n",
              " ('Marlon Brando', 111),\n",
              " ('Audrey Hepburn', 62)]"
            ]
          },
          "metadata": {},
          "execution_count": 101
        }
      ]
    },
    {
      "cell_type": "code",
      "metadata": {
        "id": "v_gXJncJFgI9",
        "colab": {
          "base_uri": "https://localhost:8080/"
        },
        "outputId": "0ae078c7-34cf-4aa6-eb40-0c807a70c550"
      },
      "source": [
        "top_with_pr = retrieveRankBestActors(prank,top10id)\n",
        "top_with_pr"
      ],
      "execution_count": 102,
      "outputs": [
        {
          "output_type": "execute_result",
          "data": {
            "text/plain": [
              "[('Robert De Niro', 2.4316249e-05),\n",
              " ('Meryl Streep', 1.6213675e-05),\n",
              " ('Jack Nicholson', 1.4998927e-05),\n",
              " ('Bette Davis', 1.3288857e-05),\n",
              " ('Cary Grant', 1.0749847e-05),\n",
              " ('Laurence Olivier', 1.0710573e-05),\n",
              " ('Humphrey Bogart', 1.0283245e-05),\n",
              " ('Marlon Brando', 1.0226178e-05),\n",
              " ('Katharine Hepburn', 8.281349e-06),\n",
              " ('Audrey Hepburn', 5.3749172e-06)]"
            ]
          },
          "metadata": {},
          "execution_count": 102
        }
      ]
    },
    {
      "cell_type": "code",
      "metadata": {
        "id": "WAXSdF6ZULWs",
        "colab": {
          "base_uri": "https://localhost:8080/"
        },
        "outputId": "7ee68ccc-5722-45ea-fb48-1e36d3440f91"
      },
      "source": [
        "top_with_ts = retrieveRankBestActors(genderrank,top10id)\n",
        "top_with_ts"
      ],
      "execution_count": 103,
      "outputs": [
        {
          "output_type": "execute_result",
          "data": {
            "text/plain": [
              "[('Robert De Niro', 2.4992527e-05),\n",
              " ('Meryl Streep', 1.7349035e-05),\n",
              " ('Jack Nicholson', 1.645434e-05),\n",
              " ('Bette Davis', 1.4833126e-05),\n",
              " ('Cary Grant', 1.1612548e-05),\n",
              " ('Laurence Olivier', 1.1024845e-05),\n",
              " ('Humphrey Bogart', 1.0812544e-05),\n",
              " ('Marlon Brando', 1.0738031e-05),\n",
              " ('Katharine Hepburn', 8.848231e-06),\n",
              " ('Audrey Hepburn', 6.2916442e-06)]"
            ]
          },
          "metadata": {},
          "execution_count": 103
        }
      ]
    },
    {
      "cell_type": "code",
      "metadata": {
        "id": "ehP3DiYRFS3f",
        "colab": {
          "base_uri": "https://localhost:8080/"
        },
        "outputId": "72494446-2d13-46a5-d50c-898ab3b534a7"
      },
      "source": [
        "top_with_hub = retrieveRankBestActors(hubrank,top10id)\n",
        "top_with_hub"
      ],
      "execution_count": 104,
      "outputs": [
        {
          "output_type": "execute_result",
          "data": {
            "text/plain": [
              "[('Robert De Niro', 7.97865e-07),\n",
              " ('Meryl Streep', 7.9061573e-07),\n",
              " ('Jack Nicholson', 4.9817584e-07),\n",
              " ('Laurence Olivier', 3.8291824e-07),\n",
              " ('Bette Davis', 3.595209e-07),\n",
              " ('Audrey Hepburn', 3.4341633e-07),\n",
              " ('Marlon Brando', 2.3579842e-07),\n",
              " ('Humphrey Bogart', 1.7547826e-07),\n",
              " ('Cary Grant', 1.5404576e-07),\n",
              " ('Katharine Hepburn', 1.3111335e-07)]"
            ]
          },
          "metadata": {},
          "execution_count": 104
        }
      ]
    },
    {
      "cell_type": "code",
      "metadata": {
        "id": "M9O2nnrJFUd9",
        "colab": {
          "base_uri": "https://localhost:8080/"
        },
        "outputId": "9f450323-0245-45e8-dc19-735e1477a540"
      },
      "source": [
        "top_with_auth = retrieveRankBestActors(authrank,top10id)\n",
        "top_with_auth"
      ],
      "execution_count": 105,
      "outputs": [
        {
          "output_type": "execute_result",
          "data": {
            "text/plain": [
              "[('Robert De Niro', 7.9785565e-07),\n",
              " ('Meryl Streep', 7.906074e-07),\n",
              " ('Jack Nicholson', 4.986056e-07),\n",
              " ('Laurence Olivier', 3.8292146e-07),\n",
              " ('Bette Davis', 3.5954398e-07),\n",
              " ('Audrey Hepburn', 3.4341963e-07),\n",
              " ('Marlon Brando', 2.3582342e-07),\n",
              " ('Humphrey Bogart', 1.7549273e-07),\n",
              " ('Cary Grant', 1.5405966e-07),\n",
              " ('Katharine Hepburn', 1.3112137e-07)]"
            ]
          },
          "metadata": {},
          "execution_count": 105
        }
      ]
    },
    {
      "cell_type": "code",
      "metadata": {
        "id": "dD85t8k9UABi",
        "colab": {
          "base_uri": "https://localhost:8080/"
        },
        "outputId": "c5e4ad26-4a4d-4aab-e298-0f8433056236"
      },
      "source": [
        "top_with_harmonic = who_are(top10hrank)\n",
        "top_with_harmonic"
      ],
      "execution_count": 106,
      "outputs": [
        {
          "output_type": "execute_result",
          "data": {
            "text/plain": [
              "[('Robert De Niro', 110977.15045206077),\n",
              " ('Jack Nicholson', 108142.15788351704),\n",
              " ('Marlon Brando', 107205.3959787793),\n",
              " ('Meryl Streep', 106345.61152710133),\n",
              " ('Laurence Olivier', 106052.94185235315),\n",
              " ('Audrey Hepburn', 103289.42753058544),\n",
              " ('Katharine Hepburn', 103148.44960852368),\n",
              " ('Bette Davis', 103095.9291151237),\n",
              " ('Humphrey Bogart', 101559.97298517855),\n",
              " ('Cary Grant', 100351.34953640647)]"
            ]
          },
          "metadata": {},
          "execution_count": 106
        }
      ]
    },
    {
      "cell_type": "code",
      "metadata": {
        "id": "Kon5urs_AsVb"
      },
      "source": [
        "tops = [top_with_deg, top_with_pr, top_with_ts, top_with_hub, top_with_auth, top_with_harmonic]\n",
        "tops = [getOnlyNames(top) for top in tops]\n",
        "tops.insert(0,top10actorIMBD)"
      ],
      "execution_count": 107,
      "outputs": []
    },
    {
      "cell_type": "markdown",
      "metadata": {
        "id": "-ouUojdY_IAL"
      },
      "source": [
        "### Kendalltau similarity heatmap"
      ]
    },
    {
      "cell_type": "code",
      "metadata": {
        "id": "gQe0D7mX2ZHv"
      },
      "source": [
        "from scipy.stats import kendalltau\n",
        "\n",
        "def kendalltau_sim_matrix(vectors):\n",
        "  \"\"\"Returns similarity matrix according to kendalltau distance for vectors and the corresponding p_values matrix\"\"\"\n",
        "  sim_matrix = np.zeros((len(vectors),len(vectors)))\n",
        "  p_values = np.zeros((len(vectors),len(vectors)))\n",
        "  for i,a in enumerate(vectors):\n",
        "    for j,b in enumerate(vectors):\n",
        "      sim_matrix[i][j], p_values[i][j] = kendalltau(a,b)\n",
        "  return sim_matrix, p_values"
      ],
      "execution_count": 108,
      "outputs": []
    },
    {
      "cell_type": "code",
      "metadata": {
        "id": "CuMGUnzW4d0G"
      },
      "source": [
        "sim , pvalues = kendalltau_sim_matrix(tops)\n",
        "columns =  ['IMDB','Deg','PR','Ts-PR','Hub','Auth','Harmonic']\n",
        "df = pd.DataFrame(sim,index = columns, columns = columns)"
      ],
      "execution_count": 109,
      "outputs": []
    },
    {
      "cell_type": "code",
      "metadata": {
        "colab": {
          "base_uri": "https://localhost:8080/",
          "height": 331
        },
        "id": "z5k25uvq9iOk",
        "outputId": "f3b4e865-406e-40c1-9c9f-b48855cd2dca"
      },
      "source": [
        "#Plot heatmap of kendalltau similarity matrix\n",
        "plt.figure(figsize=(7,5))\n",
        "sns.heatmap(df,vmin=-1,vmax=1,annot=True,linewidths=.2)\n",
        "plt.savefig('kendalltau-heatmap.pdf')\n",
        "plt.show()"
      ],
      "execution_count": 110,
      "outputs": [
        {
          "output_type": "display_data",
          "data": {
            "image/png": "[encoded data removed]",
            "text/plain": [
              "<Figure size 504x360 with 2 Axes>"
            ]
          },
          "metadata": {
            "needs_background": "light"
          }
        }
      ]
    },
    {
      "cell_type": "code",
      "metadata": {
        "colab": {
          "base_uri": "https://localhost:8080/"
        },
        "id": "jbG2diGB9lHM",
        "outputId": "c155eb16-b993-4604-fdad-4017c11c1a07"
      },
      "source": [
        "print(f\"IMBD-Harmonic p_value : {pvalues[0][6]}\")\n",
        "print(f\"IMDB-Auth p_value: {pvalues[0][5]}\")"
      ],
      "execution_count": 111,
      "outputs": [
        {
          "output_type": "stream",
          "text": [
            "IMBD-Harmonic p_value : 0.07255015432098766\n",
            "IMDB-Auth p_value: 0.04662257495590829\n"
          ],
          "name": "stdout"
        }
      ]
    },
    {
      "cell_type": "markdown",
      "metadata": {
        "id": "o5c4Gkej_TzE"
      },
      "source": [
        "### Hamming similarity heatmap"
      ]
    },
    {
      "cell_type": "code",
      "metadata": {
        "id": "HEL6MDKg_WTA"
      },
      "source": [
        "from scipy.spatial import distance\n",
        "\n",
        "def hamming_sim_matrix(vectors):\n",
        "  \"\"\"Returns similarity matrix according to hamming distance for vectors.\"\"\"\n",
        "  sim_matrix = np.zeros((len(vectors),len(vectors)))\n",
        "  for i,a in enumerate(vectors):\n",
        "    for j,b in enumerate(vectors):\n",
        "      sim_matrix[i][j] = 1 - distance.hamming(a,b)\n",
        "  return sim_matrix"
      ],
      "execution_count": 112,
      "outputs": []
    },
    {
      "cell_type": "code",
      "metadata": {
        "id": "kc2_rqQ3AOnd"
      },
      "source": [
        "sim = hamming_sim_matrix(tops)\n",
        "columns =  ['IMDB','Deg','PR','Ts-PR','Hub','Auth','Harmonic']\n",
        "df = pd.DataFrame(sim,index = columns, columns = columns)"
      ],
      "execution_count": 113,
      "outputs": []
    },
    {
      "cell_type": "code",
      "metadata": {
        "colab": {
          "base_uri": "https://localhost:8080/",
          "height": 331
        },
        "id": "o8Ia1ZvjAdfR",
        "outputId": "cbed16cc-6979-401a-dc86-88422445a58b"
      },
      "source": [
        "#Plot heatmap for hamming similarity matrix\n",
        "plt.figure(figsize=(7,5))\n",
        "sns.heatmap(df,vmin=0,vmax=1,annot=True,linewidths=.2)\n",
        "plt.savefig('hamming-heatmap.pdf')\n",
        "plt.show()"
      ],
      "execution_count": 114,
      "outputs": [
        {
          "output_type": "display_data",
          "data": {
            "image/png": "[encoded data removed]",
            "text/plain": [
              "<Figure size 504x360 with 2 Axes>"
            ]
          },
          "metadata": {
            "needs_background": "light"
          }
        }
      ]
    }
  ]
}