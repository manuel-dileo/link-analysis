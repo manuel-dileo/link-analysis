{
  "nbformat": 4,
  "nbformat_minor": 0,
  "metadata": {
    "colab": {
      "name": "LinkAnalysis.ipynb",
      "provenance": [],
      "collapsed_sections": []
    },
    "kernelspec": {
      "name": "python3",
      "display_name": "Python 3"
    },
    "language_info": {
      "name": "python"
    }
  },
  "cells": [
    {
      "cell_type": "markdown",
      "metadata": {
        "id": "-b6MbXnIiuh7"
      },
      "source": [
        "I had to install networkx 2.5 because the version 2.6 (released in july and adopted by Colab in mid-August) changes the implementation of harmonic centrality modifying the score of the nodes that I had already computed."
      ]
    },
    {
      "cell_type": "code",
      "metadata": {
        "colab": {
          "base_uri": "https://localhost:8080/"
        },
        "id": "qJnwkO4QgQG0",
        "outputId": "d377d547-6994-44e4-9c15-2a5cbb07c03c"
      },
      "source": [
        "!pip install networkx==2.5"
      ],
      "execution_count": 1,
      "outputs": [
        {
          "output_type": "stream",
          "text": [
            "Requirement already satisfied: networkx==2.5 in /usr/local/lib/python3.7/dist-packages (2.5)\n",
            "Requirement already satisfied: decorator>=4.3.0 in /usr/local/lib/python3.7/dist-packages (from networkx==2.5) (4.4.2)\n"
          ],
          "name": "stdout"
        }
      ]
    },
    {
      "cell_type": "code",
      "metadata": {
        "id": "-Db2bGH4Qk6N",
        "colab": {
          "base_uri": "https://localhost:8080/"
        },
        "outputId": "d47bbf8a-6093-4c1a-d483-49d300e24c10"
      },
      "source": [
        "import gc\n",
        "import numpy as np\n",
        "import matplotlib.pyplot as plt\n",
        "from statsmodels.distributions.empirical_distribution import ECDF\n",
        "import scipy\n",
        "import json\n",
        "import networkx as nx\n",
        "import pandas as pd\n",
        "import seaborn as sns"
      ],
      "execution_count": 2,
      "outputs": [
        {
          "output_type": "stream",
          "text": [
            "/usr/local/lib/python3.7/dist-packages/statsmodels/tools/_testing.py:19: FutureWarning: pandas.util.testing is deprecated. Use the functions in the public API at pandas.testing instead.\n",
            "  import pandas.util.testing as tm\n"
          ],
          "name": "stderr"
        }
      ]
    },
    {
      "cell_type": "markdown",
      "metadata": {
        "id": "hiss8bP5OXKm"
      },
      "source": [
        "# Dataset"
      ]
    },
    {
      "cell_type": "code",
      "metadata": {
        "id": "uqpHiXpWNOr-"
      },
      "source": [
        "from google.colab import files\n",
        "\n",
        "print(\"Upload kaggle.json with your API token\")\n",
        "files.upload()"
      ],
      "execution_count": null,
      "outputs": []
    },
    {
      "cell_type": "code",
      "metadata": {
        "id": "w31l_ngBNZek",
        "colab": {
          "base_uri": "https://localhost:8080/"
        },
        "outputId": "f37750df-8802-4952-f694-53e6fa870a6b"
      },
      "source": [
        "! mkdir ~/.kaggle \n",
        "! cp kaggle.json ~/.kaggle/\n",
        "! chmod 600 ~/.kaggle/kaggle.json\n",
        "! kaggle datasets download ashirwadsangwan/imdb-dataset"
      ],
      "execution_count": 4,
      "outputs": [
        {
          "output_type": "stream",
          "text": [
            "mkdir: cannot create directory ‘/root/.kaggle’: File exists\n",
            "imdb-dataset.zip: Skipping, found more recently modified local copy (use --force to force download)\n"
          ],
          "name": "stdout"
        }
      ]
    },
    {
      "cell_type": "code",
      "metadata": {
        "id": "KxQvrWTyNrus"
      },
      "source": [
        "import zipfile\n",
        "\n",
        "path = 'imdb-dataset.zip'\n",
        "zip_file = zipfile.ZipFile(path)\n",
        "zip_list = zip_file.namelist()\n",
        "\n",
        "for f in zip_list:\n",
        "    zip_file.extract(f)\n",
        "\n",
        "zip_file.close()"
      ],
      "execution_count": 5,
      "outputs": []
    },
    {
      "cell_type": "code",
      "metadata": {
        "id": "lKTHIRooO-0a",
        "colab": {
          "base_uri": "https://localhost:8080/"
        },
        "outputId": "a1ae77ff-4f4d-4cef-972a-6a0af319854e"
      },
      "source": [
        "import os\n",
        "all_files = os.listdir()\n",
        "print([csv_file for csv_file in all_files if '.tsv' == csv_file[-4:]])"
      ],
      "execution_count": 6,
      "outputs": [
        {
          "output_type": "stream",
          "text": [
            "['title.basics.tsv', 'title.akas.tsv', 'name.basics.tsv', 'title.ratings.tsv', 'title.principals.tsv']\n"
          ],
          "name": "stdout"
        }
      ]
    },
    {
      "cell_type": "markdown",
      "metadata": {
        "id": "DSI4VZRyLchg"
      },
      "source": [
        "# Preprocessing"
      ]
    },
    {
      "cell_type": "code",
      "metadata": {
        "id": "dHc9Sp6FHEWs"
      },
      "source": [
        "import csv"
      ],
      "execution_count": 7,
      "outputs": []
    },
    {
      "cell_type": "code",
      "metadata": {
        "id": "qPtGkWeEPuDQ"
      },
      "source": [
        "#Obtain only movie works\n",
        "movies = set()\n",
        "with open(\"./title.basics.tsv/title.basics.tsv\") as tsv_file:\n",
        "  tsv = csv.reader(tsv_file,delimiter = \"\\t\")\n",
        "  header = next(tsv)\n",
        "  end = False\n",
        "  while not end:\n",
        "    try:\n",
        "      row = next(tsv)\n",
        "    except StopIteration:\n",
        "      end = True\n",
        "    else:\n",
        "      #['tconst', 'titleType', 'primaryTitle', 'originalTitle', 'isAdult', 'startYear', 'endYear', 'runtimeMinutes', 'genres']\n",
        "      if row[1] == 'movie':\n",
        "        movies.add(row[0])\n",
        "  del tsv\n",
        "  gc.collect()\n",
        "  tsv_file.close()"
      ],
      "execution_count": 8,
      "outputs": []
    },
    {
      "cell_type": "code",
      "metadata": {
        "id": "wH5KOBi9bnWx"
      },
      "source": [
        "#save movie ids\n",
        "with open('movies.txt','w') as f:\n",
        "  for movie in movies:\n",
        "    f.write(f\"{movie}\\n\")\n",
        "  f.close()"
      ],
      "execution_count": 9,
      "outputs": []
    },
    {
      "cell_type": "code",
      "metadata": {
        "id": "POtLLQC1l2QS"
      },
      "source": [
        "#Keep only actor and actress rows, saving their gender. \n",
        "#Associate to each actor an integer id which will represent the node in the graph\n",
        "#Store for each movie the actorId of the actors who starred in the film\n",
        "moviedict = {}\n",
        "actordict = {}\n",
        "genderdict = {}\n",
        "actorId = 0\n",
        "\n",
        "with open(\"./title.principals.tsv/title.principals.tsv\") as tsv_file:\n",
        "  tsv = csv.reader(tsv_file, delimiter=\"\\t\")\n",
        "  header = next(tsv)\n",
        "  end = False\n",
        "  while not end:\n",
        "    try:\n",
        "      row = next(tsv)\n",
        "    except StopIteration:\n",
        "      end = True\n",
        "    else:\n",
        "      #['tconst', 'ordering', 'nconst', 'category', 'job', 'characters']\n",
        "      if row[0] in movies and (row[3] == 'actor' or row[3] == 'actress'):\n",
        "        if row[0] not in moviedict:\n",
        "          moviedict[row[0]] = set()\n",
        "        if row[2] not in actordict:\n",
        "          actordict[row[2]] = actorId\n",
        "          genderdict[actorId] = 1 if row[3]=='actress' else 0\n",
        "          actorId += 1 \n",
        "        moviedict[row[0]].add(actordict[row[2]])\n",
        "  del tsv\n",
        "  gc.collect()\n",
        "  tsv_file.close()"
      ],
      "execution_count": 10,
      "outputs": []
    },
    {
      "cell_type": "code",
      "metadata": {
        "id": "1L9RkW1IHyqX"
      },
      "source": [
        "#Save integer actorId, IMDB actorId relation\n",
        "with open('id-actor.json', 'w') as fp:\n",
        "    iddict = dict((v,k) for k,v in actordict.items())\n",
        "    json.dump(iddict, fp, indent = 1)\n",
        "    fp.close()"
      ],
      "execution_count": 11,
      "outputs": []
    },
    {
      "cell_type": "code",
      "metadata": {
        "id": "zI_9xg6OcNe8"
      },
      "source": [
        "#Save actor-gender relation\n",
        "with open('actor-gender.json','w') as fp:\n",
        "  json.dump(genderdict, fp, indent = 1)\n",
        "  fp.close()"
      ],
      "execution_count": 12,
      "outputs": []
    },
    {
      "cell_type": "code",
      "metadata": {
        "id": "PabriJFTqVfV"
      },
      "source": [
        "class ActorGraph():\n",
        "  \"\"\"\n",
        "  A class used to represent the IMDB ActorGraph in a which a node is an actor and an edge will link two nodes if the corresponding actors played at least once in the same movie.\n",
        "\n",
        "  Attributes\n",
        "  ----------\n",
        "  order : int\n",
        "      number of nodes of the graph\n",
        "  in_links : Dict[int,list[int]]\n",
        "      dictionary in which for each node i is stored the nodes j such that (j,i) is an edge of the graph\n",
        "  out_links : Dict[int,list[int]]\n",
        "      dictionary in which for each node i is stored the nodes j such that (i,j) is an edge of the graph\n",
        "  out_degree : Dict[int,int]\n",
        "      dictionary in which for each node i is stored the out_degree of i (in this case the number of out_links)\n",
        "  dangling: Dict[int,bool]\n",
        "    dictionary in which are store the dangling nodes (nodes that have no out_links). Note that the values are just default labels.\n",
        "  genderAttribute: Dict[int,bool]\n",
        "    dictionary in which for each node i is store the gender of i. In particular, genderAttribute[i] is equal to 1 if the node is female, 0 otherwise.\n",
        "\n",
        "  Methods\n",
        "  -------\n",
        "  getsize()\n",
        "    Returns the size (number of links) in the graph\n",
        "  in_degree()\n",
        "    Returns a dict in which for each node i is stored the indegree of i. Note that indegree is equal to outdegree because this graph is a directed graph obtained from an undirected one.\n",
        "  getorder()\n",
        "    Returns the order (number of nodes) in the graph\n",
        "  getNumDangling()\n",
        "    Returns the number of dangling nodes\n",
        "  nodes()\n",
        "    Returns the set of nodes of the graph\n",
        "  density()\n",
        "    Returns the density of the graph (#links / #all_possible_links)\n",
        "  giant_component_size()\n",
        "    Returns the size of the largest connected component of the graph\n",
        "  has_self_loops()\n",
        "    Returns True if the graph has self loops and False otherwise\n",
        "  has_multiedges()\n",
        "    Returns True if the graph has multiedges and False otherwise\n",
        "  is_simple_graph()\n",
        "    Returns True if the graph contains no self loops and no multiedges, False otherwise\n",
        "  getGenderTeleportingSet()\n",
        "    Returns the vector of gender values\n",
        "  to_networkx_graph()\n",
        "    Returns the equivalent networkx Graph of this\n",
        "  \"\"\"\n",
        "\n",
        "  def __init__(self):\n",
        "    self.order = 0\n",
        "    self.in_links = {}\n",
        "    self.out_links = {}\n",
        "    self.out_degree = {}\n",
        "    self.dangling = {}\n",
        "    self.genderAttribute = {}\n",
        "\n",
        "  def getsize(self):\n",
        "    return sum(self.out_degree.values())\n",
        "\n",
        "  def in_degree(self):\n",
        "    return self.out_degree\n",
        "\n",
        "  def getorder(self):\n",
        "    return self.order\n",
        "\n",
        "  def getNumDangling(self):\n",
        "    return len(self.dangling)\n",
        "\n",
        "  def nodes(self):\n",
        "    return set(list(self.in_links.keys()) + list(self.dangling.keys()))\n",
        "\n",
        "  def density(self):\n",
        "    return self.getsize() / (self.order*(self.order - 1))\n",
        "  \n",
        "  def giant_component_size(self):\n",
        "    return self.getorder() - self.getNumDangling()\n",
        "\n",
        "  def has_self_loops(self):\n",
        "    for a,nodes in self.in_links.items():\n",
        "      for b in nodes:\n",
        "        if a == b: return True\n",
        "    return False \n",
        "  \n",
        "  def has_multiedges(self):\n",
        "    for _,nodes in self.in_links.items():\n",
        "      if len(nodes) != len(set(nodes)): return True\n",
        "    return False\n",
        "  \n",
        "  def is_simple_graph(self):\n",
        "    return not self.has_self_loops() and not self.has_multiedges()\n",
        "\n",
        "  def getGenderTeleportingSet(self):\n",
        "    return list(self.genderAttribute.values())\n",
        "\n",
        "  def to_networkx_graph(self):\n",
        "    graph = nx.Graph()\n",
        "    for node in self.dangling:\n",
        "      graph.add_node(node)\n",
        "    for x,nodes in self.in_links.items():\n",
        "      for y in nodes:\n",
        "        graph.add_edge(y,x)\n",
        "    return graph\n",
        "\n",
        "  def __str__(self):\n",
        "    return f\"Order: {self.getorder()}, Size : {self.getsize()}, Density: {self.density()}\"\n",
        "\n",
        "  def __eq__(self,other):\n",
        "    if isinstance(other,ActorGraph):\n",
        "      if self.order != other.order: \n",
        "        #print('order')\n",
        "        return False\n",
        "      if self.getsize() != other.getsize():\n",
        "        #print('size')\n",
        "        return False\n",
        "      if self.out_degree != other.out_degree: \n",
        "        #print('outdeg')\n",
        "        return False\n",
        "      if set(self.dangling) != set(other.dangling): \n",
        "        #print('dangling')\n",
        "        return False\n",
        "      cp_this_inlinks = self.in_links\n",
        "      cp_other_inlinks = other.in_links\n",
        "      cp_this_inlinks = dict([(k,set(v)) for k,v in cp_this_inlinks.items()])\n",
        "      cp_other_inlinks = dict([(k,set(v)) for k,v in cp_other_inlinks.items()])\n",
        "      return cp_this_inlinks == cp_other_inlinks\n",
        "    return False"
      ],
      "execution_count": 13,
      "outputs": []
    },
    {
      "cell_type": "code",
      "metadata": {
        "id": "8Miot10G2NLR"
      },
      "source": [
        "from typing import List, Set, Dict, Tuple, Optional"
      ],
      "execution_count": 14,
      "outputs": []
    },
    {
      "cell_type": "code",
      "metadata": {
        "id": "GPtZ9c__0EHM"
      },
      "source": [
        "import itertools\n",
        "\n",
        "def getActorGraphFromIMDB(moviedict: Dict[str,set],genderdict:Dict[str,bool]) -> ActorGraph:\n",
        "    \"\"\"Build an ActorGraph from movie-actors and actor-gender relations\n",
        "\n",
        "    Parameters\n",
        "    ----------\n",
        "    moviedict : Dict[str,set]\n",
        "        Dictionary in which for each movie is stored actors who starred into it\n",
        "    genderdict : Dict[str,bool]\n",
        "        Dictionary in which for each actor is stored its gender\n",
        "\n",
        "    Returns\n",
        "    -------\n",
        "    graph: ActorGraph\n",
        "        Graph in a which a node is an actor and an edge will link two nodes if the corresponding actors played at least once in the same movie\n",
        "    \"\"\"\n",
        "\n",
        "    graph = ActorGraph()\n",
        "    for _,actors in moviedict.items():\n",
        "\n",
        "      if len(actors) == 1:\n",
        "        node = actors.pop()\n",
        "        if node not in graph.in_links:\n",
        "          graph.order += 1\n",
        "          graph.in_links[node] = []\n",
        "          graph.out_links[node] = []\n",
        "          graph.out_degree[node] = 0\n",
        "          graph.dangling[node] = True\n",
        "          graph.genderAttribute[node] = genderdict[node]\n",
        "\n",
        "      else:\n",
        "        for (a,b) in itertools.combinations(actors,2): \n",
        "          #with itertools.combinations I have no self-loops by construction\n",
        "          if a not in graph.in_links:\n",
        "            graph.order += 1\n",
        "            graph.in_links[a] = []\n",
        "            graph.out_links[a] = []\n",
        "            graph.out_degree[a] = 0\n",
        "            graph.genderAttribute[a] = genderdict[a]\n",
        "\n",
        "          if b not in graph.in_links:\n",
        "            graph.order += 1\n",
        "            graph.in_links[b] = []\n",
        "            graph.out_links[b] = []\n",
        "            graph.out_degree[b] = 0\n",
        "            graph.genderAttribute[b] = genderdict[b]\n",
        "\n",
        "          if b not in graph.in_links[a]:\n",
        "            graph.in_links[a].append(b)\n",
        "            graph.out_links[a].append(b)\n",
        "            graph.dangling.pop(a,False)\n",
        "            graph.out_degree[a] += 1\n",
        "\n",
        "          if a not in graph.in_links[b]:\n",
        "            graph.in_links[b].append(a)\n",
        "            graph.out_links[b].append(a)\n",
        "            graph.dangling.pop(b,False)\n",
        "            graph.out_degree[b] += 1\n",
        "\n",
        "    return graph"
      ],
      "execution_count": 15,
      "outputs": []
    },
    {
      "cell_type": "code",
      "metadata": {
        "id": "duDm2EgnKlIa"
      },
      "source": [
        "g = getActorGraphFromIMDB(moviedict,genderdict)"
      ],
      "execution_count": 16,
      "outputs": []
    },
    {
      "cell_type": "code",
      "metadata": {
        "id": "GP8LD1IkNHEc",
        "colab": {
          "base_uri": "https://localhost:8080/"
        },
        "outputId": "6bbb8169-c761-4ac9-af7d-b6c8b7577650"
      },
      "source": [
        "print(g)"
      ],
      "execution_count": 17,
      "outputs": [
        {
          "output_type": "stream",
          "text": [
            "Order: 582655, Size : 5775408, Density: 1.701219923195799e-05\n"
          ],
          "name": "stdout"
        }
      ]
    },
    {
      "cell_type": "code",
      "metadata": {
        "colab": {
          "base_uri": "https://localhost:8080/"
        },
        "id": "I7UbGa8JoMz5",
        "outputId": "23204746-8806-4b5c-c9dd-f7786ca380f6"
      },
      "source": [
        "g.is_simple_graph()"
      ],
      "execution_count": 18,
      "outputs": [
        {
          "output_type": "execute_result",
          "data": {
            "text/plain": [
              "True"
            ]
          },
          "metadata": {},
          "execution_count": 18
        }
      ]
    },
    {
      "cell_type": "code",
      "metadata": {
        "id": "V2zwHOMwceRE"
      },
      "source": [
        "def export_graph(graph:ActorGraph,filename: str ='actorgraph.json'):\n",
        "  \"\"\"Export ActorGraph in a json file\"\"\"\n",
        "  with open(filename,'w') as fp:\n",
        "    json.dump(json.dumps(graph.__dict__),fp, indent=2)"
      ],
      "execution_count": 19,
      "outputs": []
    },
    {
      "cell_type": "code",
      "metadata": {
        "id": "9YoHDsgZdihz"
      },
      "source": [
        "export_graph(g)"
      ],
      "execution_count": 20,
      "outputs": []
    },
    {
      "cell_type": "markdown",
      "metadata": {
        "id": "EgP8i49QozP5"
      },
      "source": [
        "Top 10 actor & actress of all time by [IMBD](https://www.imdb.com/list/ls053085147/)"
      ]
    },
    {
      "cell_type": "code",
      "metadata": {
        "id": "z-RLsW7hnqAB"
      },
      "source": [
        "top10actorIMBD =\\\n",
        "  [\n",
        "   \"Katharine Hepburn\",\n",
        "   \"Jack Nicholson\",\n",
        "   \"Laurence Olivier\",\n",
        "   \"Meryl Streep\",\n",
        "   \"Humphrey Bogart\",\n",
        "   \"Audrey Hepburn\",\n",
        "   \"Robert De Niro\",\n",
        "   \"Bette Davis\",\n",
        "   \"Cary Grant\",\n",
        "   \"Marlon Brando\"\n",
        "  ]"
      ],
      "execution_count": 21,
      "outputs": []
    },
    {
      "cell_type": "code",
      "metadata": {
        "id": "SWVjSmCzpiDM",
        "colab": {
          "base_uri": "https://localhost:8080/"
        },
        "outputId": "79c4f162-d617-476d-aca6-1e83f13831a7"
      },
      "source": [
        "#Associate each top actor with its IMDB id\n",
        "with open('./name.basics.tsv/name.basics.tsv') as tsv_file:\n",
        "  tsv = csv.reader(tsv_file, delimiter=\"\\t\")\n",
        "  header = next(tsv)\n",
        "  end = False\n",
        "  top10id = {}\n",
        "  while not end and len(top10id.keys())<10:\n",
        "    try:\n",
        "      row = next(tsv)\n",
        "    except StopIteration:\n",
        "      end = True\n",
        "    else:\n",
        "      #['nconst','primaryName','birthYear','deathYear','primaryProfession','knownForTitles']\n",
        "      if row[1] in top10actorIMBD:\n",
        "        print(row)\n",
        "        top10id[row[1]] = row[0]\n",
        "  del tsv\n",
        "  gc.collect()\n",
        "  tsv_file.close()"
      ],
      "execution_count": 22,
      "outputs": [
        {
          "output_type": "stream",
          "text": [
            "['nm0000007', 'Humphrey Bogart', '1899', '1957', 'actor,soundtrack,producer', 'tt0043265,tt0033870,tt0034583,tt0037382']\n",
            "['nm0000008', 'Marlon Brando', '1924', '2004', 'actor,soundtrack,director', 'tt0070849,tt0078788,tt0044081,tt0068646']\n",
            "['nm0000012', 'Bette Davis', '1908', '1989', 'actress,soundtrack,make_up_department', 'tt0031210,tt0042192,tt0056687,tt0035140']\n",
            "['nm0000026', 'Cary Grant', '1904', '1986', 'actor,soundtrack,producer', 'tt0048728,tt0053125,tt0032599,tt0056923']\n",
            "['nm0000030', 'Audrey Hepburn', '1929', '1993', 'actress,soundtrack', 'tt0046250,tt0054698,tt0058385,tt0056923']\n",
            "['nm0000031', 'Katharine Hepburn', '1907', '2003', 'actress,soundtrack,writer', 'tt0063227,tt0082846,tt0032904,tt0043265']\n",
            "['nm0000059', 'Laurence Olivier', '1907', '1989', 'actor,producer,director', 'tt0069281,tt0040416,tt0032976,tt0054331']\n",
            "['nm0000134', 'Robert De Niro', '1943', '\\\\N', 'actor,producer,soundtrack', 'tt0081398,tt0101540,tt0070379,tt0075314']\n",
            "['nm0000197', 'Jack Nicholson', '1937', '\\\\N', 'actor,soundtrack,producer', 'tt0119822,tt0073486,tt0071315,tt0407887']\n",
            "['nm0000658', 'Meryl Streep', '1949', '\\\\N', 'actress,soundtrack,producer', 'tt0089755,tt0458352,tt0918927,tt1322269']\n"
          ],
          "name": "stdout"
        }
      ]
    },
    {
      "cell_type": "code",
      "metadata": {
        "id": "PxUB-CpTq9_i"
      },
      "source": [
        "#Store for each top actor nodeId-name relation\n",
        "for k,v in top10id.items():\n",
        "  top10id[k] = actordict[v]\n",
        "top10id = dict((v,k) for k,v in top10id.items())"
      ],
      "execution_count": 23,
      "outputs": []
    },
    {
      "cell_type": "code",
      "metadata": {
        "id": "jfACujI4sLor"
      },
      "source": [
        "with open('best10actors.json','w') as fp:\n",
        "  json.dump(top10id, fp, indent = 1)"
      ],
      "execution_count": 24,
      "outputs": []
    },
    {
      "cell_type": "code",
      "metadata": {
        "collapsed": true,
        "id": "HJa-2EFPNZNG",
        "colab": {
          "base_uri": "https://localhost:8080/"
        },
        "outputId": "b9b2176e-98b0-4972-8c66-18e58eec1fd9"
      },
      "source": [
        "del movies\n",
        "del moviedict\n",
        "del actordict\n",
        "del genderdict\n",
        "del iddict\n",
        "gc.collect()"
      ],
      "execution_count": 25,
      "outputs": [
        {
          "output_type": "execute_result",
          "data": {
            "text/plain": [
              "183"
            ]
          },
          "metadata": {},
          "execution_count": 25
        }
      ]
    },
    {
      "cell_type": "code",
      "metadata": {
        "id": "ogp6w-vqd_lv"
      },
      "source": [
        "!rm -r *.tsv.gz\n",
        "!rm imdb-dataset.zip"
      ],
      "execution_count": 26,
      "outputs": []
    },
    {
      "cell_type": "markdown",
      "metadata": {
        "id": "rbpmDAbfvRHW"
      },
      "source": [
        "# Ranking nodes"
      ]
    },
    {
      "cell_type": "markdown",
      "metadata": {
        "id": "kWCCsXlPTWyt"
      },
      "source": [
        "### Toy Examples"
      ]
    },
    {
      "cell_type": "code",
      "metadata": {
        "id": "OnrWXvXNX2jx"
      },
      "source": [
        "def fromNetworkxGraph(graph: nx.Graph) -> ActorGraph:\n",
        "  \"\"\"Build an ActorGraph from a networkx Graph\n",
        "\n",
        "  Parameters\n",
        "  ----------\n",
        "  graph : nx.Graph\n",
        "    Networkx undirected simple Graph\n",
        "\n",
        "  Returns\n",
        "  -------\n",
        "  graph: ActorGraph\n",
        "    Graph in a which a node is an actor and an edge will link two nodes if the corresponding actors played at least once in the same movie\n",
        "  \"\"\"\n",
        "  mygraph = ActorGraph()\n",
        "\n",
        "  for node in graph.nodes():\n",
        "    mygraph.order += 1\n",
        "    mygraph.in_links[node] = []\n",
        "    mygraph.out_links[node] = []\n",
        "    mygraph.out_degree[node] = 0\n",
        "    mygraph.dangling[node] = True\n",
        "\n",
        "  for a,b in graph.edges():\n",
        "\n",
        "    if b not in mygraph.in_links[a]:\n",
        "      mygraph.in_links[a].append(b)\n",
        "      mygraph.out_links[a].append(b)\n",
        "      mygraph.dangling.pop(a,False)\n",
        "      mygraph.out_degree[a] += 1\n",
        "\n",
        "    if a not in mygraph.in_links[b]:\n",
        "      mygraph.in_links[b].append(a)\n",
        "      mygraph.out_links[b].append(a)\n",
        "      mygraph.dangling.pop(b,False)\n",
        "      mygraph.out_degree[b] += 1\n",
        "\n",
        "  return mygraph"
      ],
      "execution_count": 27,
      "outputs": []
    },
    {
      "cell_type": "code",
      "metadata": {
        "colab": {
          "base_uri": "https://localhost:8080/"
        },
        "id": "OnnQtOf26lsM",
        "outputId": "33289a2a-f894-4fa9-f7f1-a5ae63248247"
      },
      "source": [
        "g == fromNetworkxGraph(g.to_networkx_graph())"
      ],
      "execution_count": 28,
      "outputs": [
        {
          "output_type": "execute_result",
          "data": {
            "text/plain": [
              "True"
            ]
          },
          "metadata": {},
          "execution_count": 28
        }
      ]
    },
    {
      "cell_type": "code",
      "metadata": {
        "colab": {
          "base_uri": "https://localhost:8080/",
          "height": 319
        },
        "id": "cffQz_67Sc7u",
        "outputId": "4297b260-3345-44a4-8259-112ce050020c"
      },
      "source": [
        "graph1 = nx.Graph()\n",
        "graph1.add_edges_from([(0,1),(1,2),(2,3)])\n",
        "nx.draw(graph1,with_labels=True,node_color='orange')"
      ],
      "execution_count": 29,
      "outputs": [
        {
          "output_type": "display_data",
          "data": {
            "image/png": "[encoded data removed]",
            "text/plain": [
              "<Figure size 432x288 with 1 Axes>"
            ]
          },
          "metadata": {}
        }
      ]
    },
    {
      "cell_type": "code",
      "metadata": {
        "id": "wczfjh2hTbM-"
      },
      "source": [
        "graph1 = fromNetworkxGraph(graph1)"
      ],
      "execution_count": 30,
      "outputs": []
    },
    {
      "cell_type": "code",
      "metadata": {
        "colab": {
          "base_uri": "https://localhost:8080/",
          "height": 319
        },
        "id": "90-I0UFVV2JD",
        "outputId": "2d9f1388-2f3a-47b7-9cc5-7cb83275eda8"
      },
      "source": [
        "graph2 = nx.Graph()\n",
        "graph2.add_edges_from([(0,1),(1,2),(2,3),(3,0)])\n",
        "nx.draw(graph2,with_labels=True,node_color='orange')"
      ],
      "execution_count": 31,
      "outputs": [
        {
          "output_type": "display_data",
          "data": {
            "image/png": "[encoded data removed]",
            "text/plain": [
              "<Figure size 432x288 with 1 Axes>"
            ]
          },
          "metadata": {}
        }
      ]
    },
    {
      "cell_type": "code",
      "metadata": {
        "id": "i8C3Z1VtXHPS"
      },
      "source": [
        "graph2 = fromNetworkxGraph(graph2)"
      ],
      "execution_count": 32,
      "outputs": []
    },
    {
      "cell_type": "code",
      "metadata": {
        "colab": {
          "base_uri": "https://localhost:8080/",
          "height": 319
        },
        "id": "ZopI69_JVy2W",
        "outputId": "5449acfc-83d0-490f-dcde-ec17d5886f64"
      },
      "source": [
        "graph3 = nx.Graph()\n",
        "graph3.add_edges_from([(0,1),(0,2),(0,3),(0,4)])\n",
        "nx.draw(graph3, with_labels=True, node_color = 'orange')"
      ],
      "execution_count": 33,
      "outputs": [
        {
          "output_type": "display_data",
          "data": {
            "image/png": "[encoded data removed]",
            "text/plain": [
              "<Figure size 432x288 with 1 Axes>"
            ]
          },
          "metadata": {}
        }
      ]
    },
    {
      "cell_type": "code",
      "metadata": {
        "id": "ASe4TFhCXpf9"
      },
      "source": [
        "graph3 = fromNetworkxGraph(graph3)"
      ],
      "execution_count": 34,
      "outputs": []
    },
    {
      "cell_type": "code",
      "metadata": {
        "colab": {
          "base_uri": "https://localhost:8080/",
          "height": 319
        },
        "id": "Z0MWNCQeYQi_",
        "outputId": "603db8c0-351b-4160-d6e9-a5a681c17745"
      },
      "source": [
        "graph4 = nx.Graph()\n",
        "graph4.add_edges_from([(0,1),(0,2),(0,3),(1,3),(2,4),(2,3)])\n",
        "nx.draw(graph4, with_labels=True, node_color = 'orange')"
      ],
      "execution_count": 35,
      "outputs": [
        {
          "output_type": "display_data",
          "data": {
            "image/png": "[encoded data removed]",
            "text/plain": [
              "<Figure size 432x288 with 1 Axes>"
            ]
          },
          "metadata": {}
        }
      ]
    },
    {
      "cell_type": "code",
      "metadata": {
        "id": "VHrqFEBG8Mfl"
      },
      "source": [
        "graph4 = fromNetworkxGraph(graph4)"
      ],
      "execution_count": 36,
      "outputs": []
    },
    {
      "cell_type": "markdown",
      "metadata": {
        "id": "tUHClaQnvczm"
      },
      "source": [
        "## Degree"
      ]
    },
    {
      "cell_type": "markdown",
      "metadata": {
        "id": "f6pOI4VB20RM"
      },
      "source": [
        "Note that in this case the indegree is equal to outdegree as the directed graph is obtained from an original undirected graph"
      ]
    },
    {
      "cell_type": "code",
      "metadata": {
        "id": "_irF-pgb2k45"
      },
      "source": [
        "degrank = g.in_degree()"
      ],
      "execution_count": 37,
      "outputs": []
    },
    {
      "cell_type": "markdown",
      "metadata": {
        "id": "4avFBUHp8wWy"
      },
      "source": [
        "### Toy Example"
      ]
    },
    {
      "cell_type": "code",
      "metadata": {
        "colab": {
          "base_uri": "https://localhost:8080/",
          "height": 336
        },
        "id": "_dTjdy2y8yqJ",
        "outputId": "aa43dff1-44b8-41eb-9cb6-7fa9ccc7e12e"
      },
      "source": [
        "nx.draw(graph1.to_networkx_graph(),with_labels=True, node_color = 'orange')\n",
        "graph1.in_degree()"
      ],
      "execution_count": 38,
      "outputs": [
        {
          "output_type": "execute_result",
          "data": {
            "text/plain": [
              "{0: 1, 1: 2, 2: 2, 3: 1}"
            ]
          },
          "metadata": {},
          "execution_count": 38
        },
        {
          "output_type": "display_data",
          "data": {
            "image/png": "[encoded data removed]",
            "text/plain": [
              "<Figure size 432x288 with 1 Axes>"
            ]
          },
          "metadata": {}
        }
      ]
    },
    {
      "cell_type": "code",
      "metadata": {
        "colab": {
          "base_uri": "https://localhost:8080/",
          "height": 336
        },
        "id": "T8rUVkwi9JTx",
        "outputId": "894e4d9f-8c36-470f-b047-3877ff7b20f5"
      },
      "source": [
        "nx.draw(graph2.to_networkx_graph(),with_labels=True, node_color = 'orange')\n",
        "graph2.in_degree()"
      ],
      "execution_count": 39,
      "outputs": [
        {
          "output_type": "execute_result",
          "data": {
            "text/plain": [
              "{0: 2, 1: 2, 2: 2, 3: 2}"
            ]
          },
          "metadata": {},
          "execution_count": 39
        },
        {
          "output_type": "display_data",
          "data": {
            "image/png": "[encoded data removed]",
            "text/plain": [
              "<Figure size 432x288 with 1 Axes>"
            ]
          },
          "metadata": {}
        }
      ]
    },
    {
      "cell_type": "code",
      "metadata": {
        "colab": {
          "base_uri": "https://localhost:8080/",
          "height": 336
        },
        "id": "ofml23tI9NRU",
        "outputId": "e1f4e165-f902-414c-b502-c8cc917cefa6"
      },
      "source": [
        "nx.draw(graph3.to_networkx_graph(),with_labels=True, node_color = 'orange')\n",
        "graph3.in_degree()"
      ],
      "execution_count": 40,
      "outputs": [
        {
          "output_type": "execute_result",
          "data": {
            "text/plain": [
              "{0: 4, 1: 1, 2: 1, 3: 1, 4: 1}"
            ]
          },
          "metadata": {},
          "execution_count": 40
        },
        {
          "output_type": "display_data",
          "data": {
            "image/png": "[encoded data removed]",
            "text/plain": [
              "<Figure size 432x288 with 1 Axes>"
            ]
          },
          "metadata": {}
        }
      ]
    },
    {
      "cell_type": "markdown",
      "metadata": {
        "id": "Wp839E957SPg"
      },
      "source": [
        "### Degree distribution"
      ]
    },
    {
      "cell_type": "code",
      "metadata": {
        "id": "8rLYgeWr7Y6l"
      },
      "source": [
        "degree = list(degrank.values())"
      ],
      "execution_count": 41,
      "outputs": []
    },
    {
      "cell_type": "code",
      "metadata": {
        "id": "7sGzTQQ07Utj",
        "colab": {
          "base_uri": "https://localhost:8080/"
        },
        "outputId": "85c513ce-3467-47ec-cafc-a087b673a5cf"
      },
      "source": [
        "print('DEGREE')\n",
        "print('Mean degree: {}'.format(np.mean(degree)))\n",
        "print('Standard deviation: {}'.format(np.std(degree)))\n",
        "print('Median: {}'.format(np.median(degree)))\n",
        "print('Min: {}'.format(np.min(degree)))\n",
        "print('Max: {}'.format(np.max(degree)))"
      ],
      "execution_count": 42,
      "outputs": [
        {
          "output_type": "stream",
          "text": [
            "DEGREE\n",
            "Mean degree: 9.912225931297252\n",
            "Standard deviation: 21.180225766657404\n",
            "Median: 5.0\n",
            "Min: 0\n",
            "Max: 865\n"
          ],
          "name": "stdout"
        }
      ]
    },
    {
      "cell_type": "code",
      "metadata": {
        "id": "6vgi_-x17mZ8"
      },
      "source": [
        "#Build the equivalent Erdos-Renyi random graph of our istance of ActorGraph\n",
        "random_graph = nx.fast_gnp_random_graph(g.getorder(),g.density())"
      ],
      "execution_count": 43,
      "outputs": []
    },
    {
      "cell_type": "code",
      "metadata": {
        "id": "jr-8MmKM8gxp",
        "colab": {
          "base_uri": "https://localhost:8080/",
          "height": 347
        },
        "outputId": "de1f97f0-b746-4026-c6d0-37f6944b3ad7"
      },
      "source": [
        "#Plot the Empirical Complementary Cumulative Distribution Function of \n",
        "#the degree distribution of our ActorGraph and the equivalent random network on log-log scale\n",
        "random_degree = list(dict(random_graph.degree()).values())\n",
        "cdf = ECDF(degree)\n",
        "x = np.unique(degree)\n",
        "y = cdf(x)\n",
        "\n",
        "cdf_random = ECDF(random_degree)\n",
        "x_random = np.unique(random_degree)\n",
        "y_random = cdf_random(x_random)\n",
        "\n",
        "fig_cdf = plt.figure(figsize=(9,5))\n",
        "axes = fig_cdf.gca()\n",
        "axes.set_xscale('log')\n",
        "axes.set_yscale('log')\n",
        "axes.loglog(x,1-y,marker='o',ms=8, linestyle='--',label='Actor-Network')\n",
        "axes.loglog(x_random,1-y_random,marker='+',ms=10, linestyle='--',label='Random-Network')\n",
        "axes.set_xlabel('Degree',size=20)\n",
        "axes.set_ylabel('ECCDF', size = 20)\n",
        "axes.legend()\n",
        "plt.savefig('degree-distribution.pdf')\n",
        "plt.show()"
      ],
      "execution_count": 44,
      "outputs": [
        {
          "output_type": "display_data",
          "data": {
            "image/png": "[encoded data removed]",
            "text/plain": [
              "<Figure size 648x360 with 1 Axes>"
            ]
          },
          "metadata": {
            "needs_background": "light"
          }
        }
      ]
    },
    {
      "cell_type": "code",
      "metadata": {
        "id": "f9R1oFHU_BjR",
        "colab": {
          "base_uri": "https://localhost:8080/"
        },
        "outputId": "e394bfe0-79f7-43f3-cfa5-6536a1ea97da"
      },
      "source": [
        "del random_degree\n",
        "del degree\n",
        "del random_graph\n",
        "del cdf\n",
        "del x\n",
        "del y\n",
        "del cdf_random\n",
        "del x_random\n",
        "del y_random\n",
        "del fig_cdf\n",
        "del axes\n",
        "gc.collect()"
      ],
      "execution_count": 45,
      "outputs": [
        {
          "output_type": "execute_result",
          "data": {
            "text/plain": [
              "18405"
            ]
          },
          "metadata": {},
          "execution_count": 45
        }
      ]
    },
    {
      "cell_type": "markdown",
      "metadata": {
        "id": "Ayf4YafdvpFM"
      },
      "source": [
        "## PageRank"
      ]
    },
    {
      "cell_type": "code",
      "metadata": {
        "id": "dJyqbmQQNuuj"
      },
      "source": [
        "def pagerank(\\\n",
        "             graph,beta=0.85,epsilon=0.000001,\\\n",
        "             max_iter=100,\\\n",
        "             convergence_measure = lambda x,y: np.sum(np.abs(x-y))\\\n",
        "             ):\n",
        "  \"\"\"Returns the PageRank of the nodes in the graph.\n",
        "\n",
        "  PageRank computes a ranking of the nodes in the graph G based on the structure of the incoming links. It was originally designed as an algorithm to rank web pages.\n",
        "\n",
        "  Parameters\n",
        "  ----------\n",
        "  graph : ActorGraph\n",
        "    Graph in a which a node is an actor and an edge will link two nodes if the corresponding actors played at least once in the same movie\n",
        "  beta: int, optional\n",
        "    Dumping factor for PageRank\n",
        "  epsilon: float, optional\n",
        "    Error tolerance used to check convergence in power method solver.\n",
        "  max_iter: int, optional\n",
        "    Maximum number of iterations in power method eigenvalue solver.\n",
        "  convergence_measure: Callable[[np.array,np.array],float]\n",
        "    Measure used to check convergence in power method solver.\n",
        "\n",
        "  Returns\n",
        "  -------\n",
        "  Dict[int,float]\n",
        "    Dictionary of nodes with PageRank as value.\n",
        "  \"\"\"\n",
        "\n",
        "  def single_step(graph,n,v,p,beta=0.85):\n",
        "    dangling_contribution = beta * sum([p[i] for i in graph.dangling]) / n\n",
        "    for i in range(n):\n",
        "      v[i] = (beta*sum([(p[j]/graph.out_degree[j])\\\n",
        "                       for j in graph.in_links[i]]))\\\n",
        "                       + dangling_contribution \\\n",
        "                       + ((1-beta) * (1/n))\n",
        "    return v/np.sum(v)\n",
        "\n",
        "  n = graph.getorder()\n",
        "  v = np.zeros(n,dtype=np.float32)\n",
        "  p = np.ones(n,dtype=np.float32)/n\n",
        "  iter = 1\n",
        "  convergence_rate = 1\n",
        "\n",
        "  while convergence_rate >= epsilon and iter < max_iter:\n",
        "    pfirst = single_step(graph,n,v,p,beta)\n",
        "    convergence_rate = convergence_measure(p,pfirst)\n",
        "    p = pfirst\n",
        "    iter += 1\n",
        "\n",
        "  return dict((k,v) for k,v in enumerate(p))"
      ],
      "execution_count": 46,
      "outputs": []
    },
    {
      "cell_type": "markdown",
      "metadata": {
        "id": "S0GXHqx89owi"
      },
      "source": [
        "### Toy Example"
      ]
    },
    {
      "cell_type": "code",
      "metadata": {
        "colab": {
          "base_uri": "https://localhost:8080/",
          "height": 336
        },
        "id": "QsA5T3n59Z5U",
        "outputId": "72647940-0890-409a-8444-0acfc2240948"
      },
      "source": [
        "nx.draw(graph1.to_networkx_graph(),with_labels=True, node_color = 'orange')\n",
        "pagerank(graph1)"
      ],
      "execution_count": 47,
      "outputs": [
        {
          "output_type": "execute_result",
          "data": {
            "text/plain": [
              "{0: 0.17543857, 1: 0.32456145, 2: 0.32456145, 3: 0.17543857}"
            ]
          },
          "metadata": {},
          "execution_count": 47
        },
        {
          "output_type": "display_data",
          "data": {
            "image/png": "[encoded data removed]",
            "text/plain": [
              "<Figure size 432x288 with 1 Axes>"
            ]
          },
          "metadata": {}
        }
      ]
    },
    {
      "cell_type": "code",
      "metadata": {
        "colab": {
          "base_uri": "https://localhost:8080/",
          "height": 336
        },
        "id": "siicgiVb9iy8",
        "outputId": "83bf019b-0f0a-46c0-fa92-b133400e7bdf"
      },
      "source": [
        "nx.draw(graph2.to_networkx_graph(),with_labels=True, node_color = 'orange')\n",
        "pagerank(graph2)"
      ],
      "execution_count": 48,
      "outputs": [
        {
          "output_type": "execute_result",
          "data": {
            "text/plain": [
              "{0: 0.25, 1: 0.25, 2: 0.25, 3: 0.25}"
            ]
          },
          "metadata": {},
          "execution_count": 48
        },
        {
          "output_type": "display_data",
          "data": {
            "image/png": "[encoded data removed]",
            "text/plain": [
              "<Figure size 432x288 with 1 Axes>"
            ]
          },
          "metadata": {}
        }
      ]
    },
    {
      "cell_type": "code",
      "metadata": {
        "colab": {
          "base_uri": "https://localhost:8080/",
          "height": 336
        },
        "id": "U1nX__yd9185",
        "outputId": "827f8ede-3a6f-433e-800a-eca7f38820c8"
      },
      "source": [
        "nx.draw(graph3.to_networkx_graph(),with_labels=True, node_color = 'orange')\n",
        "pagerank(graph3)"
      ],
      "execution_count": 49,
      "outputs": [
        {
          "output_type": "execute_result",
          "data": {
            "text/plain": [
              "{0: 0.47567585, 1: 0.13108103, 2: 0.13108103, 3: 0.13108103, 4: 0.13108103}"
            ]
          },
          "metadata": {},
          "execution_count": 49
        },
        {
          "output_type": "display_data",
          "data": {
            "image/png": "[encoded data removed]",
            "text/plain": [
              "<Figure size 432x288 with 1 Axes>"
            ]
          },
          "metadata": {}
        }
      ]
    },
    {
      "cell_type": "markdown",
      "metadata": {
        "id": "sHrfkK1FJzsf"
      },
      "source": [
        "### Empirical performance evaluation\n"
      ]
    },
    {
      "cell_type": "code",
      "metadata": {
        "id": "3P-5_fNeQdqw",
        "colab": {
          "base_uri": "https://localhost:8080/"
        },
        "outputId": "67642faa-38e2-40a4-f2eb-c197d570dd4c"
      },
      "source": [
        "gc.collect()"
      ],
      "execution_count": 50,
      "outputs": [
        {
          "output_type": "execute_result",
          "data": {
            "text/plain": [
              "7137"
            ]
          },
          "metadata": {},
          "execution_count": 50
        }
      ]
    },
    {
      "cell_type": "code",
      "metadata": {
        "colab": {
          "base_uri": "https://localhost:8080/"
        },
        "id": "Tq0jxOlaH_-N",
        "outputId": "ab2c7392-05ba-401d-bdfe-41ffa27cdf4e"
      },
      "source": [
        "from time import time\n",
        "\n",
        "type(time())"
      ],
      "execution_count": 51,
      "outputs": [
        {
          "output_type": "execute_result",
          "data": {
            "text/plain": [
              "float"
            ]
          },
          "metadata": {},
          "execution_count": 51
        }
      ]
    },
    {
      "cell_type": "code",
      "metadata": {
        "id": "aDTfje81JwwW"
      },
      "source": [
        "#Measure the performance (time in seconds) of my PageRank algorithm and Networkx PageRank\n",
        "#For different Barabasi-Albert graph of different order (from 1000 up to 500_000 nodes)\n",
        "#For different Erdos-Renyi random graph of different density(from 1e-06 up to 1e-03)\n",
        "#Save the performance measures in a Dict[str,List(float)] in which keys are the label for the experiments\n",
        "#Values are the performance measures\n",
        "#Save performance records in txt files during the execution\n",
        "from time import time\n",
        "\n",
        "times = {\n",
        "    'numNodes': [],\n",
        "    'density' : [],\n",
        "}\n",
        "\n",
        "N = 100_000\n",
        "K = 9\n",
        "EPSILON = 0.1\n",
        "\n",
        "# (Number of Nodes, Density)\n",
        "dataset = [\n",
        "           (1000, 0.000001),\n",
        "           (10_000, 0.00001),\n",
        "           (50_000, 0.0001),\n",
        "           (100_000, 0.00025),\n",
        "           (200_000, 0.0005),\n",
        "           (350_000, 0.00075),\n",
        "           (500_000, 0.001)\n",
        "]\n",
        "\n",
        "for n,p in dataset:\n",
        "\n",
        "  print(f\"n {n} start\")\n",
        "\n",
        "  scalefree_random_net = nx.barabasi_albert_graph(n,K)\n",
        "  tollerance = EPSILON / n #See the nx pagerank implementation to understand this operation\n",
        "  t0 = time()\n",
        "  pr = nx.pagerank(scalefree_random_net,alpha = 0.85, max_iter = 100, tol = tollerance)\n",
        "  t1 = time()\n",
        "\n",
        "  del pr\n",
        "  gc.collect()\n",
        "\n",
        "  nxtime = t1-t0\n",
        "  scalefree_my_random = fromNetworkxGraph(scalefree_random_net)\n",
        "\n",
        "  del scalefree_random_net\n",
        "  gc.collect()\n",
        "\n",
        "  t0 = time()\n",
        "  pr = pagerank(scalefree_my_random,beta=0.85, max_iter = 100, epsilon = EPSILON)\n",
        "  t1 = time()\n",
        "\n",
        "  del pr\n",
        "  gc.collect()\n",
        "\n",
        "  mytime = t1-t0\n",
        "\n",
        "  del scalefree_my_random\n",
        "  gc.collect()\n",
        "\n",
        "  print(f\"{n}: nx: {nxtime}, mypr: {mytime}\")\n",
        "  times['numNodes'].append((n,nxtime,mytime))\n",
        "  with open('ntimes.txt','a') as f:\n",
        "    f.write(f\"{n},{nxtime},{mytime}\\n\")\n",
        "  print(f\"{n} end\\n\")\n",
        "\n",
        "  print(f\"p {p} start\")\n",
        "\n",
        "  randomgraph = nx.fast_gnp_random_graph(N,p)\n",
        "  tollerance = EPSILON / N #See the nx pagerank implementation to understand this operation\n",
        "  t0 = time()\n",
        "  pr = nx.pagerank(randomgraph,tol = tollerance)\n",
        "  t1 = time()\n",
        "  \n",
        "  del pr\n",
        "  gc.collect()\n",
        "\n",
        "  nxtime = t1-t0\n",
        "  myrandomgraph = fromNetworkxGraph(randomgraph)\n",
        "\n",
        "  del randomgraph\n",
        "  gc.collect()\n",
        "\n",
        "  t0 = time()\n",
        "  pr = pagerank(myrandomgraph,epsilon = EPSILON)\n",
        "  t1 = time()\n",
        "\n",
        "  del pr\n",
        "  gc.collect()\n",
        "\n",
        "  mytime = t1-t0\n",
        "\n",
        "  del myrandomgraph\n",
        "  gc.collect()\n",
        "\n",
        "  print(f\"p: nx: {nxtime}, mypr: {mytime}\")\n",
        "  times['density'].append((p,nxtime,mytime))  \n",
        "  with open('ptimes.txt','a') as f:\n",
        "    f.write(f\"{p},{nxtime},{mytime}\\n\")\n",
        "  print(f\"{p} end\\n\")"
      ],
      "execution_count": null,
      "outputs": []
    },
    {
      "cell_type": "code",
      "metadata": {
        "id": "-5kC7QhtiMpQ"
      },
      "source": [
        "with open('times.json','w') as f:\n",
        "  json.dump(times, f, indent = 4)"
      ],
      "execution_count": null,
      "outputs": []
    },
    {
      "cell_type": "code",
      "metadata": {
        "id": "kATBkhSBrHNn"
      },
      "source": [
        "\"\"\"\n",
        "with open('times.json','r') as f:\n",
        "  times = json.load(f)\n",
        "\"\"\""
      ],
      "execution_count": 54,
      "outputs": []
    },
    {
      "cell_type": "code",
      "metadata": {
        "id": "xLoNPxRCZmvg",
        "colab": {
          "base_uri": "https://localhost:8080/",
          "height": 442
        },
        "outputId": "e44b4318-4969-437d-8dda-f3aa375fdb63"
      },
      "source": [
        "#Plot execution time of my pagerank and nx pagerank in function of number of nodes in the graph\n",
        "xnodes = np.array([row[0] for row in times['numNodes']])\n",
        "ypr = np.array([row[1] for row in times['numNodes']]) \n",
        "ymy = np.array([row[2] for row in times['numNodes']]) \n",
        "\n",
        "plt.figure(figsize=(7,7))\n",
        "plt.plot(xnodes, ypr, color='blue', label='nx.pagerank')\n",
        "plt.plot(xnodes, ymy, color='orange', label='my_pagerank')\n",
        "plt.grid(axis='x', color='0.95')\n",
        "plt.legend(title='Algorithm:')\n",
        "plt.xlabel('Number of Nodes')\n",
        "plt.ylabel('Execution Time(sec)')\n",
        "plt.savefig('time_for_nodes.pdf')\n",
        "plt.show()"
      ],
      "execution_count": 55,
      "outputs": [
        {
          "output_type": "display_data",
          "data": {
            "image/png": "[encoded data removed]",
            "text/plain": [
              "<Figure size 504x504 with 1 Axes>"
            ]
          },
          "metadata": {
            "needs_background": "light"
          }
        }
      ]
    },
    {
      "cell_type": "code",
      "metadata": {
        "id": "7TZwtlxreJ-0",
        "colab": {
          "base_uri": "https://localhost:8080/",
          "height": 445
        },
        "outputId": "99fa95e0-7309-4e62-9e9d-1de9c178b987"
      },
      "source": [
        "#Plot execution time of my pagerank and nx pagerank in function of density of the graph\n",
        "xdensity = np.array([row[0] for row in times['density']])\n",
        "ypr = np.array([row[1] for row in times['density']]) \n",
        "ymy = np.array([row[2] for row in times['density']]) \n",
        "\n",
        "plt.figure(figsize=(7,7))\n",
        "plt.plot(xdensity, ypr, color='blue', label='nx.pagerank')\n",
        "plt.plot(xdensity, ymy, color='orange', label='my_pagerank')\n",
        "plt.grid(axis='x', color='0.95')\n",
        "plt.legend(title='Algorithm:')\n",
        "plt.xlabel('Density')\n",
        "plt.ylabel('Execution Time(sec)')\n",
        "plt.savefig('time_for_density.pdf')\n",
        "plt.show()"
      ],
      "execution_count": 56,
      "outputs": [
        {
          "output_type": "display_data",
          "data": {
            "image/png": "[encoded data removed]",
            "text/plain": [
              "<Figure size 504x504 with 1 Axes>"
            ]
          },
          "metadata": {
            "needs_background": "light"
          }
        }
      ]
    },
    {
      "cell_type": "markdown",
      "metadata": {
        "id": "jAEIY2-k4sy7"
      },
      "source": [
        "### Convergence experiments"
      ]
    },
    {
      "cell_type": "code",
      "metadata": {
        "id": "XreQN93d4hS0"
      },
      "source": [
        "def test_pagerank(\\\n",
        "             graph,beta=0.85,epsilon=None,\\\n",
        "             max_iter=100,\\\n",
        "             convergence_measure = lambda x,y: np.sum(np.abs(x-y))\\\n",
        "             ):\n",
        "  \"\"\"Method used to test convergence of power iteration method for PageRank.\n",
        "  Returns the pagerank of the nodes, the number of iterations performed, a list of convergence rates.\n",
        "\n",
        "  Parameters\n",
        "  ----------\n",
        "  graph : ActorGraph\n",
        "    Graph in a which a node is an actor and an edge will link two nodes if the corresponding actors played at least once in the same movie\n",
        "  beta: int, optional\n",
        "    Dumping factor for PageRank\n",
        "  epsilon: float, optional\n",
        "    Error tolerance used to check convergence in power method solver. \n",
        "    If epsilon is None the method continue until max_iter.\n",
        "  max_iter: int, optional\n",
        "    Maximum number of iterations in power method eigenvalue solver.\n",
        "  convergence_measure: Callable[[np.array,np.array],float]\n",
        "    Measure used to check convergence in power method solver.\n",
        "\n",
        "  Returns\n",
        "  -------\n",
        "  Tuple[np.array,int,List[float]]\n",
        "   Pagerank of the nodes, the number of iterations performed, list of convergence rates.\n",
        "  \"\"\"\n",
        "  def single_step(graph,n,v,p,beta=0.85):\n",
        "    dangling_contribution = beta * sum([p[i] for i in graph.dangling]) / n\n",
        "    for i in range(n):\n",
        "      v[i] = (beta*sum([(p[j]/graph.out_degree[j])\\\n",
        "                       for j in graph.in_links[i]]))\\\n",
        "                       + dangling_contribution \\\n",
        "                       + ((1-beta) * (1/n))\n",
        "    return v/np.sum(v)\n",
        "\n",
        "  n = graph.getorder()\n",
        "  v = np.zeros(n,dtype=np.float32)\n",
        "  p = np.ones(n,dtype=np.float32)/n\n",
        "  iter = 1\n",
        "  convergence_rate = 1\n",
        "  \n",
        "  convrates = []\n",
        "\n",
        "  while iter <= max_iter:\n",
        "    pfirst = single_step(graph,n,v,p,beta)\n",
        "    convergence_rate = convergence_measure(p,pfirst)\n",
        "    p = pfirst\n",
        "    iter += 1\n",
        "\n",
        "    convrates.append(convergence_rate)\n",
        "    if epsilon is not None and convergence_rate <= epsilon: break\n",
        "\n",
        "  return p, (iter-1), convrates"
      ],
      "execution_count": 57,
      "outputs": []
    },
    {
      "cell_type": "code",
      "metadata": {
        "id": "jdMzRSpe9GD0"
      },
      "source": [
        "l1 = lambda x,y: np.sum(np.abs(x-y))\n",
        "_,_,convrates = test_pagerank(g)"
      ],
      "execution_count": 58,
      "outputs": []
    },
    {
      "cell_type": "code",
      "metadata": {
        "id": "JHRqCHk4UY4K"
      },
      "source": [
        "l2 = lambda x,y : np.sum(np.power((x-y),2))\n",
        "_,_,convl2 = test_pagerank(g,convergence_measure = l2)"
      ],
      "execution_count": 59,
      "outputs": []
    },
    {
      "cell_type": "code",
      "metadata": {
        "id": "w-xdKmKRZaO5"
      },
      "source": [
        "magnitudemax = lambda x,y: max(np.abs(x-y))\n",
        "_,_,convmax = test_pagerank(g,convergence_measure = magnitudemax)"
      ],
      "execution_count": 60,
      "outputs": []
    },
    {
      "cell_type": "code",
      "metadata": {
        "id": "1REb73IS-88D"
      },
      "source": [
        "x = np.array(range(1,101,1))\n",
        "\n",
        "yl1 = np.array(convrates)\n",
        "yl2 = np.array(convl2)\n",
        "ymax = np.array(convmax)"
      ],
      "execution_count": null,
      "outputs": []
    },
    {
      "cell_type": "code",
      "metadata": {
        "id": "sKzQThUJjnxI"
      },
      "source": [
        "convs = {\n",
        "    'l1': list(map(lambda x: str(x),convrates)),\n",
        "    'l2': list(map(lambda x: str(x),convl2)),\n",
        "    'max': list(map(lambda x: str(x),convmax))\n",
        "}"
      ],
      "execution_count": null,
      "outputs": []
    },
    {
      "cell_type": "code",
      "metadata": {
        "id": "NrgChZITky0S",
        "colab": {
          "base_uri": "https://localhost:8080/",
          "height": 35
        },
        "outputId": "8aa6f963-9bc6-453e-bb89-ce736ce022ef"
      },
      "source": [
        "with open('convergence.json','w') as f:\n",
        "  json.dump(convs,f,indent=4)"
      ],
      "execution_count": 63,
      "outputs": [
        {
          "output_type": "execute_result",
          "data": {
            "application/vnd.google.colaboratory.intrinsic+json": {
              "type": "string"
            },
            "text/plain": [
              "\"\\nwith open('convergence.json','w') as f:\\n  json.dump(convs,f,indent=4)\\n\""
            ]
          },
          "metadata": {},
          "execution_count": 63
        }
      ]
    },
    {
      "cell_type": "code",
      "metadata": {
        "id": "iePlVo2yu7TY"
      },
      "source": [
        "\"\"\"\n",
        "with open('convergence.json','r') as f:\n",
        "  convs = json.load(f)\n",
        "  convs = dict([(k,list(map(lambda x: np.float32(x),v))) for k,v in convs.items()])\n",
        "  x = range(1,101,1)\n",
        "  yl1 = np.array(convs['l1'])\n",
        "  yl2 = np.array(convs['l2'])\n",
        "  ymax = np.array(convs['max'])\n",
        "\"\"\""
      ],
      "execution_count": 64,
      "outputs": []
    },
    {
      "cell_type": "code",
      "metadata": {
        "id": "34sHvfOyUXaa",
        "colab": {
          "base_uri": "https://localhost:8080/",
          "height": 442
        },
        "outputId": "9a5b30b5-129f-4156-f49f-ace07957943d"
      },
      "source": [
        "#Plot the convergence_rate for different measures (l1-norm,l2-norm,max-abs-diff) in function of iterations for the ActorGraph\n",
        "plt.figure(figsize=(10,7))\n",
        "plt.plot(x, yl1, color='orange',label = 'l1-norm')\n",
        "plt.plot(x, yl2, color='blue',label = 'l2-norm')\n",
        "plt.plot(x, ymax, color = 'purple', label = 'max-abs-diff')\n",
        "plt.grid(axis='x', color='0.95')\n",
        "plt.legend(title='Measure:')\n",
        "plt.yscale('log')\n",
        "plt.xlabel('Iterations')\n",
        "plt.ylabel('Convergence Rate')\n",
        "plt.savefig('convergence_per_iteration.pdf')\n",
        "plt.show()"
      ],
      "execution_count": 65,
      "outputs": [
        {
          "output_type": "display_data",
          "data": {
            "image/png": "[encoded data removed]",
            "text/plain": [
              "<Figure size 720x504 with 1 Axes>"
            ]
          },
          "metadata": {
            "needs_background": "light"
          }
        }
      ]
    },
    {
      "cell_type": "code",
      "metadata": {
        "colab": {
          "base_uri": "https://localhost:8080/",
          "height": 442
        },
        "id": "StM_Dp1hAK2p",
        "outputId": "8f28f1b5-12e3-4bf0-896c-cd943bd6c7f4"
      },
      "source": [
        "#Plot the convergence_rate for different measures (l1-norm,l2-norm,max-abs-diff) in function of iterations for a toy graph\n",
        "plt.figure(figsize=(10,7))\n",
        "x = np.arange(1,101,1)\n",
        "\n",
        "for c,n,m in zip(['orange','blue','purple'],['l1-norm','l2-norm','max-abs-diff'],[l1,l2,magnitudemax]):\n",
        "  _,_,rates = test_pagerank(graph4,convergence_measure = m)\n",
        "  y = np.array(rates)\n",
        "  plt.plot(x, y, color=c,label = n)\n",
        "\n",
        "plt.grid(axis='x', color='0.95')\n",
        "plt.legend(title='Measure:')\n",
        "plt.yscale('log')\n",
        "plt.xlabel('Iterations')\n",
        "plt.ylabel('Convergence Rate')\n",
        "plt.savefig('toy_convergence_per_iteration.pdf')\n",
        "plt.show()"
      ],
      "execution_count": 66,
      "outputs": [
        {
          "output_type": "display_data",
          "data": {
            "image/png": "[encoded data removed]",
            "text/plain": [
              "<Figure size 720x504 with 1 Axes>"
            ]
          },
          "metadata": {
            "needs_background": "light"
          }
        }
      ]
    },
    {
      "cell_type": "markdown",
      "metadata": {
        "id": "rAC46RLxvtH2"
      },
      "source": [
        "### Topic Sensitive PageRank"
      ]
    },
    {
      "cell_type": "code",
      "metadata": {
        "id": "YRHd09hqU2kb"
      },
      "source": [
        "def tsrank(\\\n",
        "           graph,beta=0.85,\\\n",
        "           topic = None,\\\n",
        "           epsilon=0.000001,\\\n",
        "           max_iter=100,\\\n",
        "           convergence_measure = lambda x,y: np.sum(np.abs(x-y))\\\n",
        "           ):\n",
        "  \"\"\"Returns the Topic-Sensitive PageRank of the nodes in the graph.\n",
        "\n",
        "  Parameters\n",
        "  ----------\n",
        "  graph : ActorGraph\n",
        "    Graph in a which a node is an actor and an edge will link two nodes if the corresponding actors played at least once in the same movie.\n",
        "  beta: int, optional\n",
        "    Dumping factor for PageRank.\n",
        "  topic : List[bool]\n",
        "    List in which for each node there is 1 if the node is on topic and 0 otherwise.\n",
        "  epsilon: float, optional\n",
        "    Error tolerance used to check convergence in power method solver.\n",
        "  max_iter: int, optional\n",
        "    Maximum number of iterations in power method eigenvalue solver.\n",
        "  convergence_measure: Callable[[np.array,np.array],float]\n",
        "    Measure used to check convergence in power method solver.\n",
        "\n",
        "  Returns\n",
        "  -------\n",
        "  Dict[int,float]\n",
        "    Dictionary of nodes with Topic-Sensitive PageRank as value.\n",
        "  \"\"\"\n",
        "  def single_step(graph,n,v,p,topic, ontopic, beta=0.85):\n",
        "    dangling_contribution = beta * sum([p[i] for i in graph.dangling]) / n\n",
        "    for i in range(n):\n",
        "      v[i] = (beta*sum([(p[j]/graph.out_degree[j])\\\n",
        "                       for j in graph.in_links[i]]))\\\n",
        "                       +  dangling_contribution\\\n",
        "                       + ((1-beta) * topic[i] * (1/ontopic))\n",
        "    return v/np.sum(v)\n",
        "\n",
        "  n = graph.getorder()\n",
        "  v = np.zeros(n,dtype=np.float32)\n",
        "  p = np.ones(n,dtype=np.float32)/n\n",
        "  iter = 1\n",
        "  convergence_rate = 1\n",
        "\n",
        "  if topic is None:\n",
        "    topic = np.ones(n,dtype=np.float32)\n",
        "  \n",
        "  ontopic = sum(topic)\n",
        "\n",
        "  while convergence_rate > epsilon and iter < max_iter:\n",
        "    pfirst = single_step(graph,n,v,p,topic,ontopic,beta)\n",
        "    convergence_rate = convergence_measure(p,pfirst)\n",
        "    p = pfirst\n",
        "    iter += 1\n",
        "\n",
        "  return dict((k,v) for k,v in enumerate(p))"
      ],
      "execution_count": 67,
      "outputs": []
    },
    {
      "cell_type": "code",
      "metadata": {
        "id": "0lqyyjhjal8c",
        "colab": {
          "base_uri": "https://localhost:8080/"
        },
        "outputId": "d4aeadc6-d82e-4cd0-86f5-a87150482cab"
      },
      "source": [
        "%time genderrank = tsrank(g, epsilon = 0.000001 * g.getorder(), topic=list(g.genderAttribute.values()))"
      ],
      "execution_count": 68,
      "outputs": [
        {
          "output_type": "stream",
          "text": [
            "CPU times: user 6.52 s, sys: 22 ms, total: 6.55 s\n",
            "Wall time: 6.55 s\n"
          ],
          "name": "stdout"
        }
      ]
    },
    {
      "cell_type": "code",
      "metadata": {
        "id": "y5V-BTyi5rU7",
        "colab": {
          "base_uri": "https://localhost:8080/"
        },
        "outputId": "e916721d-0a7d-45eb-acce-e5599d68006b"
      },
      "source": [
        "sum(genderrank.values())"
      ],
      "execution_count": 69,
      "outputs": [
        {
          "output_type": "execute_result",
          "data": {
            "text/plain": [
              "1.0000000848726707"
            ]
          },
          "metadata": {},
          "execution_count": 69
        }
      ]
    },
    {
      "cell_type": "markdown",
      "metadata": {
        "id": "Px-GxQIe2J1t"
      },
      "source": [
        "## HITS"
      ]
    },
    {
      "cell_type": "code",
      "metadata": {
        "id": "taSSOZ6HbBvy"
      },
      "source": [
        "def hits(graph,iterations=100):\n",
        "\n",
        "  \"\"\"Returns hub and authority values for each node in the graph.\n",
        "\n",
        "  Parameters\n",
        "  -----------\n",
        "  graph: ActorGraph\n",
        "    Graph in a which a node is an actor and an edge will link two nodes if the corresponding actors played at least once in the same movie.\n",
        "  iterations: int, optional\n",
        "    Number of iterations for authority and hub values update.\n",
        "    \n",
        "  Returns\n",
        "  -----------\n",
        "  hub,auth : Tuple[Dict[int,float],Dict[int,float]]\n",
        "    Tuple of dicts in which are stored for each node the corresponding hub and authority value\n",
        "  \"\"\"\n",
        "\n",
        "  auth = dict([(k,1) for k in graph.nodes()])\n",
        "  hub = dict([(k,1) for k in graph.nodes()])\n",
        "\n",
        "  for _ in range(iterations):\n",
        "\n",
        "    #auth update\n",
        "    for i in auth:\n",
        "      auth[i] = sum([hub[j] for j in graph.in_links[i]])\n",
        "\n",
        "    #hub update\n",
        "    for i in hub:\n",
        "      hub[i] = sum([auth[j] for j in graph.out_links[i]])\n",
        "\n",
        "    #normalization\n",
        "    authfactor = sum(auth.values()) \n",
        "    hubfactor = sum(hub.values())\n",
        "    auth = {k: (v/authfactor) for k,v in auth.items()}\n",
        "    hub = {k: (v/hubfactor) for k,v in hub.items()}\n",
        "\n",
        "  return hub, auth"
      ],
      "execution_count": 70,
      "outputs": []
    },
    {
      "cell_type": "markdown",
      "metadata": {
        "id": "YASmuRm6-D1Z"
      },
      "source": [
        "### Toy Example"
      ]
    },
    {
      "cell_type": "code",
      "metadata": {
        "id": "Ofkae4QF-PB5"
      },
      "source": [
        "def print_hub_auth(hubauth):\n",
        "  \"Utility to print hub and auth dict in a more understandable way\"\n",
        "  hub,auth = hubauth\n",
        "  print(f\"Hub: {hub}\\nAuth: {auth}\")"
      ],
      "execution_count": 71,
      "outputs": []
    },
    {
      "cell_type": "code",
      "metadata": {
        "colab": {
          "base_uri": "https://localhost:8080/",
          "height": 353
        },
        "id": "ENc5Sof0-FTC",
        "outputId": "43559f61-9c91-4ceb-c088-516e3d5f0a31"
      },
      "source": [
        "nx.draw(graph1.to_networkx_graph(),with_labels=True, node_color = 'orange')\n",
        "print_hub_auth(hits(graph1))"
      ],
      "execution_count": 72,
      "outputs": [
        {
          "output_type": "stream",
          "text": [
            "Hub: {0: 0.19098300562505258, 1: 0.30901699437494745, 2: 0.30901699437494745, 3: 0.19098300562505258}\n",
            "Auth: {0: 0.19098300562505258, 1: 0.3090169943749474, 2: 0.3090169943749474, 3: 0.19098300562505258}\n"
          ],
          "name": "stdout"
        },
        {
          "output_type": "display_data",
          "data": {
            "image/png": "[encoded data removed]",
            "text/plain": [
              "<Figure size 432x288 with 1 Axes>"
            ]
          },
          "metadata": {}
        }
      ]
    },
    {
      "cell_type": "code",
      "metadata": {
        "colab": {
          "base_uri": "https://localhost:8080/",
          "height": 353
        },
        "id": "TdV9o8Qw_DyY",
        "outputId": "5dd4e6fd-86db-4213-8da3-3d5443fdc9ea"
      },
      "source": [
        "nx.draw(graph2.to_networkx_graph(),with_labels=True, node_color = 'orange')\n",
        "print_hub_auth(hits(graph2))"
      ],
      "execution_count": 73,
      "outputs": [
        {
          "output_type": "stream",
          "text": [
            "Hub: {0: 0.25, 1: 0.25, 2: 0.25, 3: 0.25}\n",
            "Auth: {0: 0.25, 1: 0.25, 2: 0.25, 3: 0.25}\n"
          ],
          "name": "stdout"
        },
        {
          "output_type": "display_data",
          "data": {
            "image/png": "[encoded data removed]",
            "text/plain": [
              "<Figure size 432x288 with 1 Axes>"
            ]
          },
          "metadata": {}
        }
      ]
    },
    {
      "cell_type": "code",
      "metadata": {
        "colab": {
          "base_uri": "https://localhost:8080/",
          "height": 353
        },
        "id": "uThgPlrR_HbG",
        "outputId": "ac9c8178-a94d-4673-af39-28ed76213d9d"
      },
      "source": [
        "nx.draw(graph3.to_networkx_graph(),with_labels=True, node_color = 'orange')\n",
        "print_hub_auth(hits(graph3))"
      ],
      "execution_count": 74,
      "outputs": [
        {
          "output_type": "stream",
          "text": [
            "Hub: {0: 0.2, 1: 0.2, 2: 0.2, 3: 0.2, 4: 0.2}\n",
            "Auth: {0: 0.5000000000000001, 1: 0.12500000000000003, 2: 0.12500000000000003, 3: 0.12500000000000003, 4: 0.12500000000000003}\n"
          ],
          "name": "stdout"
        },
        {
          "output_type": "display_data",
          "data": {
            "image/png": "[encoded data removed]",
            "text/plain": [
              "<Figure size 432x288 with 1 Axes>"
            ]
          },
          "metadata": {}
        }
      ]
    },
    {
      "cell_type": "markdown",
      "metadata": {
        "id": "t1VMekDZ2OLH"
      },
      "source": [
        "# Ranks comparison"
      ]
    },
    {
      "cell_type": "markdown",
      "metadata": {
        "id": "X8SmPsCE-bRP"
      },
      "source": [
        "## Top10 of each rank"
      ]
    },
    {
      "cell_type": "code",
      "metadata": {
        "id": "fKdBbmtW6ReC"
      },
      "source": [
        "degrank = g.in_degree()"
      ],
      "execution_count": 75,
      "outputs": []
    },
    {
      "cell_type": "code",
      "metadata": {
        "id": "OTM-T2Fb6VeB",
        "colab": {
          "base_uri": "https://localhost:8080/"
        },
        "outputId": "017c1b02-4ffa-45f1-df96-b2b5a92cc15c"
      },
      "source": [
        "top10degrank = sorted(degrank.items(), key=lambda x: x[1],reverse=True)[:10]\n",
        "top10degrank"
      ],
      "execution_count": 76,
      "outputs": [
        {
          "output_type": "execute_result",
          "data": {
            "text/plain": [
              "[(128033, 865),\n",
              " (58225, 801),\n",
              " (44022, 764),\n",
              " (55814, 732),\n",
              " (39605, 714),\n",
              " (63926, 677),\n",
              " (53066, 643),\n",
              " (62749, 639),\n",
              " (65739, 618),\n",
              " (40369, 591)]"
            ]
          },
          "metadata": {},
          "execution_count": 76
        }
      ]
    },
    {
      "cell_type": "code",
      "metadata": {
        "id": "7rGIx2Hj32KQ"
      },
      "source": [
        "prank = pagerank(g)"
      ],
      "execution_count": 77,
      "outputs": []
    },
    {
      "cell_type": "code",
      "metadata": {
        "id": "c-SDcnLE4ugZ"
      },
      "source": [
        "with open('pagerank.json','w') as f:\n",
        "  toSave = dict([(k,str(v)) for k,v in prank.items()])\n",
        "  json.dump(toSave,f,indent=4)"
      ],
      "execution_count": null,
      "outputs": []
    },
    {
      "cell_type": "code",
      "metadata": {
        "id": "glLjcNveQddM"
      },
      "source": [
        "\"\"\"\n",
        "with open('pagerank.json','r') as f:\n",
        "  fromDump = json.load(f)\n",
        "  prank = dict([(k,np.float32(v)) for k,v in fromDump.items()])\n",
        "\"\"\""
      ],
      "execution_count": 79,
      "outputs": []
    },
    {
      "cell_type": "code",
      "metadata": {
        "id": "8XgjsZb85Lrd",
        "colab": {
          "base_uri": "https://localhost:8080/"
        },
        "outputId": "0b16f5e0-0c03-4cc5-cf34-f2ad727af9d0"
      },
      "source": [
        "top10prank = sorted(prank.items(), key=lambda x: x[1],reverse=True)[:10]\n",
        "top10prank"
      ],
      "execution_count": 80,
      "outputs": [
        {
          "output_type": "execute_result",
          "data": {
            "text/plain": [
              "[('55814', 0.00011188644),\n",
              " ('128033', 8.1640865e-05),\n",
              " ('39605', 7.1438546e-05),\n",
              " ('58225', 6.927196e-05),\n",
              " ('73431', 5.9934355e-05),\n",
              " ('74407', 5.8757323e-05),\n",
              " ('77974', 5.8360736e-05),\n",
              " ('240271', 5.8137513e-05),\n",
              " ('67625', 5.6825273e-05),\n",
              " ('91103', 5.4326276e-05)]"
            ]
          },
          "metadata": {},
          "execution_count": 80
        }
      ]
    },
    {
      "cell_type": "code",
      "metadata": {
        "id": "rkIXxocF6Fds"
      },
      "source": [
        "genderrank = tsrank(g,topic=list(g.genderAttribute.values()))"
      ],
      "execution_count": 81,
      "outputs": []
    },
    {
      "cell_type": "code",
      "metadata": {
        "id": "-sNQ9zjE6fJX"
      },
      "source": [
        "with open('topic-sensitive-rank.json','w') as f:\n",
        "  toSave = dict([(k,str(v)) for k,v in genderrank.items()])\n",
        "  json.dump(toSave,f,indent=4)"
      ],
      "execution_count": null,
      "outputs": []
    },
    {
      "cell_type": "code",
      "metadata": {
        "id": "LpPSJoV7PpGz"
      },
      "source": [
        "\"\"\"\n",
        "with open('topic-sensitive-rank.json','r') as f:\n",
        "  fromDump = json.load(f)\n",
        "  genderrank = dict([(k,np.float32(v)) for k,v in fromDump.items()])\n",
        "\"\"\""
      ],
      "execution_count": 83,
      "outputs": []
    },
    {
      "cell_type": "code",
      "metadata": {
        "id": "lKLn7jcx6n9y",
        "colab": {
          "base_uri": "https://localhost:8080/"
        },
        "outputId": "0e18436e-1841-4164-e4f7-a03f180cbb57"
      },
      "source": [
        "top10genderrank = sorted(genderrank.items(), key=lambda x: x[1],reverse=True)[:10]\n",
        "top10genderrank"
      ],
      "execution_count": 84,
      "outputs": [
        {
          "output_type": "execute_result",
          "data": {
            "text/plain": [
              "[('55814', 0.00012122903),\n",
              " ('39605', 0.00011293084),\n",
              " ('58225', 9.56341e-05),\n",
              " ('240271', 9.4752286e-05),\n",
              " ('128033', 7.787699e-05),\n",
              " ('151542', 6.853794e-05),\n",
              " ('65087', 6.853214e-05),\n",
              " ('65739', 6.818579e-05),\n",
              " ('49539', 6.6550114e-05),\n",
              " ('56700', 6.584853e-05)]"
            ]
          },
          "metadata": {},
          "execution_count": 84
        }
      ]
    },
    {
      "cell_type": "code",
      "metadata": {
        "id": "nZ8VQAY76yEJ"
      },
      "source": [
        "hubrank, authrank = hits(g,iterations=60)"
      ],
      "execution_count": 85,
      "outputs": []
    },
    {
      "cell_type": "code",
      "metadata": {
        "id": "oMiOFET0GBh4"
      },
      "source": [
        "with open('auth-rank.json','w') as f:\n",
        "  toSave = dict([(k,str(v)) for k,v in authrank.items()])\n",
        "  json.dump(toSave,f,indent=4)\n",
        "  f.close()\n",
        "\n",
        "with open('hub-rank.json','w') as f1:\n",
        "  toSave1 = dict([(k,str(v)) for k,v in hubrank.items()])\n",
        "  json.dump(toSave1,f1,indent=4)"
      ],
      "execution_count": null,
      "outputs": []
    },
    {
      "cell_type": "code",
      "metadata": {
        "id": "8BL3Jjd0Hi0W"
      },
      "source": [
        "\"\"\"\n",
        "with open('auth-rank.json','r') as f:\n",
        "  fromDump = json.load(f)\n",
        "  authrank = dict([(k,np.float32(v)) for k,v in fromDump.items()])\n",
        "  f.close()\n",
        "\n",
        "with open('hub-rank.json','r') as f1:\n",
        "  fromDump1 = json.load(f1)\n",
        "  hubrank = dict([(k,np.float32(v)) for k,v in fromDump1.items()])\n",
        "\"\"\""
      ],
      "execution_count": 87,
      "outputs": []
    },
    {
      "cell_type": "code",
      "metadata": {
        "id": "3CMrk1JW66b1",
        "colab": {
          "base_uri": "https://localhost:8080/"
        },
        "outputId": "7a680803-cd89-41cb-8ba6-811771ffdac4"
      },
      "source": [
        "top10hubrank = sorted(hubrank.items(), key=lambda x: x[1],reverse=True)[:10]\n",
        "top10authrank = sorted(authrank.items(), key=lambda x: x[1],reverse=True)[:10]\n",
        "top10authrank"
      ],
      "execution_count": 88,
      "outputs": [
        {
          "output_type": "execute_result",
          "data": {
            "text/plain": [
              "[('40369', 0.002510891),\n",
              " ('29406', 0.002379203),\n",
              " ('18370', 0.002339439),\n",
              " ('28925', 0.002301597),\n",
              " ('26928', 0.0022637667),\n",
              " ('36296', 0.0022128674),\n",
              " ('29278', 0.002211824),\n",
              " ('22466', 0.0021162122),\n",
              " ('35689', 0.0020780796),\n",
              " ('24566', 0.0020737688)]"
            ]
          },
          "metadata": {},
          "execution_count": 88
        }
      ]
    },
    {
      "cell_type": "code",
      "metadata": {
        "id": "aMrhSdEP7O1v"
      },
      "source": [
        "nxg = g.to_networkx_graph()"
      ],
      "execution_count": 89,
      "outputs": []
    },
    {
      "cell_type": "code",
      "metadata": {
        "id": "Xrh9hOKvT0_Z",
        "colab": {
          "base_uri": "https://localhost:8080/"
        },
        "outputId": "e4989e58-9eee-4e25-d320-79daf4ad0b20"
      },
      "source": [
        "top10hrank = [(k,v) for k,v in nx.harmonic_centrality(nxg,nbunch=top10id.keys()).items()]\n",
        "top10hrank"
      ],
      "execution_count": 90,
      "outputs": [
        {
          "output_type": "execute_result",
          "data": {
            "text/plain": [
              "[(14709, 101559.97298517855),\n",
              " (26636, 107205.3959787793),\n",
              " (14740, 103095.9291151237),\n",
              " (15819, 100351.34953640647),\n",
              " (27235, 103289.42753058544),\n",
              " (15810, 103148.44960852368),\n",
              " (15014, 106052.94185235315),\n",
              " (41673, 110977.15045206077),\n",
              " (32047, 108142.15788351704),\n",
              " (57485, 106345.61152710133)]"
            ]
          },
          "metadata": {},
          "execution_count": 90
        }
      ]
    },
    {
      "cell_type": "code",
      "metadata": {
        "id": "CkCcW7-rHU2c"
      },
      "source": [
        "def who_are(nodes):\n",
        "  \"\"\"Returns (name,rankvalue) pairs for the actors in nodes sorted by rankvalue in descending order.\n",
        "\n",
        "  Parameters\n",
        "  -----------\n",
        "  nodes: List[Tuple[int,float]]\n",
        "    list of (nodeid,rankValue) pairs.\n",
        "  \n",
        "  Returns\n",
        "  ----------\n",
        "  List[Tuple[str,\"int or float\"]]\n",
        "    (name,rankvalue) pairs for the actors in nodes sorted by rankvalue in descending order\n",
        "  \"\"\"\n",
        "  with open('id-actor.json','r') as f:\n",
        "    actordict = json.load(f)\n",
        "    actors = dict([(actordict[str(k)],v) for k,v in nodes])\n",
        "    del actordict\n",
        "    gc.collect()\n",
        "    f.close()\n",
        "  with open('name.basics.tsv/name.basics.tsv','r') as tsv_file:\n",
        "    tsv = csv.reader(tsv_file,delimiter=\"\\t\")\n",
        "    header = next(tsv)\n",
        "    end = False\n",
        "    names = []\n",
        "    N = len(nodes)\n",
        "    while not end and len(names)<N:\n",
        "      try:\n",
        "        row = next(tsv)\n",
        "      except StopIteration:\n",
        "        end = True\n",
        "      else:\n",
        "        #['nconst','primaryName','birthYear','deathYear','primaryProfession','knownForTitles']\n",
        "        if row[0] in actors:\n",
        "          names.append((row[1],actors[row[0]]))\n",
        "    del tsv\n",
        "    gc.collect()\n",
        "    tsv_file.close()\n",
        "  return sorted(names,key=lambda x: x[1],reverse=True)"
      ],
      "execution_count": 91,
      "outputs": []
    },
    {
      "cell_type": "code",
      "metadata": {
        "id": "IwNAO1BtLqpS"
      },
      "source": [
        "names_degrank = who_are(top10degrank)"
      ],
      "execution_count": 92,
      "outputs": []
    },
    {
      "cell_type": "code",
      "metadata": {
        "id": "bQcdQozvP2E1"
      },
      "source": [
        "names_prank = who_are(top10prank)"
      ],
      "execution_count": 93,
      "outputs": []
    },
    {
      "cell_type": "code",
      "metadata": {
        "id": "_yVktk_5d4O0"
      },
      "source": [
        "names_tsrank = who_are(top10genderrank)"
      ],
      "execution_count": 94,
      "outputs": []
    },
    {
      "cell_type": "code",
      "metadata": {
        "id": "boyh7hLGFM3r"
      },
      "source": [
        "names_hubrank = who_are(top10hubrank)"
      ],
      "execution_count": 95,
      "outputs": []
    },
    {
      "cell_type": "code",
      "metadata": {
        "id": "4qTwz47VFPBr"
      },
      "source": [
        "names_authrank = who_are(top10authrank)"
      ],
      "execution_count": 96,
      "outputs": []
    },
    {
      "cell_type": "code",
      "metadata": {
        "id": "tOxT6ME00wjo"
      },
      "source": [
        "def getOnlyNames(rank):\n",
        "  \"\"\"Returns names of the actors in rank\"\"\"\n",
        "  return [name for name,value in rank]"
      ],
      "execution_count": 97,
      "outputs": []
    },
    {
      "cell_type": "markdown",
      "metadata": {
        "id": "JVdy4uqvBCzd"
      },
      "source": [
        "### Rank Table"
      ]
    },
    {
      "cell_type": "code",
      "metadata": {
        "id": "WKkTePiA1Ibc"
      },
      "source": [
        "ranks = pd.DataFrame()\n",
        "ranks['In-Degree'] = getOnlyNames(names_degrank)\n",
        "ranks['PageRank'] = getOnlyNames(names_prank)\n",
        "ranks['Ts-PageRank'] = getOnlyNames(names_tsrank)\n",
        "ranks['HITS-Hub'] = getOnlyNames(names_hubrank)\n",
        "ranks['HITS-Auth'] = getOnlyNames(names_authrank)\n",
        "ranks.index += 1"
      ],
      "execution_count": 98,
      "outputs": []
    },
    {
      "cell_type": "code",
      "metadata": {
        "colab": {
          "base_uri": "https://localhost:8080/",
          "height": 359
        },
        "id": "9nVyL_3y7Zmy",
        "outputId": "029239db-c065-4b29-eb4c-ce79eb2b3e88"
      },
      "source": [
        "ranks"
      ],
      "execution_count": 99,
      "outputs": [
        {
          "output_type": "execute_result",
          "data": {
            "text/html": [
              "<div>\n",
              "<style scoped>\n",
              "    .dataframe tbody tr th:only-of-type {\n",
              "        vertical-align: middle;\n",
              "    }\n",
              "\n",
              "    .dataframe tbody tr th {\n",
              "        vertical-align: top;\n",
              "    }\n",
              "\n",
              "    .dataframe thead th {\n",
              "        text-align: right;\n",
              "    }\n",
              "</style>\n",
              "<table border=\"1\" class=\"dataframe\">\n",
              "  <thead>\n",
              "    <tr style=\"text-align: right;\">\n",
              "      <th></th>\n",
              "      <th>In-Degree</th>\n",
              "      <th>PageRank</th>\n",
              "      <th>Ts-PageRank</th>\n",
              "      <th>HITS-Hub</th>\n",
              "      <th>HITS-Auth</th>\n",
              "    </tr>\n",
              "  </thead>\n",
              "  <tbody>\n",
              "    <tr>\n",
              "      <th>1</th>\n",
              "      <td>Brahmanandam</td>\n",
              "      <td>Eric Roberts</td>\n",
              "      <td>Eric Roberts</td>\n",
              "      <td>Aruna Irani</td>\n",
              "      <td>Aruna Irani</td>\n",
              "    </tr>\n",
              "    <tr>\n",
              "      <th>2</th>\n",
              "      <td>Ron Jeremy</td>\n",
              "      <td>Brahmanandam</td>\n",
              "      <td>Masayoshi Nogami</td>\n",
              "      <td>Helen</td>\n",
              "      <td>Helen</td>\n",
              "    </tr>\n",
              "    <tr>\n",
              "      <th>3</th>\n",
              "      <td>Eddie Garcia</td>\n",
              "      <td>Masayoshi Nogami</td>\n",
              "      <td>Ron Jeremy</td>\n",
              "      <td>Ashok Kumar</td>\n",
              "      <td>Ashok Kumar</td>\n",
              "    </tr>\n",
              "    <tr>\n",
              "      <th>4</th>\n",
              "      <td>Eric Roberts</td>\n",
              "      <td>Ron Jeremy</td>\n",
              "      <td>Seiji Nakamitsu</td>\n",
              "      <td>Master Bhagwan</td>\n",
              "      <td>Master Bhagwan</td>\n",
              "    </tr>\n",
              "    <tr>\n",
              "      <th>5</th>\n",
              "      <td>Masayoshi Nogami</td>\n",
              "      <td>Joe Estevez</td>\n",
              "      <td>Brahmanandam</td>\n",
              "      <td>Pran</td>\n",
              "      <td>Pran</td>\n",
              "    </tr>\n",
              "    <tr>\n",
              "      <th>6</th>\n",
              "      <td>Paquito Diaz</td>\n",
              "      <td>Michael Madsen</td>\n",
              "      <td>Kôji Makimura</td>\n",
              "      <td>Dharmendra</td>\n",
              "      <td>Dharmendra</td>\n",
              "    </tr>\n",
              "    <tr>\n",
              "      <th>7</th>\n",
              "      <td>Mithun Chakraborty</td>\n",
              "      <td>Tom Sizemore</td>\n",
              "      <td>Yutaka Ikejima</td>\n",
              "      <td>Jagdeep</td>\n",
              "      <td>Jagdeep</td>\n",
              "    </tr>\n",
              "    <tr>\n",
              "      <th>8</th>\n",
              "      <td>Shakti Kapoor</td>\n",
              "      <td>Seiji Nakamitsu</td>\n",
              "      <td>Tom Byron</td>\n",
              "      <td>Jeevan</td>\n",
              "      <td>Jeevan</td>\n",
              "    </tr>\n",
              "    <tr>\n",
              "      <th>9</th>\n",
              "      <td>Tom Byron</td>\n",
              "      <td>Tony Devon</td>\n",
              "      <td>Jamie Gillis</td>\n",
              "      <td>Mohan Choti</td>\n",
              "      <td>Mohan Choti</td>\n",
              "    </tr>\n",
              "    <tr>\n",
              "      <th>10</th>\n",
              "      <td>Aruna Irani</td>\n",
              "      <td>Danny Trejo</td>\n",
              "      <td>Jean-Pierre Armand</td>\n",
              "      <td>Madan Puri</td>\n",
              "      <td>Madan Puri</td>\n",
              "    </tr>\n",
              "  </tbody>\n",
              "</table>\n",
              "</div>"
            ],
            "text/plain": [
              "             In-Degree          PageRank  ...        HITS-Hub       HITS-Auth\n",
              "1         Brahmanandam      Eric Roberts  ...     Aruna Irani     Aruna Irani\n",
              "2           Ron Jeremy      Brahmanandam  ...           Helen           Helen\n",
              "3         Eddie Garcia  Masayoshi Nogami  ...     Ashok Kumar     Ashok Kumar\n",
              "4         Eric Roberts        Ron Jeremy  ...  Master Bhagwan  Master Bhagwan\n",
              "5     Masayoshi Nogami       Joe Estevez  ...            Pran            Pran\n",
              "6         Paquito Diaz    Michael Madsen  ...      Dharmendra      Dharmendra\n",
              "7   Mithun Chakraborty      Tom Sizemore  ...         Jagdeep         Jagdeep\n",
              "8        Shakti Kapoor   Seiji Nakamitsu  ...          Jeevan          Jeevan\n",
              "9            Tom Byron        Tony Devon  ...     Mohan Choti     Mohan Choti\n",
              "10         Aruna Irani       Danny Trejo  ...      Madan Puri      Madan Puri\n",
              "\n",
              "[10 rows x 5 columns]"
            ]
          },
          "metadata": {},
          "execution_count": 99
        }
      ]
    },
    {
      "cell_type": "markdown",
      "metadata": {
        "id": "CzNYqfxk-hz8"
      },
      "source": [
        "## Top10 of all time similarity"
      ]
    },
    {
      "cell_type": "markdown",
      "metadata": {
        "id": "lqhamuf5_NqL"
      },
      "source": [
        "### Preliminaries"
      ]
    },
    {
      "cell_type": "code",
      "metadata": {
        "id": "fPo-O6O965id"
      },
      "source": [
        "def retrieveRankBestActors(rank,top10):\n",
        "  \"\"\"Returns the rank of the best actor and actresses of all time by IMDB according to the rank parameter.\n",
        "\n",
        "  Parameters\n",
        "  -----------\n",
        "  rank: Dict[\"int or str\",float]\n",
        "    Dictiornary in which for each nodeid is stored a rank value according to same strategy(PageRank,HITS,...)\n",
        "  top10: Dict[int,str]\n",
        "    Dictionary in which are stored (nodeid,actorName) relations for the best actors and actresses of all time by IMDB\n",
        "\n",
        "  Returns\n",
        "  -----------\n",
        "  List[Tuple[str,\"int or float\"]]\n",
        "    List of (actorName,rankValue) pairs sorted by rankValue in descending order.\n",
        "  \"\"\"\n",
        "  rank = dict([(int(k),v) for k,v in rank.items()])\n",
        "  rankBest = []\n",
        "  for actor,value in rank.items():\n",
        "    if actor in top10:\n",
        "      rankBest.append((top10[actor],value))\n",
        "    if rankBest == len(top10): break\n",
        "  return sorted(rankBest,key=lambda x: x[1],reverse=True)"
      ],
      "execution_count": 100,
      "outputs": []
    },
    {
      "cell_type": "code",
      "metadata": {
        "id": "oCKs3fxzUBM6",
        "colab": {
          "base_uri": "https://localhost:8080/"
        },
        "outputId": "f81cd33c-9328-4028-cd3b-b521438280ca"
      },
      "source": [
        "top10actorIMBD"
      ],
      "execution_count": 101,
      "outputs": [
        {
          "output_type": "execute_result",
          "data": {
            "text/plain": [
              "['Katharine Hepburn',\n",
              " 'Jack Nicholson',\n",
              " 'Laurence Olivier',\n",
              " 'Meryl Streep',\n",
              " 'Humphrey Bogart',\n",
              " 'Audrey Hepburn',\n",
              " 'Robert De Niro',\n",
              " 'Bette Davis',\n",
              " 'Cary Grant',\n",
              " 'Marlon Brando']"
            ]
          },
          "metadata": {},
          "execution_count": 101
        }
      ]
    },
    {
      "cell_type": "code",
      "metadata": {
        "id": "TKkx3N56GTDU",
        "colab": {
          "base_uri": "https://localhost:8080/"
        },
        "outputId": "9ebfb70d-2e47-47e7-b4a7-d4dad1d3f090"
      },
      "source": [
        "top_with_deg = retrieveRankBestActors(degrank,top10id)\n",
        "top_with_deg"
      ],
      "execution_count": 102,
      "outputs": [
        {
          "output_type": "execute_result",
          "data": {
            "text/plain": [
              "[('Robert De Niro', 224),\n",
              " ('Bette Davis', 199),\n",
              " ('Cary Grant', 171),\n",
              " ('Humphrey Bogart', 166),\n",
              " ('Meryl Streep', 144),\n",
              " ('Jack Nicholson', 137),\n",
              " ('Laurence Olivier', 131),\n",
              " ('Katharine Hepburn', 111),\n",
              " ('Marlon Brando', 111),\n",
              " ('Audrey Hepburn', 62)]"
            ]
          },
          "metadata": {},
          "execution_count": 102
        }
      ]
    },
    {
      "cell_type": "code",
      "metadata": {
        "id": "v_gXJncJFgI9",
        "colab": {
          "base_uri": "https://localhost:8080/"
        },
        "outputId": "1e0355d6-2196-49dc-f9a5-be83db39e128"
      },
      "source": [
        "top_with_pr = retrieveRankBestActors(prank,top10id)\n",
        "top_with_pr"
      ],
      "execution_count": 103,
      "outputs": [
        {
          "output_type": "execute_result",
          "data": {
            "text/plain": [
              "[('Robert De Niro', 2.4316249e-05),\n",
              " ('Meryl Streep', 1.6213675e-05),\n",
              " ('Jack Nicholson', 1.4998927e-05),\n",
              " ('Bette Davis', 1.3288857e-05),\n",
              " ('Cary Grant', 1.0749847e-05),\n",
              " ('Laurence Olivier', 1.0710573e-05),\n",
              " ('Humphrey Bogart', 1.0283245e-05),\n",
              " ('Marlon Brando', 1.0226178e-05),\n",
              " ('Katharine Hepburn', 8.281349e-06),\n",
              " ('Audrey Hepburn', 5.3749172e-06)]"
            ]
          },
          "metadata": {},
          "execution_count": 103
        }
      ]
    },
    {
      "cell_type": "code",
      "metadata": {
        "id": "WAXSdF6ZULWs",
        "colab": {
          "base_uri": "https://localhost:8080/"
        },
        "outputId": "78e68622-0c21-45ba-eaab-b374332cc0b5"
      },
      "source": [
        "top_with_ts = retrieveRankBestActors(genderrank,top10id)\n",
        "top_with_ts"
      ],
      "execution_count": 104,
      "outputs": [
        {
          "output_type": "execute_result",
          "data": {
            "text/plain": [
              "[('Robert De Niro', 2.4992527e-05),\n",
              " ('Meryl Streep', 1.7349035e-05),\n",
              " ('Jack Nicholson', 1.645434e-05),\n",
              " ('Bette Davis', 1.4833126e-05),\n",
              " ('Cary Grant', 1.1612548e-05),\n",
              " ('Laurence Olivier', 1.1024845e-05),\n",
              " ('Humphrey Bogart', 1.0812544e-05),\n",
              " ('Marlon Brando', 1.0738031e-05),\n",
              " ('Katharine Hepburn', 8.848231e-06),\n",
              " ('Audrey Hepburn', 6.2916442e-06)]"
            ]
          },
          "metadata": {},
          "execution_count": 104
        }
      ]
    },
    {
      "cell_type": "code",
      "metadata": {
        "id": "ehP3DiYRFS3f",
        "colab": {
          "base_uri": "https://localhost:8080/"
        },
        "outputId": "0cd49fac-3c17-4161-83f8-2ce5e6997d06"
      },
      "source": [
        "top_with_hub = retrieveRankBestActors(hubrank,top10id)\n",
        "top_with_hub"
      ],
      "execution_count": 105,
      "outputs": [
        {
          "output_type": "execute_result",
          "data": {
            "text/plain": [
              "[('Robert De Niro', 7.97865e-07),\n",
              " ('Meryl Streep', 7.9061573e-07),\n",
              " ('Jack Nicholson', 4.9817584e-07),\n",
              " ('Laurence Olivier', 3.8291824e-07),\n",
              " ('Bette Davis', 3.595209e-07),\n",
              " ('Audrey Hepburn', 3.4341633e-07),\n",
              " ('Marlon Brando', 2.3579842e-07),\n",
              " ('Humphrey Bogart', 1.7547826e-07),\n",
              " ('Cary Grant', 1.5404576e-07),\n",
              " ('Katharine Hepburn', 1.3111335e-07)]"
            ]
          },
          "metadata": {},
          "execution_count": 105
        }
      ]
    },
    {
      "cell_type": "code",
      "metadata": {
        "id": "M9O2nnrJFUd9",
        "colab": {
          "base_uri": "https://localhost:8080/"
        },
        "outputId": "4c8df9e5-81e7-4fb7-d0d0-a3ea00da2657"
      },
      "source": [
        "top_with_auth = retrieveRankBestActors(authrank,top10id)\n",
        "top_with_auth"
      ],
      "execution_count": 106,
      "outputs": [
        {
          "output_type": "execute_result",
          "data": {
            "text/plain": [
              "[('Robert De Niro', 7.9785565e-07),\n",
              " ('Meryl Streep', 7.906074e-07),\n",
              " ('Jack Nicholson', 4.986056e-07),\n",
              " ('Laurence Olivier', 3.8292146e-07),\n",
              " ('Bette Davis', 3.5954398e-07),\n",
              " ('Audrey Hepburn', 3.4341963e-07),\n",
              " ('Marlon Brando', 2.3582342e-07),\n",
              " ('Humphrey Bogart', 1.7549273e-07),\n",
              " ('Cary Grant', 1.5405966e-07),\n",
              " ('Katharine Hepburn', 1.3112137e-07)]"
            ]
          },
          "metadata": {},
          "execution_count": 106
        }
      ]
    },
    {
      "cell_type": "code",
      "metadata": {
        "id": "dD85t8k9UABi",
        "colab": {
          "base_uri": "https://localhost:8080/"
        },
        "outputId": "364542ab-39fd-486b-e21a-f0d0c8260dea"
      },
      "source": [
        "top_with_harmonic = who_are(top10hrank)\n",
        "top_with_harmonic"
      ],
      "execution_count": 107,
      "outputs": [
        {
          "output_type": "execute_result",
          "data": {
            "text/plain": [
              "[('Robert De Niro', 110977.15045206077),\n",
              " ('Jack Nicholson', 108142.15788351704),\n",
              " ('Marlon Brando', 107205.3959787793),\n",
              " ('Meryl Streep', 106345.61152710133),\n",
              " ('Laurence Olivier', 106052.94185235315),\n",
              " ('Audrey Hepburn', 103289.42753058544),\n",
              " ('Katharine Hepburn', 103148.44960852368),\n",
              " ('Bette Davis', 103095.9291151237),\n",
              " ('Humphrey Bogart', 101559.97298517855),\n",
              " ('Cary Grant', 100351.34953640647)]"
            ]
          },
          "metadata": {},
          "execution_count": 107
        }
      ]
    },
    {
      "cell_type": "code",
      "metadata": {
        "id": "Kon5urs_AsVb"
      },
      "source": [
        "tops = [top_with_deg, top_with_pr, top_with_ts, top_with_hub, top_with_auth, top_with_harmonic]\n",
        "tops = [getOnlyNames(top) for top in tops]\n",
        "tops.insert(0,top10actorIMBD)"
      ],
      "execution_count": 108,
      "outputs": []
    },
    {
      "cell_type": "markdown",
      "metadata": {
        "id": "-ouUojdY_IAL"
      },
      "source": [
        "### Kendalltau similarity heatmap"
      ]
    },
    {
      "cell_type": "code",
      "metadata": {
        "id": "gQe0D7mX2ZHv"
      },
      "source": [
        "from scipy.stats import kendalltau\n",
        "\n",
        "def kendalltau_sim_matrix(vectors):\n",
        "  \"\"\"Returns similarity matrix according to kendalltau distance for vectors and the corresponding p_values matrix\"\"\"\n",
        "  sim_matrix = np.zeros((len(vectors),len(vectors)))\n",
        "  p_values = np.zeros((len(vectors),len(vectors)))\n",
        "  for i,a in enumerate(vectors):\n",
        "    for j,b in enumerate(vectors):\n",
        "      sim_matrix[i][j], p_values[i][j] = kendalltau(a,b)\n",
        "  return sim_matrix, p_values"
      ],
      "execution_count": 109,
      "outputs": []
    },
    {
      "cell_type": "code",
      "metadata": {
        "id": "CuMGUnzW4d0G"
      },
      "source": [
        "sim , pvalues = kendalltau_sim_matrix(tops)\n",
        "columns =  ['IMDB','Deg','PR','Ts-PR','Hub','Auth','Harmonic']\n",
        "df = pd.DataFrame(sim,index = columns, columns = columns)"
      ],
      "execution_count": 110,
      "outputs": []
    },
    {
      "cell_type": "code",
      "metadata": {
        "colab": {
          "base_uri": "https://localhost:8080/",
          "height": 331
        },
        "id": "z5k25uvq9iOk",
        "outputId": "1ec7d094-fc0e-4e02-e225-58ee3945d7d8"
      },
      "source": [
        "#Plot heatmap of kendalltau similarity matrix\n",
        "plt.figure(figsize=(7,5))\n",
        "sns.heatmap(df,vmin=-1,vmax=1,annot=True,linewidths=.2)\n",
        "plt.savefig('kendalltau-heatmap.pdf')\n",
        "plt.show()"
      ],
      "execution_count": 111,
      "outputs": [
        {
          "output_type": "display_data",
          "data": {
            "image/png": "[encoded data removed]",
            "text/plain": [
              "<Figure size 504x360 with 2 Axes>"
            ]
          },
          "metadata": {
            "needs_background": "light"
          }
        }
      ]
    },
    {
      "cell_type": "code",
      "metadata": {
        "colab": {
          "base_uri": "https://localhost:8080/"
        },
        "id": "jbG2diGB9lHM",
        "outputId": "36381a06-22cc-42d1-9d09-6f8bf031c741"
      },
      "source": [
        "print(f\"IMBD-Harmonic p_value : {pvalues[0][6]}\")\n",
        "print(f\"IMDB-Auth p_value: {pvalues[0][5]}\")"
      ],
      "execution_count": 112,
      "outputs": [
        {
          "output_type": "stream",
          "text": [
            "IMBD-Harmonic p_value : 0.07255015432098766\n",
            "IMDB-Auth p_value: 0.04662257495590829\n"
          ],
          "name": "stdout"
        }
      ]
    },
    {
      "cell_type": "markdown",
      "metadata": {
        "id": "o5c4Gkej_TzE"
      },
      "source": [
        "### Hamming similarity heatmap"
      ]
    },
    {
      "cell_type": "code",
      "metadata": {
        "id": "HEL6MDKg_WTA"
      },
      "source": [
        "from scipy.spatial import distance\n",
        "\n",
        "def hamming_sim_matrix(vectors):\n",
        "  \"\"\"Returns similarity matrix according to hamming distance for vectors.\"\"\"\n",
        "  sim_matrix = np.zeros((len(vectors),len(vectors)))\n",
        "  for i,a in enumerate(vectors):\n",
        "    for j,b in enumerate(vectors):\n",
        "      sim_matrix[i][j] = 1 - distance.hamming(a,b)\n",
        "  return sim_matrix"
      ],
      "execution_count": 113,
      "outputs": []
    },
    {
      "cell_type": "code",
      "metadata": {
        "id": "kc2_rqQ3AOnd"
      },
      "source": [
        "sim = hamming_sim_matrix(tops)\n",
        "columns =  ['IMDB','Deg','PR','Ts-PR','Hub','Auth','Harmonic']\n",
        "df = pd.DataFrame(sim,index = columns, columns = columns)"
      ],
      "execution_count": 114,
      "outputs": []
    },
    {
      "cell_type": "code",
      "metadata": {
        "colab": {
          "base_uri": "https://localhost:8080/",
          "height": 331
        },
        "id": "o8Ia1ZvjAdfR",
        "outputId": "4ce6a405-a932-4f5e-ea00-806b7738e95a"
      },
      "source": [
        "#Plot heatmap for hamming similarity matrix\n",
        "plt.figure(figsize=(7,5))\n",
        "sns.heatmap(df,vmin=0,vmax=1,annot=True,linewidths=.2)\n",
        "plt.savefig('hamming-heatmap.pdf')\n",
        "plt.show()"
      ],
      "execution_count": 115,
      "outputs": [
        {
          "output_type": "display_data",
          "data": {
            "image/png": "[encoded data removed]",
            "text/plain": [
              "<Figure size 504x360 with 2 Axes>"
            ]
          },
          "metadata": {
            "needs_background": "light"
          }
        }
      ]
    }
  ]
}